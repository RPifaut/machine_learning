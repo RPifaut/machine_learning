{
 "cells": [
  {
   "cell_type": "code",
   "execution_count": 1,
   "metadata": {},
   "outputs": [],
   "source": [
    "import sklearn\n",
    "from sklearn.datasets import load_breast_cancer\n",
    "from sklearn.model_selection import train_test_split\n",
    "from sklearn.linear_model import LogisticRegression\n",
    "import pandas as pd\n",
    "import numpy as np\n",
    "import plotly.express as px\n",
    "import plotly.graph_objects as go\n",
    "import matplotlib.pyplot as plt"
   ]
  },
  {
   "cell_type": "markdown",
   "metadata": {},
   "source": [
    "### Data Loading"
   ]
  },
  {
   "cell_type": "code",
   "execution_count": 2,
   "metadata": {},
   "outputs": [
    {
     "data": {
      "text/html": [
       "<div>\n",
       "<style scoped>\n",
       "    .dataframe tbody tr th:only-of-type {\n",
       "        vertical-align: middle;\n",
       "    }\n",
       "\n",
       "    .dataframe tbody tr th {\n",
       "        vertical-align: top;\n",
       "    }\n",
       "\n",
       "    .dataframe thead th {\n",
       "        text-align: right;\n",
       "    }\n",
       "</style>\n",
       "<table border=\"1\" class=\"dataframe\">\n",
       "  <thead>\n",
       "    <tr style=\"text-align: right;\">\n",
       "      <th></th>\n",
       "      <th>target</th>\n",
       "      <th>mean radius</th>\n",
       "      <th>mean texture</th>\n",
       "      <th>mean perimeter</th>\n",
       "      <th>mean area</th>\n",
       "      <th>mean smoothness</th>\n",
       "      <th>mean compactness</th>\n",
       "      <th>mean concavity</th>\n",
       "      <th>mean concave points</th>\n",
       "      <th>mean symmetry</th>\n",
       "      <th>...</th>\n",
       "      <th>worst radius</th>\n",
       "      <th>worst texture</th>\n",
       "      <th>worst perimeter</th>\n",
       "      <th>worst area</th>\n",
       "      <th>worst smoothness</th>\n",
       "      <th>worst compactness</th>\n",
       "      <th>worst concavity</th>\n",
       "      <th>worst concave points</th>\n",
       "      <th>worst symmetry</th>\n",
       "      <th>worst fractal dimension</th>\n",
       "    </tr>\n",
       "  </thead>\n",
       "  <tbody>\n",
       "    <tr>\n",
       "      <th>0</th>\n",
       "      <td>0</td>\n",
       "      <td>1.097064</td>\n",
       "      <td>-2.073335</td>\n",
       "      <td>1.269934</td>\n",
       "      <td>0.984375</td>\n",
       "      <td>1.568466</td>\n",
       "      <td>3.283515</td>\n",
       "      <td>2.652874</td>\n",
       "      <td>2.532475</td>\n",
       "      <td>2.217515</td>\n",
       "      <td>...</td>\n",
       "      <td>1.886690</td>\n",
       "      <td>-1.359293</td>\n",
       "      <td>2.303601</td>\n",
       "      <td>2.001237</td>\n",
       "      <td>1.307686</td>\n",
       "      <td>2.616665</td>\n",
       "      <td>2.109526</td>\n",
       "      <td>2.296076</td>\n",
       "      <td>2.750622</td>\n",
       "      <td>1.937015</td>\n",
       "    </tr>\n",
       "    <tr>\n",
       "      <th>1</th>\n",
       "      <td>0</td>\n",
       "      <td>1.829821</td>\n",
       "      <td>-0.353632</td>\n",
       "      <td>1.685955</td>\n",
       "      <td>1.908708</td>\n",
       "      <td>-0.826962</td>\n",
       "      <td>-0.487072</td>\n",
       "      <td>-0.023846</td>\n",
       "      <td>0.548144</td>\n",
       "      <td>0.001392</td>\n",
       "      <td>...</td>\n",
       "      <td>1.805927</td>\n",
       "      <td>-0.369203</td>\n",
       "      <td>1.535126</td>\n",
       "      <td>1.890489</td>\n",
       "      <td>-0.375612</td>\n",
       "      <td>-0.430444</td>\n",
       "      <td>-0.146749</td>\n",
       "      <td>1.087084</td>\n",
       "      <td>-0.243890</td>\n",
       "      <td>0.281190</td>\n",
       "    </tr>\n",
       "    <tr>\n",
       "      <th>2</th>\n",
       "      <td>0</td>\n",
       "      <td>1.579888</td>\n",
       "      <td>0.456187</td>\n",
       "      <td>1.566503</td>\n",
       "      <td>1.558884</td>\n",
       "      <td>0.942210</td>\n",
       "      <td>1.052926</td>\n",
       "      <td>1.363478</td>\n",
       "      <td>2.037231</td>\n",
       "      <td>0.939685</td>\n",
       "      <td>...</td>\n",
       "      <td>1.511870</td>\n",
       "      <td>-0.023974</td>\n",
       "      <td>1.347475</td>\n",
       "      <td>1.456285</td>\n",
       "      <td>0.527407</td>\n",
       "      <td>1.082932</td>\n",
       "      <td>0.854974</td>\n",
       "      <td>1.955000</td>\n",
       "      <td>1.152255</td>\n",
       "      <td>0.201391</td>\n",
       "    </tr>\n",
       "    <tr>\n",
       "      <th>3</th>\n",
       "      <td>0</td>\n",
       "      <td>-0.768909</td>\n",
       "      <td>0.253732</td>\n",
       "      <td>-0.592687</td>\n",
       "      <td>-0.764464</td>\n",
       "      <td>3.283553</td>\n",
       "      <td>3.402909</td>\n",
       "      <td>1.915897</td>\n",
       "      <td>1.451707</td>\n",
       "      <td>2.867383</td>\n",
       "      <td>...</td>\n",
       "      <td>-0.281464</td>\n",
       "      <td>0.133984</td>\n",
       "      <td>-0.249939</td>\n",
       "      <td>-0.550021</td>\n",
       "      <td>3.394275</td>\n",
       "      <td>3.893397</td>\n",
       "      <td>1.989588</td>\n",
       "      <td>2.175786</td>\n",
       "      <td>6.046041</td>\n",
       "      <td>4.935010</td>\n",
       "    </tr>\n",
       "    <tr>\n",
       "      <th>4</th>\n",
       "      <td>0</td>\n",
       "      <td>1.750297</td>\n",
       "      <td>-1.151816</td>\n",
       "      <td>1.776573</td>\n",
       "      <td>1.826229</td>\n",
       "      <td>0.280372</td>\n",
       "      <td>0.539340</td>\n",
       "      <td>1.371011</td>\n",
       "      <td>1.428493</td>\n",
       "      <td>-0.009560</td>\n",
       "      <td>...</td>\n",
       "      <td>1.298575</td>\n",
       "      <td>-1.466770</td>\n",
       "      <td>1.338539</td>\n",
       "      <td>1.220724</td>\n",
       "      <td>0.220556</td>\n",
       "      <td>-0.313395</td>\n",
       "      <td>0.613179</td>\n",
       "      <td>0.729259</td>\n",
       "      <td>-0.868353</td>\n",
       "      <td>-0.397100</td>\n",
       "    </tr>\n",
       "  </tbody>\n",
       "</table>\n",
       "<p>5 rows × 31 columns</p>\n",
       "</div>"
      ],
      "text/plain": [
       "   target  mean radius  mean texture  mean perimeter  mean area  \\\n",
       "0       0     1.097064     -2.073335        1.269934   0.984375   \n",
       "1       0     1.829821     -0.353632        1.685955   1.908708   \n",
       "2       0     1.579888      0.456187        1.566503   1.558884   \n",
       "3       0    -0.768909      0.253732       -0.592687  -0.764464   \n",
       "4       0     1.750297     -1.151816        1.776573   1.826229   \n",
       "\n",
       "   mean smoothness  mean compactness  mean concavity  mean concave points  \\\n",
       "0         1.568466          3.283515        2.652874             2.532475   \n",
       "1        -0.826962         -0.487072       -0.023846             0.548144   \n",
       "2         0.942210          1.052926        1.363478             2.037231   \n",
       "3         3.283553          3.402909        1.915897             1.451707   \n",
       "4         0.280372          0.539340        1.371011             1.428493   \n",
       "\n",
       "   mean symmetry  ...  worst radius  worst texture  worst perimeter  \\\n",
       "0       2.217515  ...      1.886690      -1.359293         2.303601   \n",
       "1       0.001392  ...      1.805927      -0.369203         1.535126   \n",
       "2       0.939685  ...      1.511870      -0.023974         1.347475   \n",
       "3       2.867383  ...     -0.281464       0.133984        -0.249939   \n",
       "4      -0.009560  ...      1.298575      -1.466770         1.338539   \n",
       "\n",
       "   worst area  worst smoothness  worst compactness  worst concavity  \\\n",
       "0    2.001237          1.307686           2.616665         2.109526   \n",
       "1    1.890489         -0.375612          -0.430444        -0.146749   \n",
       "2    1.456285          0.527407           1.082932         0.854974   \n",
       "3   -0.550021          3.394275           3.893397         1.989588   \n",
       "4    1.220724          0.220556          -0.313395         0.613179   \n",
       "\n",
       "   worst concave points  worst symmetry  worst fractal dimension  \n",
       "0              2.296076        2.750622                 1.937015  \n",
       "1              1.087084       -0.243890                 0.281190  \n",
       "2              1.955000        1.152255                 0.201391  \n",
       "3              2.175786        6.046041                 4.935010  \n",
       "4              0.729259       -0.868353                -0.397100  \n",
       "\n",
       "[5 rows x 31 columns]"
      ]
     },
     "execution_count": 2,
     "metadata": {},
     "output_type": "execute_result"
    }
   ],
   "source": [
    "breast = load_breast_cancer()\n",
    "breast.data = sklearn.preprocessing.scale(breast.data)\n",
    "df_data = pd.DataFrame(breast.data, columns=breast.feature_names)\n",
    "df_data.insert(0,\"target\", breast.target)\n",
    "df_data.head()"
   ]
  },
  {
   "cell_type": "code",
   "execution_count": 3,
   "metadata": {},
   "outputs": [
    {
     "name": "stdout",
     "output_type": "stream",
     "text": [
      "Dimensions of the training set: (455, 30)\n"
     ]
    }
   ],
   "source": [
    "# Split Dataset\n",
    "X_train, X_test, Y_train, Y_test = train_test_split(breast.data, breast.target, test_size=0.2)\n",
    "Y_train = Y_train.ravel()\n",
    "Y_test = Y_test.ravel()\n",
    "print(f\"Dimensions of the training set: {X_train.shape}\")"
   ]
  },
  {
   "cell_type": "markdown",
   "metadata": {},
   "source": [
    "## Homemade Logistic Regression\n",
    "\n",
    "Our prediction model aims at classifying input between 2 possible values: 0 and 1. The model writes as follows:\n",
    "\n",
    "$$ f_\\theta(\\mathbf{x}) = \\hat{y} = \\frac{1}{1+\\exp\\{-\\theta^T \\mathbf{x}\\}} $$\n",
    "\n",
    "which can be achieved by estimating the following linear model\n",
    "\n",
    "$$ \\text{log}\\left[ \\frac{\\mathbb{P}[y = 1]}{1-\\mathbb{P}[y=1]} \\right] = \\theta^T \\mathbf{x}$$"
   ]
  },
  {
   "cell_type": "markdown",
   "metadata": {},
   "source": [
    "### Model"
   ]
  },
  {
   "cell_type": "code",
   "execution_count": 4,
   "metadata": {},
   "outputs": [],
   "source": [
    "# Select variables to use for the model\n",
    "arr_var_name = np.array([\"mean perimeter\", \"mean compactness\"])\n",
    "arr_target_name = np.array([\"target\"])\n",
    "\n",
    "# Split\n",
    "X_train, X_test, Y_train, Y_test = train_test_split(df_data[arr_var_name].values, df_data[arr_target_name].values, test_size=0.3)\n",
    "Y_train = Y_train.ravel()\n",
    "Y_test = Y_test.ravel()\n",
    "X_train = np.c_[np.ones(X_train.shape[0]), X_train]\n",
    "X_test = np.c_[np.ones(X_test.shape[0]), X_test]"
   ]
  },
  {
   "cell_type": "code",
   "execution_count": 5,
   "metadata": {},
   "outputs": [],
   "source": [
    "# Get the number of parameters\n",
    "thetas = np.ones(arr_var_name.shape[0] + 1)\n",
    "thetas *= 0.001\n",
    "\n",
    "# Response function\n",
    "def logistic_regression(thetas : np.array, x : np.array) -> float:\n",
    "    return 1 / (1 + np.exp(-x @ thetas))"
   ]
  },
  {
   "cell_type": "markdown",
   "metadata": {},
   "source": [
    "## Loss function\n",
    "\n",
    "We want a cost function that allows to minimise the Cross-Entropy cost function defined as follows:\n",
    "\n",
    "$$ \\hat{\\theta} = \\underset{\\theta}{\\operatorname{argmin}} \\: J(\\theta) = -\\sum_{i=1}^{N}  y_i \\: \\operatorname{log}(f_\\theta(\\mathbf{x}_i)) + (1 - y_i) \\: \\operatorname{log}(1 - f_\\theta(\\mathbf{x}_i))"
   ]
  },
  {
   "cell_type": "code",
   "execution_count": 6,
   "metadata": {},
   "outputs": [],
   "source": [
    "# Definition of the cross entropy function\n",
    "def cross_entropy(Y : np.array, Y_pred : np.array) -> float:\n",
    "\n",
    "    # Compute the loss for each row\n",
    "    arr_cross = Y * np.log(Y_pred) + (1-Y) * np.log(1 - Y_pred)\n",
    "    \n",
    "    # Return\n",
    "    return 1 / Y_pred.shape[0] * np.sum(arr_cross)"
   ]
  },
  {
   "cell_type": "code",
   "execution_count": 12,
   "metadata": {},
   "outputs": [
    {
     "data": {
      "image/png": "[encoded data removed]",
      "text/plain": [
       "<Figure size 1000x600 with 1 Axes>"
      ]
     },
     "metadata": {},
     "output_type": "display_data"
    }
   ],
   "source": [
    "import numpy as np\n",
    "import matplotlib.pyplot as plt\n",
    "from mpl_toolkits.mplot3d import Axes3D\n",
    "\n",
    "\n",
    "# Generate synthetic data\n",
    "np.random.seed(42)\n",
    "X = np.linspace(0, 10, 20)   # 20 data points\n",
    "true_theta0, true_theta1 = 1, 2  # True parameters\n",
    "# Y = true_theta0 + true_theta1 * X + np.random.normal(scale=2, size=X.shape)  # Add noise\n",
    "Y = true_theta0 + true_theta1 * X \n",
    "\n",
    "# Define MSE Loss Function\n",
    "def mse_loss(theta0, theta1, X, Y):\n",
    "    Y_pred = theta0 + theta1 * X\n",
    "    return np.mean((Y - Y_pred) ** 2)\n",
    "\n",
    "# Create meshgrid of theta values\n",
    "theta0_vals = np.linspace(0, 6, 100)\n",
    "theta1_vals = np.linspace(0, 4, 100)\n",
    "Theta0, Theta1 = np.meshgrid(theta0_vals, theta1_vals)\n",
    "\n",
    "# Compute loss values\n",
    "Loss = np.array([[mse_loss(t0, t1, X, Y) for t1 in theta1_vals] for t0 in theta0_vals])\n",
    "\n",
    "# Plot 3D loss surface\n",
    "fig = plt.figure(figsize=(10, 6))\n",
    "ax = fig.add_subplot(111, projection='3d')\n",
    "ax.plot_surface(Theta0, Theta1, Loss.T, cmap='viridis')\n",
    "\n",
    "# Labels\n",
    "ax.set_xlabel(r'$\\theta_0$ (Intercept)')\n",
    "ax.set_ylabel(r'$\\theta_1$ (Slope)')\n",
    "ax.set_zlabel('MSE Loss')\n",
    "ax.set_title('Loss Function for Least Squares in Simple Linear Regression')\n",
    "plt.show()\n"
   ]
  },
  {
   "cell_type": "code",
   "execution_count": null,
   "metadata": {},
   "outputs": [
    {
     "data": {
      "image/png": "[encoded data removed]",
      "text/plain": [
       "<Figure size 1000x600 with 2 Axes>"
      ]
     },
     "metadata": {},
     "output_type": "display_data"
    }
   ],
   "source": [
    "import numpy as np\n",
    "import matplotlib.pyplot as plt\n",
    "\n",
    "# Generate synthetic data\n",
    "np.random.seed(42)\n",
    "X = np.linspace(0, 10, 20)   # 20 data points\n",
    "true_theta0, true_theta1 = 3, 2  # True parameters\n",
    "Y = true_theta0 + true_theta1 * X + np.random.normal(scale=2, size=X.shape)\n",
    "\n",
    "# Define MSE Loss Function\n",
    "def mse_loss(theta0, theta1, X, Y):\n",
    "    Y_pred = theta0 + theta1 * X\n",
    "    return np.mean((Y - Y_pred) ** 2)\n",
    "\n",
    "# Create meshgrid of theta values (theta0, theta1)\n",
    "theta0_vals = np.linspace(0, 6, 100)  # Range for theta0\n",
    "theta1_vals = np.linspace(0, 4, 100)  # Range for theta1\n",
    "Theta0, Theta1 = np.meshgrid(theta0_vals, theta1_vals)\n",
    "\n",
    "# Compute loss values for each (theta0, theta1) pair\n",
    "Loss = np.array([[mse_loss(t0, t1, X, Y) for t1 in theta1_vals] for t0 in theta0_vals])\n",
    "\n",
    "# Create contour plot\n",
    "plt.figure(figsize=(10, 6))\n",
    "cp = plt.contour(Theta0, Theta1, Loss.T, levels=10, cmap='viridis')\n",
    "\n",
    "# Adding labels\n",
    "plt.colorbar(cp)\n",
    "plt.xlabel(r'$\\theta_0$ (Intercept)')\n",
    "plt.ylabel(r'$\\theta_1$ (Slope)')\n",
    "plt.title('Contour Plot of MSE Loss Function for Linear Regression')\n",
    "\n",
    "plt.show()"
   ]
  },
  {
   "cell_type": "markdown",
   "metadata": {},
   "source": [
    "## Gradient Descent Algorithm\n",
    "\n",
    "We minimise the above function using standard Gradient Descent Algorithm, which is defined as follows, with $\\alpha$ the learning rate:\n",
    "\n",
    "\\begin{cases}\n",
    "    \\theta_0 = \\theta_0 \\\\\n",
    "    \\theta_j = \\theta_j - \\alpha * \\frac{\\partial J(\\theta)}{\\partial \\theta_j}\n",
    "\\end{cases}\n",
    "\n",
    "\n",
    "The partial derivatives of each element are given by \n",
    "\n",
    "$$ \\frac{\\partial J(\\theta)}{\\theta_j} = \\sum_{i=1}^{N}(f_{\\theta}(\\mathbf{x}_i) - y_i)\\mathbf{x}_i^{(j)}$$"
   ]
  },
  {
   "cell_type": "code",
   "execution_count": 289,
   "metadata": {},
   "outputs": [],
   "source": [
    "# Weights update\n",
    "def partial_j(Y : np.array, Y_pred : np.array, X_j : np.array):\n",
    "\n",
    "    arr_pdj = (Y_pred - Y)\n",
    "    S = arr_pdj.T @ X_j\n",
    "    return S\n",
    "\n",
    "# Update Gradient\n",
    "def update_gradient(Y : np.array, Y_pred : np.array, X : np.array) -> np.array:\n",
    "\n",
    "    arr_grad = np.zeros(X.shape[1])\n",
    "    for j in range(X.shape[1]):\n",
    "        arr_grad[j] = partial_j(Y, Y_pred, X[:, j])\n",
    "    return arr_grad\n",
    "\n",
    "# Update theta\n",
    "def update_thetas(arr_thetas : np.array, arr_grad : np.array, alpha : float) -> np.array:\n",
    "\n",
    "    arr_thetas = arr_thetas - alpha * arr_grad\n",
    "    return arr_thetas"
   ]
  },
  {
   "cell_type": "markdown",
   "metadata": {},
   "source": [
    "## Fitting the model to the data"
   ]
  },
  {
   "cell_type": "code",
   "execution_count": 295,
   "metadata": {},
   "outputs": [],
   "source": [
    "# Fitting the model via gradient descent algorithm\n",
    "def fit(Y : np.array, X : np.array) -> np.array:\n",
    "\n",
    "    # Initial Thetas\n",
    "    arr_thetas = np.ones(X.shape[1]) * 5\n",
    "\n",
    "    # Optimisation parameters\n",
    "    TOL = 10**(-5)\n",
    "    MAX_ITER = 1000\n",
    "    ALPHA = 0.01\n",
    "    previous_loss = 0\n",
    "\n",
    "    # Storage values\n",
    "    l_thetas = []\n",
    "    l_loss = []\n",
    "    l_pred = []\n",
    "\n",
    "        \n",
    "    # Initial Conditions\n",
    "    Y_pred = logistic_regression(arr_thetas, X)\n",
    "    curr_loss = cross_entropy(Y, Y_pred)\n",
    "    l_thetas.append(arr_thetas)\n",
    "    l_pred.append(Y_pred)\n",
    "    l_loss.append(curr_loss)\n",
    "    i = 0\n",
    "\n",
    "    # Loop to fit the data\n",
    "    while (i <= MAX_ITER) and (abs(curr_loss - previous_loss) > TOL):\n",
    "\n",
    "\n",
    "        previous_loss = curr_loss\n",
    "\n",
    "        # Update weights\n",
    "        arr_grad = update_gradient(Y, Y_pred, X)\n",
    "        arr_thetas = update_thetas(arr_thetas, arr_grad, ALPHA)\n",
    "\n",
    "        # Compute new predictions\n",
    "        Y_pred = logistic_regression(arr_thetas, X)\n",
    "        curr_loss = cross_entropy(Y, Y_pred)\n",
    "\n",
    "        # Store the data\n",
    "        l_thetas.append(arr_thetas)\n",
    "        l_loss.append(curr_loss)\n",
    "        l_pred.append(Y_pred)\n",
    "\n",
    "        # Move to next iteration\n",
    "        i+=1\n",
    "\n",
    "    print(f\"Convergence reached after {i} iterations\")\n",
    "    return l_pred, l_thetas, l_loss"
   ]
  },
  {
   "cell_type": "code",
   "execution_count": 296,
   "metadata": {},
   "outputs": [
    {
     "name": "stdout",
     "output_type": "stream",
     "text": [
      "Convergence reached after 53 iterations\n"
     ]
    },
    {
     "name": "stderr",
     "output_type": "stream",
     "text": [
      "/var/folders/0j/xg84xfs95fvgnf6ybchnln980000gn/T/ipykernel_36908/3846941191.py:5: RuntimeWarning:\n",
      "\n",
      "divide by zero encountered in log\n",
      "\n"
     ]
    }
   ],
   "source": [
    "l_pred, l_thetas, l_loss = fit(Y_train, X_train)"
   ]
  },
  {
   "cell_type": "markdown",
   "metadata": {},
   "source": [
    "## Visual Inspection of the Optimisation Process"
   ]
  },
  {
   "cell_type": "code",
   "execution_count": null,
   "metadata": {},
   "outputs": [
    {
     "data": {
      "text/plain": [
       "[array([5., 5., 5.]),\n",
       " array([4.91895922, 2.40725359, 2.70422095]),\n",
       " array([3.98174227, 0.41209477, 1.04791962]),\n",
       " array([ 2.63744171, -1.16444419, -0.2065026 ]),\n",
       " array([ 1.63723253, -2.09766499, -0.97422362]),\n",
       " array([ 1.31238559, -2.31873453, -1.12023268]),\n",
       " array([ 1.12711746, -2.46483897, -1.19338196]),\n",
       " array([ 1.01356822, -2.57900239, -1.23721994]),\n",
       " array([ 0.94193107, -2.67495758, -1.26615077]),\n",
       " array([ 0.89609636, -2.75867646, -1.28647626]),\n",
       " array([ 0.86660013, -2.83328602, -1.3014109 ]),\n",
       " array([ 0.84763929, -2.90066296, -1.31277011]),\n",
       " array([ 0.83555958, -2.96205598, -1.32165676]),\n",
       " array([ 0.82801577, -3.01836164, -1.32877803]),\n",
       " array([ 0.82348051, -3.0702601 , -1.33460629]),\n",
       " array([ 0.82094728, -3.11828809, -1.33946719]),\n",
       " array([ 0.81974637, -3.16288158, -1.34359094]),\n",
       " array([ 0.81942869, -3.20440239, -1.34714364]),\n",
       " array([ 0.81969128, -3.24315579, -1.35024724]),\n",
       " array([ 0.82032886, -3.2794028 , -1.3529926 ]),\n",
       " array([ 0.82120201, -3.31336897, -1.35544833]),\n",
       " array([ 0.82221596, -3.34525098, -1.35766684]),\n",
       " array([ 0.82330642, -3.37522163, -1.35968862]),\n",
       " array([ 0.82443002, -3.40343377, -1.36154524]),\n",
       " array([ 0.82555772, -3.43002337, -1.36326161]),\n",
       " array([ 0.8266704 , -3.45511202, -1.36485751]),\n",
       " array([ 0.82775575, -3.47880893, -1.36634883]),\n",
       " array([ 0.82880615, -3.50121261, -1.36774842]),\n",
       " array([ 0.82981721, -3.52241228, -1.36906678]),\n",
       " array([ 0.83078674, -3.54248895, -1.37031254]),\n",
       " array([ 0.83171401, -3.56151648, -1.37149287]),\n",
       " array([ 0.8325993 , -3.57956236, -1.3726138 ]),\n",
       " array([ 0.83344353, -3.59668846, -1.3736804 ]),\n",
       " array([ 0.83424801, -3.61295158, -1.37469698]),\n",
       " array([ 0.83501431, -3.62840406, -1.37566726]),\n",
       " array([ 0.8357441 , -3.64309417, -1.37659447]),\n",
       " array([ 0.83643912, -3.65706655, -1.37748141]),\n",
       " array([ 0.83710108, -3.67036253, -1.37833056]),\n",
       " array([ 0.83773168, -3.68302049, -1.37914411]),\n",
       " array([ 0.83833254, -3.69507608, -1.37992403]),\n",
       " array([ 0.83890523, -3.70656249, -1.3806721 ]),\n",
       " array([ 0.83945124, -3.71751067, -1.38138993]),\n",
       " array([ 0.83997195, -3.72794951, -1.38207897]),\n",
       " array([ 0.84046871, -3.737906  , -1.38274059]),\n",
       " array([ 0.84094276, -3.74740542, -1.38337602]),\n",
       " array([ 0.84139527, -3.75647144, -1.38398643]),\n",
       " array([ 0.84182736, -3.76512628, -1.38457291]),\n",
       " array([ 0.84224005, -3.77339078, -1.38513645]),\n",
       " array([ 0.84263433, -3.78128455, -1.38567802]),\n",
       " array([ 0.84301112, -3.78882603, -1.38619851]),\n",
       " array([ 0.84337128, -3.79603258, -1.38669878]),\n",
       " array([ 0.84371562, -3.80292058, -1.38717964]),\n",
       " array([ 0.84404492, -3.80950546, -1.38764185]),\n",
       " array([ 0.84435989, -3.81580179, -1.38808614])]"
      ]
     },
     "execution_count": 297,
     "metadata": {},
     "output_type": "execute_result"
    }
   ],
   "source": []
  },
  {
   "cell_type": "code",
   "execution_count": 298,
   "metadata": {},
   "outputs": [
    {
     "name": "stdout",
     "output_type": "stream",
     "text": [
      "Intercept: [0.81840359]\n",
      "Coefficients: [[-3.29360339 -1.28243031]]\n"
     ]
    }
   ],
   "source": [
    "model = LogisticRegression().fit(X_train[:, 1:], Y_train)\n",
    "print(f\"Intercept: {model.intercept_}\")\n",
    "print(f\"Coefficients: {model.coef_}\")"
   ]
  },
  {
   "cell_type": "code",
   "execution_count": null,
   "metadata": {},
   "outputs": [
    {
     "data": {
      "text/plain": [
       "nan"
      ]
     },
     "execution_count": 87,
     "metadata": {},
     "output_type": "execute_result"
    }
   ],
   "source": [
    "# Definition of the cross entropy function\n",
    "def cross_entropy(Y : np.array, Y_pred : np.array) -> float:\n",
    "\n",
    "    # Compute the loss for each row\n",
    "    arr_cross = Y * np.log(Y_pred) + (1-Y) * np.log(1 - Y_pred)\n",
    "\n",
    "    # Return\n",
    "    return 1 / y_pred.shape[0] * np.sum(arr_cross)"
   ]
  },
  {
   "cell_type": "code",
   "execution_count": 183,
   "metadata": {},
   "outputs": [
    {
     "data": {
      "application/vnd.plotly.v1+json": {
       "config": {
        "plotlyServerURL": "https://plot.ly"
       },
       "data": [
        {
         "hovertemplate": "color=0<br>target=%{x}<br>mean perimeter=%{y}<extra></extra>",
         "legendgroup": "0",
         "marker": {
          "color": "red",
          "symbol": "circle"
         },
         "mode": "markers",
         "name": "0",
         "orientation": "v",
         "showlegend": true,
         "type": "scatter",
         "x": [
          0,
          0,
          0,
          0,
          0,
          0,
          0,
          0,
          0,
          0,
          0,
          0,
          0,
          0,
          0,
          0,
          0,
          0,
          0,
          0,
          0,
          0,
          0,
          0,
          0,
          0,
          0,
          0,
          0,
          0,
          0,
          0,
          0,
          0,
          0,
          0,
          0,
          0,
          0,
          0,
          0,
          0,
          0,
          0,
          0,
          0,
          0,
          0,
          0,
          0,
          0,
          0,
          0,
          0,
          0,
          0,
          0,
          0,
          0,
          0,
          0,
          0,
          0,
          0,
          0,
          0,
          0,
          0,
          0,
          0,
          0,
          0,
          0,
          0,
          0,
          0,
          0,
          0,
          0,
          0,
          0,
          0,
          0,
          0,
          0,
          0,
          0,
          0,
          0,
          0,
          0,
          0,
          0,
          0,
          0,
          0,
          0,
          0,
          0,
          0,
          0,
          0,
          0,
          0,
          0,
          0,
          0,
          0,
          0,
          0,
          0,
          0,
          0,
          0,
          0,
          0,
          0,
          0,
          0,
          0,
          0,
          0,
          0,
          0,
          0,
          0,
          0,
          0,
          0,
          0,
          0,
          0,
          0,
          0,
          0,
          0,
          0,
          0,
          0,
          0,
          0,
          0,
          0,
          0,
          0,
          0,
          0,
          0,
          0,
          0,
          0,
          0,
          0,
          0,
          0,
          0,
          0,
          0,
          0,
          0,
          0,
          0,
          0,
          0,
          0,
          0,
          0,
          0,
          0,
          0,
          0,
          0,
          0,
          0,
          0,
          0,
          0,
          0,
          0,
          0,
          0,
          0,
          0,
          0,
          0,
          0,
          0,
          0,
          0,
          0,
          0,
          0,
          0,
          0,
          0,
          0,
          0,
          0,
          0,
          0,
          0,
          0,
          0,
          0,
          0,
          0,
          0,
          0,
          0,
          0,
          0,
          0
         ],
         "xaxis": "x",
         "y": [
          1.2699336881399383,
          1.6859547105508974,
          1.5665031298586416,
          -0.5926871666544732,
          1.7765731510760563,
          -0.38714806746331654,
          1.13812504737607,
          -0.07286683964196806,
          -0.1840803802864819,
          -0.329481787129124,
          0.4420106633418918,
          0.4790818435567294,
          1.6653596104315431,
          0.4832008635806006,
          0.06717984116964147,
          0.19610516791680038,
          0.11413666944176952,
          0.664437744630919,
          1.5665031298586416,
          0.43377262329414995,
          1.8630725715773444,
          0.7426991250844659,
          0.9898403265167186,
          0.22411450407912206,
          1.241100547972842,
          0.4296536032702793,
          0.9486501262780098,
          1.352314088617356,
          -0.5782705965709247,
          0.8580316857528504,
          1.4800037093573535,
          0.6191285243683395,
          0.7468181451083366,
          0.06841554717680279,
          0.147088829632737,
          -0.14700920007164378,
          -0.23845144460157724,
          -0.8266475040103388,
          1.4964797894528372,
          -0.19149461632944978,
          -0.2697559967829961,
          1.3070048683547764,
          -0.2466894846493191,
          1.1669581875431663,
          0.21793597404331608,
          1.3811472287844522,
          0.14750073163512373,
          0.18333620584280055,
          -0.38220524343467127,
          0.22370260207673534,
          1.3028858483309051,
          0.9156979660870429,
          -0.06339309358706488,
          0.4996769436760838,
          1.1628391675192957,
          2.130808873128952,
          3.2758964397650563,
          1.5294319496438036,
          1.1999103477341333,
          0.09395347132480242,
          1.2369815279489713,
          0.33903516274511986,
          0.3431541827689905,
          1.6653596104315431,
          0.1034272173797056,
          -0.1614257701551922,
          -0.1960255383557077,
          2.505639695301203,
          0.274778450372734,
          0.5655812640580182,
          0.9156979660870429,
          1.2122674078057463,
          3.0575883784998994,
          -0.1733709282244174,
          1.2946478082831638,
          1.5829792099541253,
          0.40082046310318303,
          0.5861763641773726,
          1.1628391675192957,
          -0.4221597376662188,
          0.20104799194544504,
          0.5408671439147925,
          -0.5346089843178939,
          1.0475066068509111,
          1.414099388975419,
          1.5953362700257374,
          2.4768065551341056,
          0.7138659849173696,
          0.9939593465405893,
          -0.2524561126827384,
          0.43377262329414995,
          0.7138659849173696,
          3.7125125622953696,
          2.089618672890243,
          0.38022536298382864,
          0.28631170643957254,
          1.0969348471373612,
          0.09889629535344766,
          -0.4456381518022825,
          0.3472732027928617,
          -0.05515505353932359,
          1.0475066068509111,
          1.4635276292618697,
          0.10383911938209232,
          0.9527691463018805,
          2.756899916757326,
          -0.016848167317324133,
          0.2805450784061533,
          0.7303420650128534,
          1.7600970709805726,
          3.976129843823106,
          0.9280550261586554,
          0.03711099499538448,
          -0.04156228746054976,
          1.5541460697870286,
          1.484122729381224,
          0.4378916433180206,
          -0.27634642882118937,
          0.882745805896076,
          1.7477400109089607,
          2.534472835468298,
          1.6694786304554137,
          0.882745805896076,
          1.5294319496438036,
          1.9330959119831501,
          1.5953362700257374,
          0.8662697258005922,
          1.422337429023161,
          -0.022202893348356092,
          1.714787850717993,
          0.4626057634612462,
          0.7509371651322078,
          0.4832008635806006,
          1.6859547105508974,
          0.7838893253231747,
          0.9239360061347848,
          0.330797122697378,
          0.8086034454663997,
          1.8012872712192813,
          2.2790935939883044,
          0.9568881663257517,
          1.191672307686392,
          1.4099803689515484,
          1.4511705691902572,
          0.6932708847980152,
          -0.6989578832703418,
          1.5459080297392873,
          1.7600970709805726,
          1.1010538671612324,
          1.6118123501212211,
          1.8095253112670238,
          0.6150095043444689,
          0.6397236244876939,
          0.5697002840818889,
          0.8168414855141416,
          1.2740527081638096,
          2.600377155850232,
          1.562384109834771,
          0.6232475443922102,
          3.3871099804095697,
          0.2484167222199604,
          1.7230258907657356,
          1.7189068707418638,
          2.0154763124605677,
          2.2749745739644323,
          0.7015089248457571,
          2.0319523925560516,
          1.7642160910044444,
          -0.7689812236761469,
          0.0824202152579639,
          1.5211939095960623,
          0.4296536032702793,
          2.1596420132960485,
          1.3358380085218726,
          1.0639826869463944,
          0.19528136391202577,
          0.4502487033896337,
          0.4172965431986662,
          1.7230258907657356,
          1.3070048683547764,
          -0.03497185542235591,
          0.8415556056573672,
          1.051625626874782,
          1.04338758682704,
          1.9001437517921826,
          1.4717656693096115,
          0.7921273653709165,
          3.9102255234411722,
          1.113410927232845,
          0.734461085036724,
          1.4882417494050948,
          0.6232475443922102,
          1.08869680708962,
          1.208148387781875,
          1.8877866917205708,
          0.01486828686648147,
          2.4768065551341056,
          0.48731988360447126,
          -0.13712355201435386,
          0.21793597404331608,
          1.1875532876625208,
          1.587098229977996,
          3.0287552383328036,
          1.7600970709805726,
          1.8877866917205708,
          0.07418217521022204,
          0.4708438035089881,
          2.101975732961856,
          2.060785532723147,
          1.6159313701450917,
          0.6726757846786608,
          1.9825241522696002
         ],
         "yaxis": "y"
        },
        {
         "hovertemplate": "color=1<br>target=%{x}<br>mean perimeter=%{y}<extra></extra>",
         "legendgroup": "1",
         "marker": {
          "color": "blue",
          "symbol": "circle"
         },
         "mode": "markers",
         "name": "1",
         "orientation": "v",
         "showlegend": true,
         "type": "scatter",
         "x": [
          1,
          1,
          1,
          1,
          1,
          1,
          1,
          1,
          1,
          1,
          1,
          1,
          1,
          1,
          1,
          1,
          1,
          1,
          1,
          1,
          1,
          1,
          1,
          1,
          1,
          1,
          1,
          1,
          1,
          1,
          1,
          1,
          1,
          1,
          1,
          1,
          1,
          1,
          1,
          1,
          1,
          1,
          1,
          1,
          1,
          1,
          1,
          1,
          1,
          1,
          1,
          1,
          1,
          1,
          1,
          1,
          1,
          1,
          1,
          1,
          1,
          1,
          1,
          1,
          1,
          1,
          1,
          1,
          1,
          1,
          1,
          1,
          1,
          1,
          1,
          1,
          1,
          1,
          1,
          1,
          1,
          1,
          1,
          1,
          1,
          1,
          1,
          1,
          1,
          1,
          1,
          1,
          1,
          1,
          1,
          1,
          1,
          1,
          1,
          1,
          1,
          1,
          1,
          1,
          1,
          1,
          1,
          1,
          1,
          1,
          1,
          1,
          1,
          1,
          1,
          1,
          1,
          1,
          1,
          1,
          1,
          1,
          1,
          1,
          1,
          1,
          1,
          1,
          1,
          1,
          1,
          1,
          1,
          1,
          1,
          1,
          1,
          1,
          1,
          1,
          1,
          1,
          1,
          1,
          1,
          1,
          1,
          1,
          1,
          1,
          1,
          1,
          1,
          1,
          1,
          1,
          1,
          1,
          1,
          1,
          1,
          1,
          1,
          1,
          1,
          1,
          1,
          1,
          1,
          1,
          1,
          1,
          1,
          1,
          1,
          1,
          1,
          1,
          1,
          1,
          1,
          1,
          1,
          1,
          1,
          1,
          1,
          1,
          1,
          1,
          1,
          1,
          1,
          1,
          1,
          1,
          1,
          1,
          1,
          1,
          1,
          1,
          1,
          1,
          1,
          1,
          1,
          1,
          1,
          1,
          1,
          1,
          1,
          1,
          1,
          1,
          1,
          1,
          1,
          1,
          1,
          1,
          1,
          1,
          1,
          1,
          1,
          1,
          1,
          1,
          1,
          1,
          1,
          1,
          1,
          1,
          1,
          1,
          1,
          1,
          1,
          1,
          1,
          1,
          1,
          1,
          1,
          1,
          1,
          1,
          1,
          1,
          1,
          1,
          1,
          1,
          1,
          1,
          1,
          1,
          1,
          1,
          1,
          1,
          1,
          1,
          1,
          1,
          1,
          1,
          1,
          1,
          1,
          1,
          1,
          1,
          1,
          1,
          1,
          1,
          1,
          1,
          1,
          1,
          1,
          1,
          1,
          1,
          1,
          1,
          1,
          1,
          1,
          1,
          1,
          1,
          1,
          1,
          1,
          1,
          1,
          1,
          1,
          1,
          1,
          1,
          1,
          1,
          1,
          1,
          1,
          1,
          1,
          1,
          1,
          1,
          1,
          1,
          1,
          1,
          1,
          1,
          1,
          1,
          1,
          1,
          1,
          1,
          1,
          1,
          1,
          1,
          1,
          1,
          1,
          1,
          1,
          1,
          1,
          1,
          1,
          1,
          1,
          1,
          1,
          1,
          1,
          1,
          1,
          1,
          1,
          1,
          1,
          1,
          1,
          1,
          1
         ],
         "xaxis": "x",
         "y": [
          -0.18572798829603052,
          -0.2611060547328675,
          -1.3028062187698126,
          -0.38550045945376793,
          -1.6582776468298694,
          -0.5737396745446668,
          -0.20838259842732024,
          -0.7104911393371803,
          -0.1960255383557077,
          -0.6697128411008588,
          -0.7673336156665983,
          -0.38550045945376793,
          -1.5499474202020653,
          -1.1293954757648488,
          -1.5367665561256787,
          -1.3497630470419406,
          -1.3122799648247157,
          -0.83076652403421,
          -1.3666510291398113,
          -0.43657630774976663,
          -1.3666510291398113,
          -0.5263709442701521,
          -0.16719239818861145,
          -0.3616101433153169,
          -0.7479742215544052,
          -0.225682482527578,
          -0.6186369928048595,
          -0.5020687261293137,
          0.15656257568763962,
          0.10713433540118895,
          -0.2977653329453184,
          -0.22115156050132007,
          -0.584037224604344,
          -1.229899564347298,
          -0.7261434154278895,
          -1.9845040327204433,
          -0.6075156387404084,
          -1.1541095959080738,
          -1.0115915030821416,
          -0.6919555492297612,
          -0.5337851803131194,
          -0.8027571878718878,
          -1.2138353862542017,
          -0.4044479515635737,
          0.24141438817937982,
          -0.9609275567885297,
          -1.488162119844002,
          -0.6359368769051174,
          -1.3687105391517467,
          -0.7673336156665983,
          0.09518917733196373,
          -0.24174666062067446,
          -0.14536159206209576,
          0.3134972385971202,
          -0.53090186629641,
          0.41317752317479556,
          -0.7104911393371803,
          -0.7788668717334367,
          -0.7813382837477594,
          -1.2657350385549746,
          -0.7541527515902117,
          -0.33895553318402716,
          -0.9765798328792389,
          -0.5708563605279575,
          0.24182629018176713,
          0.0824202152579639,
          -0.15854245613848228,
          -0.3484292792389298,
          -1.5940209344574836,
          -1.1611119299486543,
          -0.8690734102562089,
          -0.2742869188092541,
          -0.5642659284897642,
          0.6767948047025321,
          -0.6231679148311174,
          -0.9588680467765943,
          -0.6536486630077624,
          -0.4991854121126044,
          0.1454412216231884,
          -0.9555728307574978,
          0.17509816579505869,
          -0.5403756123513132,
          -0.8962589424137571,
          -1.008296287063045,
          -1.5466522041829687,
          -1.1273359657529134,
          -0.410214579596993,
          -0.43987152376886324,
          -0.7595074776212437,
          -1.1619357339534286,
          -0.7121387473467283,
          -0.6878365292058906,
          -0.5411994163560873,
          -0.40980267759460626,
          -1.2867420406767163,
          -0.3887956754728646,
          -0.5531445744253124,
          -0.4481095638166051,
          -1.1965355021539439,
          -0.2038516764010623,
          0.25541905626054096,
          -0.6779508811486001,
          -0.6033966187165377,
          -1.1088003756454945,
          -0.16842810419577275,
          -0.1391830620262892,
          -1.1059170616287846,
          -0.30559147099067296,
          0.022282522909449334,
          -1.0441317612707213,
          0.22576211208867067,
          -0.43740011175454124,
          -0.832414132043758,
          -0.8723686262753055,
          -1.3081609448008449,
          -0.08975482173983854,
          0.023930130918997358,
          -0.18902320431512717,
          -0.5502612604086031,
          -0.74303139752576,
          -0.14124257203822452,
          -1.0400127412468507,
          -0.32289135509093075,
          -0.28911539089518923,
          -0.986877382938916,
          -0.7455028095400825,
          -0.7698050276809209,
          -0.934565828635756,
          -0.19808504836764304,
          -0.39497420550867113,
          -0.9255039845832401,
          -0.06874781961809742,
          -0.813054737931565,
          -1.2550255864929105,
          -0.6495296429838912,
          -0.8311784260365968,
          -0.2359800325872552,
          -0.12270698193080604,
          -0.7302624354517607,
          -0.324950865102866,
          -0.5000092161173784,
          -0.5807420085852474,
          -0.4151574036256382,
          -0.7516813395758891,
          -0.8155261499458876,
          0.16727202774970412,
          0.2084622279884129,
          -0.3636696533272522,
          -0.6767151751414388,
          -0.4196883256518962,
          -0.1610138681528049,
          -0.9403324566691753,
          -0.030852835398485264,
          -1.0346580152158187,
          -0.4752950959741528,
          -1.0342461132134313,
          -0.757036065606921,
          -0.7306743374541474,
          -0.32536276710525336,
          -1.4667432157198736,
          -0.2586346427185449,
          -0.3813814394298973,
          -0.7265553174302768,
          0.0292848569500299,
          -0.39868132353015445,
          -0.7512694375735018,
          -1.5602449702617425,
          -0.5263709442701521,
          -0.606279932733247,
          -1.313927572834264,
          -0.5506731624109904,
          -1.0482507812945925,
          -0.37685051740363934,
          -0.5749753805518282,
          -0.44151913177841184,
          -0.07986917368254863,
          -0.6540605650101491,
          -0.3068271769978343,
          -0.8249998960007908,
          -0.8480664081344678,
          -0.5803301065828607,
          -0.324950865102866,
          -1.135162103798268,
          0.08983445130093178,
          -1.2492589584594913,
          -0.8435354861082098,
          -0.6977221772631805,
          -1.0614316453709791,
          -0.6305821508740853,
          0.11949139547280206,
          -0.7805144797429854,
          -0.607103736738021,
          -0.7525051435806631,
          -0.8538330361678871,
          -0.4139216976184769,
          -0.28334876286176996,
          -0.14206637604299913,
          -1.4510909396291642,
          -1.3242251228939412,
          -0.5168971982152489,
          -0.277170232825964,
          -0.41598120763041224,
          0.6026524442728558,
          -0.2672845847686735,
          -0.5626183204802157,
          0.23400015213641254,
          -0.17007571220532078,
          0.5902953842012433,
          -0.8987303544280792,
          -0.25039660267080305,
          -0.15236392610267632,
          -0.7747478517095662,
          -0.8773114503039507,
          -0.5444946323751838,
          -0.4666451539240242,
          -0.2545156226946737,
          -0.5432589263680225,
          -0.14824490607880508,
          -0.7656860076570502,
          -1.079967235478398,
          -1.511640533980066,
          -0.5725039685375061,
          -0.09140242974938714,
          -0.1593662601432569,
          -0.36737677134873614,
          -0.8921399223898859,
          -0.6882484312082773,
          -0.6520010549982137,
          -0.3208318450789948,
          -0.3620220453177036,
          -0.5634421244849896,
          -0.8888447063707893,
          0.5079149837238256,
          -0.38467665544899393,
          -0.558499300456345,
          -0.802345285869501,
          -0.8670139002442736,
          -1.327108436910651,
          0.2290573281077673,
          -0.6417035049385366,
          -1.333286966946457,
          -0.4567595058667343,
          -0.8657781942371123,
          -0.7319100434613087,
          0.2574785662724763,
          -0.680010391160536,
          -0.10334758781861295,
          -1.2373138003902657,
          -1.1854141480894926,
          -1.008296287063045,
          -0.9547490267527231,
          -0.8855494903516927,
          -0.4526404858428631,
          -0.432457287725896,
          0.12031519947757607,
          -0.3830290474394453,
          -0.09016672374222583,
          -0.13547594400480525,
          -0.0979928617875804,
          -0.8336498380509194,
          -0.14824490607880508,
          -1.03589372122298,
          -0.5914514606473119,
          0.16109349771389755,
          0.09395347132480242,
          -0.6235798168335048,
          -0.6260512288478274,
          0.07788929323170597,
          -0.4674689579287982,
          -0.23186101256338398,
          -0.7043126093013737,
          -0.32412706109809203,
          -0.38550045945376793,
          -1.2476113504499429,
          0.011573070847384837,
          -0.7450909075376958,
          -0.31671282505512416,
          -0.21003020643686826,
          -0.2466894846493191,
          -1.2731492745979422,
          -0.6421154069409238,
          -1.2554374884952975,
          -0.6227560128287307,
          0.18457191184996188,
          -0.5992775986926665,
          -0.8880209023660153,
          -0.3739672033869294,
          0.018163502885578102,
          -0.12353078593558005,
          -0.7405599855114379,
          -0.5634421244849896,
          -0.13341643399286995,
          -0.19149461632944978,
          -0.1733709282244174,
          0.4461296833657625,
          -0.375614811396478,
          0.09230586331525381,
          -0.6787746851533747,
          -0.5679730465112476,
          0.9321740461825261,
          -0.5411994163560873,
          -0.3257746691076401,
          0.17097914577118806,
          -0.38220524343467127,
          -0.47447129196937876,
          0.27848556839421795,
          -0.44151913177841184,
          -1.2554374884952975,
          -1.1471072618674933,
          -0.5148376882033135,
          -0.8534211341654998,
          0.5243910638193094,
          -0.6449987209576332,
          0.11084145342267289,
          0.09560107933435102,
          -0.7912239318050492,
          -0.3097104910145436,
          -0.3896194794776386,
          -1.318458494860522,
          -0.8513616241535644,
          -0.13341643399286995,
          -1.1932402861348472,
          -1.5421212821567107,
          -0.18655179230080454,
          -0.5366684943298292,
          -0.06833591761571012,
          -0.582389616594796,
          -0.662298605057891,
          -0.6903079412202132,
          -0.1733709282244174,
          -0.8723686262753055,
          -0.6425273089433106,
          -1.8119170937202536,
          -1.797088621634318,
          -0.7133744533538896,
          0.15821018369718823,
          0.1124890614322215,
          -0.29199870491189917,
          -0.09057862574461313,
          -0.19684934236048174,
          -1.09809092358343,
          -1.0758482154545275,
          -1.2735611766003296,
          -0.9506300067288525,
          -0.9662822828195616,
          -0.8435354861082098,
          -0.43740011175454124,
          -1.3575891850872954,
          -0.39003138148002586,
          -1.0832624514974947,
          -1.121981239721881,
          -1.3472916350276183,
          0.18210049983563925,
          -0.7187291793849222,
          -0.024262403360292,
          -0.8773114503039507,
          -1.8143885057345759
         ],
         "yaxis": "y"
        }
       ],
       "layout": {
        "legend": {
         "title": {
          "text": "color"
         },
         "tracegroupgap": 0
        },
        "margin": {
         "t": 60
        },
        "template": {
         "data": {
          "bar": [
           {
            "error_x": {
             "color": "#2a3f5f"
            },
            "error_y": {
             "color": "#2a3f5f"
            },
            "marker": {
             "line": {
              "color": "#E5ECF6",
              "width": 0.5
             },
             "pattern": {
              "fillmode": "overlay",
              "size": 10,
              "solidity": 0.2
             }
            },
            "type": "bar"
           }
          ],
          "barpolar": [
           {
            "marker": {
             "line": {
              "color": "#E5ECF6",
              "width": 0.5
             },
             "pattern": {
              "fillmode": "overlay",
              "size": 10,
              "solidity": 0.2
             }
            },
            "type": "barpolar"
           }
          ],
          "carpet": [
           {
            "aaxis": {
             "endlinecolor": "#2a3f5f",
             "gridcolor": "white",
             "linecolor": "white",
             "minorgridcolor": "white",
             "startlinecolor": "#2a3f5f"
            },
            "baxis": {
             "endlinecolor": "#2a3f5f",
             "gridcolor": "white",
             "linecolor": "white",
             "minorgridcolor": "white",
             "startlinecolor": "#2a3f5f"
            },
            "type": "carpet"
           }
          ],
          "choropleth": [
           {
            "colorbar": {
             "outlinewidth": 0,
             "ticks": ""
            },
            "type": "choropleth"
           }
          ],
          "contour": [
           {
            "colorbar": {
             "outlinewidth": 0,
             "ticks": ""
            },
            "colorscale": [
             [
              0,
              "#0d0887"
             ],
             [
              0.1111111111111111,
              "#46039f"
             ],
             [
              0.2222222222222222,
              "#7201a8"
             ],
             [
              0.3333333333333333,
              "#9c179e"
             ],
             [
              0.4444444444444444,
              "#bd3786"
             ],
             [
              0.5555555555555556,
              "#d8576b"
             ],
             [
              0.6666666666666666,
              "#ed7953"
             ],
             [
              0.7777777777777778,
              "#fb9f3a"
             ],
             [
              0.8888888888888888,
              "#fdca26"
             ],
             [
              1,
              "#f0f921"
             ]
            ],
            "type": "contour"
           }
          ],
          "contourcarpet": [
           {
            "colorbar": {
             "outlinewidth": 0,
             "ticks": ""
            },
            "type": "contourcarpet"
           }
          ],
          "heatmap": [
           {
            "colorbar": {
             "outlinewidth": 0,
             "ticks": ""
            },
            "colorscale": [
             [
              0,
              "#0d0887"
             ],
             [
              0.1111111111111111,
              "#46039f"
             ],
             [
              0.2222222222222222,
              "#7201a8"
             ],
             [
              0.3333333333333333,
              "#9c179e"
             ],
             [
              0.4444444444444444,
              "#bd3786"
             ],
             [
              0.5555555555555556,
              "#d8576b"
             ],
             [
              0.6666666666666666,
              "#ed7953"
             ],
             [
              0.7777777777777778,
              "#fb9f3a"
             ],
             [
              0.8888888888888888,
              "#fdca26"
             ],
             [
              1,
              "#f0f921"
             ]
            ],
            "type": "heatmap"
           }
          ],
          "heatmapgl": [
           {
            "colorbar": {
             "outlinewidth": 0,
             "ticks": ""
            },
            "colorscale": [
             [
              0,
              "#0d0887"
             ],
             [
              0.1111111111111111,
              "#46039f"
             ],
             [
              0.2222222222222222,
              "#7201a8"
             ],
             [
              0.3333333333333333,
              "#9c179e"
             ],
             [
              0.4444444444444444,
              "#bd3786"
             ],
             [
              0.5555555555555556,
              "#d8576b"
             ],
             [
              0.6666666666666666,
              "#ed7953"
             ],
             [
              0.7777777777777778,
              "#fb9f3a"
             ],
             [
              0.8888888888888888,
              "#fdca26"
             ],
             [
              1,
              "#f0f921"
             ]
            ],
            "type": "heatmapgl"
           }
          ],
          "histogram": [
           {
            "marker": {
             "pattern": {
              "fillmode": "overlay",
              "size": 10,
              "solidity": 0.2
             }
            },
            "type": "histogram"
           }
          ],
          "histogram2d": [
           {
            "colorbar": {
             "outlinewidth": 0,
             "ticks": ""
            },
            "colorscale": [
             [
              0,
              "#0d0887"
             ],
             [
              0.1111111111111111,
              "#46039f"
             ],
             [
              0.2222222222222222,
              "#7201a8"
             ],
             [
              0.3333333333333333,
              "#9c179e"
             ],
             [
              0.4444444444444444,
              "#bd3786"
             ],
             [
              0.5555555555555556,
              "#d8576b"
             ],
             [
              0.6666666666666666,
              "#ed7953"
             ],
             [
              0.7777777777777778,
              "#fb9f3a"
             ],
             [
              0.8888888888888888,
              "#fdca26"
             ],
             [
              1,
              "#f0f921"
             ]
            ],
            "type": "histogram2d"
           }
          ],
          "histogram2dcontour": [
           {
            "colorbar": {
             "outlinewidth": 0,
             "ticks": ""
            },
            "colorscale": [
             [
              0,
              "#0d0887"
             ],
             [
              0.1111111111111111,
              "#46039f"
             ],
             [
              0.2222222222222222,
              "#7201a8"
             ],
             [
              0.3333333333333333,
              "#9c179e"
             ],
             [
              0.4444444444444444,
              "#bd3786"
             ],
             [
              0.5555555555555556,
              "#d8576b"
             ],
             [
              0.6666666666666666,
              "#ed7953"
             ],
             [
              0.7777777777777778,
              "#fb9f3a"
             ],
             [
              0.8888888888888888,
              "#fdca26"
             ],
             [
              1,
              "#f0f921"
             ]
            ],
            "type": "histogram2dcontour"
           }
          ],
          "mesh3d": [
           {
            "colorbar": {
             "outlinewidth": 0,
             "ticks": ""
            },
            "type": "mesh3d"
           }
          ],
          "parcoords": [
           {
            "line": {
             "colorbar": {
              "outlinewidth": 0,
              "ticks": ""
             }
            },
            "type": "parcoords"
           }
          ],
          "pie": [
           {
            "automargin": true,
            "type": "pie"
           }
          ],
          "scatter": [
           {
            "fillpattern": {
             "fillmode": "overlay",
             "size": 10,
             "solidity": 0.2
            },
            "type": "scatter"
           }
          ],
          "scatter3d": [
           {
            "line": {
             "colorbar": {
              "outlinewidth": 0,
              "ticks": ""
             }
            },
            "marker": {
             "colorbar": {
              "outlinewidth": 0,
              "ticks": ""
             }
            },
            "type": "scatter3d"
           }
          ],
          "scattercarpet": [
           {
            "marker": {
             "colorbar": {
              "outlinewidth": 0,
              "ticks": ""
             }
            },
            "type": "scattercarpet"
           }
          ],
          "scattergeo": [
           {
            "marker": {
             "colorbar": {
              "outlinewidth": 0,
              "ticks": ""
             }
            },
            "type": "scattergeo"
           }
          ],
          "scattergl": [
           {
            "marker": {
             "colorbar": {
              "outlinewidth": 0,
              "ticks": ""
             }
            },
            "type": "scattergl"
           }
          ],
          "scattermapbox": [
           {
            "marker": {
             "colorbar": {
              "outlinewidth": 0,
              "ticks": ""
             }
            },
            "type": "scattermapbox"
           }
          ],
          "scatterpolar": [
           {
            "marker": {
             "colorbar": {
              "outlinewidth": 0,
              "ticks": ""
             }
            },
            "type": "scatterpolar"
           }
          ],
          "scatterpolargl": [
           {
            "marker": {
             "colorbar": {
              "outlinewidth": 0,
              "ticks": ""
             }
            },
            "type": "scatterpolargl"
           }
          ],
          "scatterternary": [
           {
            "marker": {
             "colorbar": {
              "outlinewidth": 0,
              "ticks": ""
             }
            },
            "type": "scatterternary"
           }
          ],
          "surface": [
           {
            "colorbar": {
             "outlinewidth": 0,
             "ticks": ""
            },
            "colorscale": [
             [
              0,
              "#0d0887"
             ],
             [
              0.1111111111111111,
              "#46039f"
             ],
             [
              0.2222222222222222,
              "#7201a8"
             ],
             [
              0.3333333333333333,
              "#9c179e"
             ],
             [
              0.4444444444444444,
              "#bd3786"
             ],
             [
              0.5555555555555556,
              "#d8576b"
             ],
             [
              0.6666666666666666,
              "#ed7953"
             ],
             [
              0.7777777777777778,
              "#fb9f3a"
             ],
             [
              0.8888888888888888,
              "#fdca26"
             ],
             [
              1,
              "#f0f921"
             ]
            ],
            "type": "surface"
           }
          ],
          "table": [
           {
            "cells": {
             "fill": {
              "color": "#EBF0F8"
             },
             "line": {
              "color": "white"
             }
            },
            "header": {
             "fill": {
              "color": "#C8D4E3"
             },
             "line": {
              "color": "white"
             }
            },
            "type": "table"
           }
          ]
         },
         "layout": {
          "annotationdefaults": {
           "arrowcolor": "#2a3f5f",
           "arrowhead": 0,
           "arrowwidth": 1
          },
          "autotypenumbers": "strict",
          "coloraxis": {
           "colorbar": {
            "outlinewidth": 0,
            "ticks": ""
           }
          },
          "colorscale": {
           "diverging": [
            [
             0,
             "#8e0152"
            ],
            [
             0.1,
             "#c51b7d"
            ],
            [
             0.2,
             "#de77ae"
            ],
            [
             0.3,
             "#f1b6da"
            ],
            [
             0.4,
             "#fde0ef"
            ],
            [
             0.5,
             "#f7f7f7"
            ],
            [
             0.6,
             "#e6f5d0"
            ],
            [
             0.7,
             "#b8e186"
            ],
            [
             0.8,
             "#7fbc41"
            ],
            [
             0.9,
             "#4d9221"
            ],
            [
             1,
             "#276419"
            ]
           ],
           "sequential": [
            [
             0,
             "#0d0887"
            ],
            [
             0.1111111111111111,
             "#46039f"
            ],
            [
             0.2222222222222222,
             "#7201a8"
            ],
            [
             0.3333333333333333,
             "#9c179e"
            ],
            [
             0.4444444444444444,
             "#bd3786"
            ],
            [
             0.5555555555555556,
             "#d8576b"
            ],
            [
             0.6666666666666666,
             "#ed7953"
            ],
            [
             0.7777777777777778,
             "#fb9f3a"
            ],
            [
             0.8888888888888888,
             "#fdca26"
            ],
            [
             1,
             "#f0f921"
            ]
           ],
           "sequentialminus": [
            [
             0,
             "#0d0887"
            ],
            [
             0.1111111111111111,
             "#46039f"
            ],
            [
             0.2222222222222222,
             "#7201a8"
            ],
            [
             0.3333333333333333,
             "#9c179e"
            ],
            [
             0.4444444444444444,
             "#bd3786"
            ],
            [
             0.5555555555555556,
             "#d8576b"
            ],
            [
             0.6666666666666666,
             "#ed7953"
            ],
            [
             0.7777777777777778,
             "#fb9f3a"
            ],
            [
             0.8888888888888888,
             "#fdca26"
            ],
            [
             1,
             "#f0f921"
            ]
           ]
          },
          "colorway": [
           "#636efa",
           "#EF553B",
           "#00cc96",
           "#ab63fa",
           "#FFA15A",
           "#19d3f3",
           "#FF6692",
           "#B6E880",
           "#FF97FF",
           "#FECB52"
          ],
          "font": {
           "color": "#2a3f5f"
          },
          "geo": {
           "bgcolor": "white",
           "lakecolor": "white",
           "landcolor": "#E5ECF6",
           "showlakes": true,
           "showland": true,
           "subunitcolor": "white"
          },
          "hoverlabel": {
           "align": "left"
          },
          "hovermode": "closest",
          "mapbox": {
           "style": "light"
          },
          "paper_bgcolor": "white",
          "plot_bgcolor": "#E5ECF6",
          "polar": {
           "angularaxis": {
            "gridcolor": "white",
            "linecolor": "white",
            "ticks": ""
           },
           "bgcolor": "#E5ECF6",
           "radialaxis": {
            "gridcolor": "white",
            "linecolor": "white",
            "ticks": ""
           }
          },
          "scene": {
           "xaxis": {
            "backgroundcolor": "#E5ECF6",
            "gridcolor": "white",
            "gridwidth": 2,
            "linecolor": "white",
            "showbackground": true,
            "ticks": "",
            "zerolinecolor": "white"
           },
           "yaxis": {
            "backgroundcolor": "#E5ECF6",
            "gridcolor": "white",
            "gridwidth": 2,
            "linecolor": "white",
            "showbackground": true,
            "ticks": "",
            "zerolinecolor": "white"
           },
           "zaxis": {
            "backgroundcolor": "#E5ECF6",
            "gridcolor": "white",
            "gridwidth": 2,
            "linecolor": "white",
            "showbackground": true,
            "ticks": "",
            "zerolinecolor": "white"
           }
          },
          "shapedefaults": {
           "line": {
            "color": "#2a3f5f"
           }
          },
          "ternary": {
           "aaxis": {
            "gridcolor": "white",
            "linecolor": "white",
            "ticks": ""
           },
           "baxis": {
            "gridcolor": "white",
            "linecolor": "white",
            "ticks": ""
           },
           "bgcolor": "#E5ECF6",
           "caxis": {
            "gridcolor": "white",
            "linecolor": "white",
            "ticks": ""
           }
          },
          "title": {
           "x": 0.05
          },
          "xaxis": {
           "automargin": true,
           "gridcolor": "white",
           "linecolor": "white",
           "ticks": "",
           "title": {
            "standoff": 15
           },
           "zerolinecolor": "white",
           "zerolinewidth": 2
          },
          "yaxis": {
           "automargin": true,
           "gridcolor": "white",
           "linecolor": "white",
           "ticks": "",
           "title": {
            "standoff": 15
           },
           "zerolinecolor": "white",
           "zerolinewidth": 2
          }
         }
        },
        "xaxis": {
         "anchor": "y",
         "domain": [
          0,
          1
         ],
         "title": {
          "text": "target"
         }
        },
        "yaxis": {
         "anchor": "x",
         "domain": [
          0,
          1
         ],
         "title": {
          "text": "mean perimeter"
         }
        }
       }
      }
     },
     "metadata": {},
     "output_type": "display_data"
    }
   ],
   "source": [
    "# Visualisation\n",
    "fig = px.scatter(df_data, \"target\", \"mean perimeter\",\n",
    "           color=df_data[\"target\"].astype(str),\n",
    "           color_discrete_map={\"1\": \"blue\", \"0\": \"red\"})\n",
    "fig.show()"
   ]
  },
  {
   "cell_type": "code",
   "execution_count": 184,
   "metadata": {},
   "outputs": [
    {
     "data": {
      "application/vnd.plotly.v1+json": {
       "config": {
        "plotlyServerURL": "https://plot.ly"
       },
       "data": [
        {
         "hovertemplate": "color=0<br>mean perimeter=%{x}<br>mean compactness=%{y}<extra></extra>",
         "legendgroup": "0",
         "marker": {
          "color": "red",
          "symbol": "circle"
         },
         "mode": "markers",
         "name": "0",
         "orientation": "v",
         "showlegend": true,
         "type": "scatter",
         "x": [
          1.2699336881399383,
          1.6859547105508974,
          1.5665031298586416,
          -0.5926871666544732,
          1.7765731510760563,
          -0.38714806746331654,
          1.13812504737607,
          -0.07286683964196806,
          -0.1840803802864819,
          -0.329481787129124,
          0.4420106633418918,
          0.4790818435567294,
          1.6653596104315431,
          0.4832008635806006,
          0.06717984116964147,
          0.19610516791680038,
          0.11413666944176952,
          0.664437744630919,
          1.5665031298586416,
          0.43377262329414995,
          1.8630725715773444,
          0.7426991250844659,
          0.9898403265167186,
          0.22411450407912206,
          1.241100547972842,
          0.4296536032702793,
          0.9486501262780098,
          1.352314088617356,
          -0.5782705965709247,
          0.8580316857528504,
          1.4800037093573535,
          0.6191285243683395,
          0.7468181451083366,
          0.06841554717680279,
          0.147088829632737,
          -0.14700920007164378,
          -0.23845144460157724,
          -0.8266475040103388,
          1.4964797894528372,
          -0.19149461632944978,
          -0.2697559967829961,
          1.3070048683547764,
          -0.2466894846493191,
          1.1669581875431663,
          0.21793597404331608,
          1.3811472287844522,
          0.14750073163512373,
          0.18333620584280055,
          -0.38220524343467127,
          0.22370260207673534,
          1.3028858483309051,
          0.9156979660870429,
          -0.06339309358706488,
          0.4996769436760838,
          1.1628391675192957,
          2.130808873128952,
          3.2758964397650563,
          1.5294319496438036,
          1.1999103477341333,
          0.09395347132480242,
          1.2369815279489713,
          0.33903516274511986,
          0.3431541827689905,
          1.6653596104315431,
          0.1034272173797056,
          -0.1614257701551922,
          -0.1960255383557077,
          2.505639695301203,
          0.274778450372734,
          0.5655812640580182,
          0.9156979660870429,
          1.2122674078057463,
          3.0575883784998994,
          -0.1733709282244174,
          1.2946478082831638,
          1.5829792099541253,
          0.40082046310318303,
          0.5861763641773726,
          1.1628391675192957,
          -0.4221597376662188,
          0.20104799194544504,
          0.5408671439147925,
          -0.5346089843178939,
          1.0475066068509111,
          1.414099388975419,
          1.5953362700257374,
          2.4768065551341056,
          0.7138659849173696,
          0.9939593465405893,
          -0.2524561126827384,
          0.43377262329414995,
          0.7138659849173696,
          3.7125125622953696,
          2.089618672890243,
          0.38022536298382864,
          0.28631170643957254,
          1.0969348471373612,
          0.09889629535344766,
          -0.4456381518022825,
          0.3472732027928617,
          -0.05515505353932359,
          1.0475066068509111,
          1.4635276292618697,
          0.10383911938209232,
          0.9527691463018805,
          2.756899916757326,
          -0.016848167317324133,
          0.2805450784061533,
          0.7303420650128534,
          1.7600970709805726,
          3.976129843823106,
          0.9280550261586554,
          0.03711099499538448,
          -0.04156228746054976,
          1.5541460697870286,
          1.484122729381224,
          0.4378916433180206,
          -0.27634642882118937,
          0.882745805896076,
          1.7477400109089607,
          2.534472835468298,
          1.6694786304554137,
          0.882745805896076,
          1.5294319496438036,
          1.9330959119831501,
          1.5953362700257374,
          0.8662697258005922,
          1.422337429023161,
          -0.022202893348356092,
          1.714787850717993,
          0.4626057634612462,
          0.7509371651322078,
          0.4832008635806006,
          1.6859547105508974,
          0.7838893253231747,
          0.9239360061347848,
          0.330797122697378,
          0.8086034454663997,
          1.8012872712192813,
          2.2790935939883044,
          0.9568881663257517,
          1.191672307686392,
          1.4099803689515484,
          1.4511705691902572,
          0.6932708847980152,
          -0.6989578832703418,
          1.5459080297392873,
          1.7600970709805726,
          1.1010538671612324,
          1.6118123501212211,
          1.8095253112670238,
          0.6150095043444689,
          0.6397236244876939,
          0.5697002840818889,
          0.8168414855141416,
          1.2740527081638096,
          2.600377155850232,
          1.562384109834771,
          0.6232475443922102,
          3.3871099804095697,
          0.2484167222199604,
          1.7230258907657356,
          1.7189068707418638,
          2.0154763124605677,
          2.2749745739644323,
          0.7015089248457571,
          2.0319523925560516,
          1.7642160910044444,
          -0.7689812236761469,
          0.0824202152579639,
          1.5211939095960623,
          0.4296536032702793,
          2.1596420132960485,
          1.3358380085218726,
          1.0639826869463944,
          0.19528136391202577,
          0.4502487033896337,
          0.4172965431986662,
          1.7230258907657356,
          1.3070048683547764,
          -0.03497185542235591,
          0.8415556056573672,
          1.051625626874782,
          1.04338758682704,
          1.9001437517921826,
          1.4717656693096115,
          0.7921273653709165,
          3.9102255234411722,
          1.113410927232845,
          0.734461085036724,
          1.4882417494050948,
          0.6232475443922102,
          1.08869680708962,
          1.208148387781875,
          1.8877866917205708,
          0.01486828686648147,
          2.4768065551341056,
          0.48731988360447126,
          -0.13712355201435386,
          0.21793597404331608,
          1.1875532876625208,
          1.587098229977996,
          3.0287552383328036,
          1.7600970709805726,
          1.8877866917205708,
          0.07418217521022204,
          0.4708438035089881,
          2.101975732961856,
          2.060785532723147,
          1.6159313701450917,
          0.6726757846786608,
          1.9825241522696002
         ],
         "xaxis": "x",
         "y": [
          3.2835146709868264,
          -0.48707167257589423,
          1.05292554434161,
          3.402908991274548,
          0.5393404523102987,
          1.2443354863901803,
          0.08829524233446058,
          1.140102349631058,
          1.6840098087195687,
          2.563358453378346,
          -0.7135418515343508,
          0.4711151264316007,
          2.6808576257249923,
          -0.07847777648013507,
          2.3681582154476257,
          1.0453449525773104,
          -0.612909495863271,
          1.8545731234163139,
          -0.03109907795326128,
          2.0687248407577834,
          -0.04057481765863604,
          0.7838145367089672,
          2.3359407004493513,
          1.5627203404907717,
          0.042811691748661784,
          1.238650042566955,
          0.2152701543864822,
          1.598728151371196,
          0.8956282652323896,
          0.8577253064108905,
          1.2803432972706041,
          0.9771196266986124,
          0.5545016358388982,
          0.10345642586306009,
          -1.005015604871678,
          0.4009946526118274,
          -0.8344522901749326,
          0.3308741787920543,
          2.172957977516906,
          0.7440164299463934,
          0.006803880868237755,
          1.217803415215131,
          0.3555111020260286,
          0.8368786790590658,
          -0.6354617563620629,
          0.4237364279047269,
          0.6094609261300721,
          1.828041052241265,
          0.41426068819935213,
          0.8255077914126162,
          -0.027308782071111273,
          1.4907047187299236,
          0.44837335113870114,
          -0.38094338787569715,
          2.0895714681096083,
          4.568424975035642,
          3.073153249527507,
          1.4167939490280008,
          0.01817476851468752,
          -0.0923123564499821,
          0.30813240349915477,
          -0.014042746483586768,
          0.9657487390521624,
          0.5109132331941745,
          0.1849477873292829,
          -0.3644556007883449,
          1.3675201025600516,
          3.2683534874582265,
          1.1476829413953575,
          1.3428831793260774,
          -0.7034975674466535,
          0.10724672174521009,
          3.455973133624647,
          -0.48745070216410935,
          -0.455991246342265,
          1.0339740649308609,
          0.34034991849742907,
          0.4559539429030006,
          -0.13741687744756606,
          -0.8856212845839563,
          0.49575204966557496,
          0.17736719556498315,
          1.2443354863901803,
          1.178005308452557,
          0.2683342967365807,
          1.1799004563936317,
          0.19252837909358292,
          -0.23729117394221586,
          1.06050613610591,
          -0.7857469880893063,
          0.9695390349343124,
          0.9714341828753871,
          1.6498971457802192,
          3.3896429556870236,
          -0.3098753400853865,
          0.016279620573612513,
          -0.3726047369349672,
          2.5955759683766195,
          0.5867191508371725,
          1.7749769098911663,
          0.4237364279047269,
          -0.3396291627602632,
          0.7288552464177939,
          0.30813240349915477,
          0.29297121997055525,
          1.972072295762961,
          1.373205546383277,
          -0.16034816753457273,
          -0.5931999572760916,
          0.5772434111317978,
          0.8956282652323896,
          0.19442352703465768,
          0.4976471976066497,
          0.8975234131734643,
          0.4976471976066497,
          0.16410115997745864,
          0.30434210761700475,
          1.4319551325566002,
          1.0017565499325867,
          0.0579728752772613,
          1.2102228234508308,
          -0.3953465122278667,
          0.4824860140780502,
          0.9752244787575371,
          1.0661915799291346,
          1.5267125296103479,
          -0.004567006778212009,
          0.27401974055980577,
          0.44647820319762643,
          1.9322741890003872,
          2.3511018839779507,
          3.9240746750701594,
          1.128731461984608,
          0.08450494645231056,
          -0.7853679585010914,
          0.4351073155511764,
          -0.913100929729543,
          -0.27273044044031736,
          0.18873808321143293,
          1.738969099010742,
          -0.6456955552438676,
          -0.8623109649087344,
          0.7762339449446677,
          0.7553873175928429,
          1.437640576379825,
          -0.8566255210855096,
          1.1344169058078333,
          1.505865902258523,
          0.13946423674348413,
          -0.3544113167006479,
          1.5759863760782964,
          0.5222841208406239,
          0.4540587949619259,
          0.6208318137765215,
          0.02386021233791227,
          0.6795813999498449,
          0.4540587949619259,
          0.560187079662123,
          2.5027137192639466,
          2.500818571322872,
          -0.12604598980111628,
          0.16599630791853365,
          1.1855859002168565,
          -0.35479034628886275,
          1.7257030634232173,
          0.8596204543519653,
          0.8937331172913143,
          0.0617631711594113,
          2.1047326516382077,
          -0.7197958397398981,
          0.5203889728995492,
          0.9828050705218372,
          1.9777577395861858,
          2.9044850827718363,
          0.4938569017244997,
          -1.1047003865722205,
          0.9998614019915114,
          2.239288155454529,
          0.8444592708233658,
          0.6549444767158706,
          0.1697866038006834,
          0.1243030532148846,
          0.3574062499671036,
          0.5128083811352492,
          0.24938281732583123,
          -0.10671548080215167,
          0.12619820115595962,
          1.790138093419766,
          1.820460460476965,
          1.6100990390176455,
          0.766758205239293,
          -0.6295867977447305,
          0.4654296826083754,
          0.5184938249584745,
          1.1382072016899827,
          1.208327675509756,
          0.4388976114333264,
          1.5665106363729218,
          0.8065563120018667,
          -0.34815732849510034,
          0.3877286170243026,
          0.5052277893709497,
          2.01376555046661,
          0.5109132331941745,
          1.318246256092103,
          0.20958471056325745,
          1.9777577395861858,
          2.2601347828063534,
          0.2190604502686322,
          -0.017833042365736514,
          -0.03867966971756104,
          3.272143783340377
         ],
         "yaxis": "y"
        },
        {
         "hovertemplate": "color=1<br>mean perimeter=%{x}<br>mean compactness=%{y}<extra></extra>",
         "legendgroup": "1",
         "marker": {
          "color": "blue",
          "symbol": "circle"
         },
         "mode": "markers",
         "name": "1",
         "orientation": "v",
         "showlegend": true,
         "type": "scatter",
         "x": [
          -0.18572798829603052,
          -0.2611060547328675,
          -1.3028062187698126,
          -0.38550045945376793,
          -1.6582776468298694,
          -0.5737396745446668,
          -0.20838259842732024,
          -0.7104911393371803,
          -0.1960255383557077,
          -0.6697128411008588,
          -0.7673336156665983,
          -0.38550045945376793,
          -1.5499474202020653,
          -1.1293954757648488,
          -1.5367665561256787,
          -1.3497630470419406,
          -1.3122799648247157,
          -0.83076652403421,
          -1.3666510291398113,
          -0.43657630774976663,
          -1.3666510291398113,
          -0.5263709442701521,
          -0.16719239818861145,
          -0.3616101433153169,
          -0.7479742215544052,
          -0.225682482527578,
          -0.6186369928048595,
          -0.5020687261293137,
          0.15656257568763962,
          0.10713433540118895,
          -0.2977653329453184,
          -0.22115156050132007,
          -0.584037224604344,
          -1.229899564347298,
          -0.7261434154278895,
          -1.9845040327204433,
          -0.6075156387404084,
          -1.1541095959080738,
          -1.0115915030821416,
          -0.6919555492297612,
          -0.5337851803131194,
          -0.8027571878718878,
          -1.2138353862542017,
          -0.4044479515635737,
          0.24141438817937982,
          -0.9609275567885297,
          -1.488162119844002,
          -0.6359368769051174,
          -1.3687105391517467,
          -0.7673336156665983,
          0.09518917733196373,
          -0.24174666062067446,
          -0.14536159206209576,
          0.3134972385971202,
          -0.53090186629641,
          0.41317752317479556,
          -0.7104911393371803,
          -0.7788668717334367,
          -0.7813382837477594,
          -1.2657350385549746,
          -0.7541527515902117,
          -0.33895553318402716,
          -0.9765798328792389,
          -0.5708563605279575,
          0.24182629018176713,
          0.0824202152579639,
          -0.15854245613848228,
          -0.3484292792389298,
          -1.5940209344574836,
          -1.1611119299486543,
          -0.8690734102562089,
          -0.2742869188092541,
          -0.5642659284897642,
          0.6767948047025321,
          -0.6231679148311174,
          -0.9588680467765943,
          -0.6536486630077624,
          -0.4991854121126044,
          0.1454412216231884,
          -0.9555728307574978,
          0.17509816579505869,
          -0.5403756123513132,
          -0.8962589424137571,
          -1.008296287063045,
          -1.5466522041829687,
          -1.1273359657529134,
          -0.410214579596993,
          -0.43987152376886324,
          -0.7595074776212437,
          -1.1619357339534286,
          -0.7121387473467283,
          -0.6878365292058906,
          -0.5411994163560873,
          -0.40980267759460626,
          -1.2867420406767163,
          -0.3887956754728646,
          -0.5531445744253124,
          -0.4481095638166051,
          -1.1965355021539439,
          -0.2038516764010623,
          0.25541905626054096,
          -0.6779508811486001,
          -0.6033966187165377,
          -1.1088003756454945,
          -0.16842810419577275,
          -0.1391830620262892,
          -1.1059170616287846,
          -0.30559147099067296,
          0.022282522909449334,
          -1.0441317612707213,
          0.22576211208867067,
          -0.43740011175454124,
          -0.832414132043758,
          -0.8723686262753055,
          -1.3081609448008449,
          -0.08975482173983854,
          0.023930130918997358,
          -0.18902320431512717,
          -0.5502612604086031,
          -0.74303139752576,
          -0.14124257203822452,
          -1.0400127412468507,
          -0.32289135509093075,
          -0.28911539089518923,
          -0.986877382938916,
          -0.7455028095400825,
          -0.7698050276809209,
          -0.934565828635756,
          -0.19808504836764304,
          -0.39497420550867113,
          -0.9255039845832401,
          -0.06874781961809742,
          -0.813054737931565,
          -1.2550255864929105,
          -0.6495296429838912,
          -0.8311784260365968,
          -0.2359800325872552,
          -0.12270698193080604,
          -0.7302624354517607,
          -0.324950865102866,
          -0.5000092161173784,
          -0.5807420085852474,
          -0.4151574036256382,
          -0.7516813395758891,
          -0.8155261499458876,
          0.16727202774970412,
          0.2084622279884129,
          -0.3636696533272522,
          -0.6767151751414388,
          -0.4196883256518962,
          -0.1610138681528049,
          -0.9403324566691753,
          -0.030852835398485264,
          -1.0346580152158187,
          -0.4752950959741528,
          -1.0342461132134313,
          -0.757036065606921,
          -0.7306743374541474,
          -0.32536276710525336,
          -1.4667432157198736,
          -0.2586346427185449,
          -0.3813814394298973,
          -0.7265553174302768,
          0.0292848569500299,
          -0.39868132353015445,
          -0.7512694375735018,
          -1.5602449702617425,
          -0.5263709442701521,
          -0.606279932733247,
          -1.313927572834264,
          -0.5506731624109904,
          -1.0482507812945925,
          -0.37685051740363934,
          -0.5749753805518282,
          -0.44151913177841184,
          -0.07986917368254863,
          -0.6540605650101491,
          -0.3068271769978343,
          -0.8249998960007908,
          -0.8480664081344678,
          -0.5803301065828607,
          -0.324950865102866,
          -1.135162103798268,
          0.08983445130093178,
          -1.2492589584594913,
          -0.8435354861082098,
          -0.6977221772631805,
          -1.0614316453709791,
          -0.6305821508740853,
          0.11949139547280206,
          -0.7805144797429854,
          -0.607103736738021,
          -0.7525051435806631,
          -0.8538330361678871,
          -0.4139216976184769,
          -0.28334876286176996,
          -0.14206637604299913,
          -1.4510909396291642,
          -1.3242251228939412,
          -0.5168971982152489,
          -0.277170232825964,
          -0.41598120763041224,
          0.6026524442728558,
          -0.2672845847686735,
          -0.5626183204802157,
          0.23400015213641254,
          -0.17007571220532078,
          0.5902953842012433,
          -0.8987303544280792,
          -0.25039660267080305,
          -0.15236392610267632,
          -0.7747478517095662,
          -0.8773114503039507,
          -0.5444946323751838,
          -0.4666451539240242,
          -0.2545156226946737,
          -0.5432589263680225,
          -0.14824490607880508,
          -0.7656860076570502,
          -1.079967235478398,
          -1.511640533980066,
          -0.5725039685375061,
          -0.09140242974938714,
          -0.1593662601432569,
          -0.36737677134873614,
          -0.8921399223898859,
          -0.6882484312082773,
          -0.6520010549982137,
          -0.3208318450789948,
          -0.3620220453177036,
          -0.5634421244849896,
          -0.8888447063707893,
          0.5079149837238256,
          -0.38467665544899393,
          -0.558499300456345,
          -0.802345285869501,
          -0.8670139002442736,
          -1.327108436910651,
          0.2290573281077673,
          -0.6417035049385366,
          -1.333286966946457,
          -0.4567595058667343,
          -0.8657781942371123,
          -0.7319100434613087,
          0.2574785662724763,
          -0.680010391160536,
          -0.10334758781861295,
          -1.2373138003902657,
          -1.1854141480894926,
          -1.008296287063045,
          -0.9547490267527231,
          -0.8855494903516927,
          -0.4526404858428631,
          -0.432457287725896,
          0.12031519947757607,
          -0.3830290474394453,
          -0.09016672374222583,
          -0.13547594400480525,
          -0.0979928617875804,
          -0.8336498380509194,
          -0.14824490607880508,
          -1.03589372122298,
          -0.5914514606473119,
          0.16109349771389755,
          0.09395347132480242,
          -0.6235798168335048,
          -0.6260512288478274,
          0.07788929323170597,
          -0.4674689579287982,
          -0.23186101256338398,
          -0.7043126093013737,
          -0.32412706109809203,
          -0.38550045945376793,
          -1.2476113504499429,
          0.011573070847384837,
          -0.7450909075376958,
          -0.31671282505512416,
          -0.21003020643686826,
          -0.2466894846493191,
          -1.2731492745979422,
          -0.6421154069409238,
          -1.2554374884952975,
          -0.6227560128287307,
          0.18457191184996188,
          -0.5992775986926665,
          -0.8880209023660153,
          -0.3739672033869294,
          0.018163502885578102,
          -0.12353078593558005,
          -0.7405599855114379,
          -0.5634421244849896,
          -0.13341643399286995,
          -0.19149461632944978,
          -0.1733709282244174,
          0.4461296833657625,
          -0.375614811396478,
          0.09230586331525381,
          -0.6787746851533747,
          -0.5679730465112476,
          0.9321740461825261,
          -0.5411994163560873,
          -0.3257746691076401,
          0.17097914577118806,
          -0.38220524343467127,
          -0.47447129196937876,
          0.27848556839421795,
          -0.44151913177841184,
          -1.2554374884952975,
          -1.1471072618674933,
          -0.5148376882033135,
          -0.8534211341654998,
          0.5243910638193094,
          -0.6449987209576332,
          0.11084145342267289,
          0.09560107933435102,
          -0.7912239318050492,
          -0.3097104910145436,
          -0.3896194794776386,
          -1.318458494860522,
          -0.8513616241535644,
          -0.13341643399286995,
          -1.1932402861348472,
          -1.5421212821567107,
          -0.18655179230080454,
          -0.5366684943298292,
          -0.06833591761571012,
          -0.582389616594796,
          -0.662298605057891,
          -0.6903079412202132,
          -0.1733709282244174,
          -0.8723686262753055,
          -0.6425273089433106,
          -1.8119170937202536,
          -1.797088621634318,
          -0.7133744533538896,
          0.15821018369718823,
          0.1124890614322215,
          -0.29199870491189917,
          -0.09057862574461313,
          -0.19684934236048174,
          -1.09809092358343,
          -1.0758482154545275,
          -1.2735611766003296,
          -0.9506300067288525,
          -0.9662822828195616,
          -0.8435354861082098,
          -0.43740011175454124,
          -1.3575891850872954,
          -0.39003138148002586,
          -1.0832624514974947,
          -1.121981239721881,
          -1.3472916350276183,
          0.18210049983563925,
          -0.7187291793849222,
          -0.024262403360292,
          -0.8773114503039507,
          -1.8143885057345759
         ],
         "xaxis": "x",
         "y": [
          -0.4368502521374081,
          0.42942187172795165,
          -0.7470859700913773,
          -1.263703298828409,
          -0.8511295920563923,
          -0.2543475054118904,
          -0.5185311283977383,
          -1.0362855458994147,
          -0.8291458759399228,
          -1.0770312266325264,
          -0.9402015452869148,
          -1.2593444585639366,
          -0.9782940189025213,
          -0.4497372581367177,
          -0.27879491385175725,
          -0.3189720502025461,
          -0.5043175188396765,
          -1.086506966337901,
          0.7004280273016696,
          -0.9854955810786062,
          0.9240554843485138,
          -0.6832194844771515,
          0.006803880868237755,
          -0.1683077888870876,
          -0.20317851100286685,
          0.9316360761128133,
          -0.6195425136570332,
          -0.18744878309194454,
          0.560187079662123,
          -0.346451695348133,
          -1.019418729223848,
          -0.4300277195495383,
          -0.6400101114206429,
          -0.972798089873404,
          -0.5513171877783352,
          -0.5431680516317129,
          -1.2121552748311701,
          -0.1396910549768559,
          -0.3517581095831429,
          -0.050050557364010796,
          -0.6858726915946565,
          -0.7313562421804553,
          -0.3847336837578469,
          0.31381784732237955,
          2.2544493389831284,
          0.49196175378342494,
          -0.4232051869616685,
          -0.4899143944875066,
          0.3782528773189278,
          -0.7105096148286307,
          0.1053515738041351,
          -0.5892201465998341,
          -0.8145532367936457,
          1.4471163160851999,
          -0.17531983626906508,
          -0.1842270315921173,
          -0.822323343352053,
          -0.6718485968307017,
          0.17547204762390842,
          -1.2000263280082906,
          -0.17967867653353736,
          -0.17531983626906508,
          -1.0034994865188183,
          0.4786957181959002,
          0.2342216337972317,
          -0.04246996559971104,
          -0.7690696862078469,
          -0.5391882409554554,
          0.49575204966557496,
          1.05292554434161,
          -1.008426871165613,
          -0.36691929311174243,
          -0.7116467035932759,
          -0.6085506555987985,
          -0.9841689775198538,
          -1.2728000089455684,
          0.1849477873292829,
          -0.053840853246160544,
          -0.9631328353739218,
          -0.8903591544366436,
          -0.4830918618996368,
          -0.6544132357728124,
          -0.8890325508778911,
          -1.1621233691867914,
          -1.1670507538335864,
          0.47490542231375016,
          -1.6101363424569097,
          -1.2621871804755487,
          -0.43192286749061326,
          -1.087644055102546,
          -0.8136056628231082,
          -0.9233347286113477,
          -0.6028652117755737,
          -0.7264288575336605,
          -1.5331933360492667,
          -0.9604796282564169,
          -0.44480987348992296,
          0.027650508220062278,
          -0.6068450224518313,
          0.8330883831769157,
          -0.7967388461475411,
          -0.6697639340955194,
          0.20958471056325745,
          -0.8579521246442621,
          -0.32655264196684586,
          0.28160033232410553,
          -0.36616123393531247,
          -1.030979131664405,
          -0.532555223161693,
          -0.5139827733391586,
          0.09966612998091035,
          -0.5505591286019051,
          -1.2547961035053565,
          -1.3000901392970476,
          -1.2028690499199028,
          -0.6612357683606822,
          -0.008357302660361754,
          -0.7209329285045432,
          -1.3343923170305045,
          0.533655008487074,
          -0.6873888099475164,
          -0.8458231778213824,
          -1.1200510848949277,
          0.5734531152496478,
          -0.6064659928636161,
          -0.49768450104591405,
          -0.8420328819392324,
          0.19631867497573266,
          -0.4122133289034338,
          -0.7988235088827236,
          0.4654296826083754,
          -1.4704639391996859,
          -0.5355874598674131,
          -1.0887811438671908,
          -0.6110143479221961,
          -1.2436147306530145,
          -1.2095020677136652,
          -0.5204262763388133,
          -1.1549218070107066,
          -0.1618642858874329,
          -1.178421641480036,
          -0.06142144501046056,
          -1.2707153462103862,
          0.26075370497228095,
          -1.0283259245469,
          1.1988519358043814,
          -0.11581219091931158,
          -0.47210000384140216,
          -0.9081735450827483,
          -0.3868183464930293,
          -0.7984444792945086,
          -1.0827166704557512,
          -0.9881487881961111,
          -0.6892839578885914,
          -0.05573600118723555,
          -0.7118362183873832,
          -0.5192891875741685,
          -0.8994558645538034,
          -0.9822738295787787,
          -1.3868879149982805,
          -1.2925095475327482,
          -1.269578257445741,
          -0.9818947999905637,
          -1.31127151214939,
          -0.4711524298708648,
          -0.8462022074095973,
          -0.8693230122907117,
          -1.2508162928290991,
          -1.3686944947639612,
          1.7598157263625662,
          -1.3228319145899472,
          0.12809334909703463,
          -0.30324232229162407,
          -0.7370416860036803,
          -0.5249746313973933,
          -0.9718505159028664,
          -1.2398244347708645,
          0.1546254202720839,
          -0.6926952241825263,
          -1.1325590613060224,
          -1.1810748485975409,
          -0.0889010901560472,
          -0.5890306318057265,
          0.18115749144713317,
          -0.22857349341327104,
          -0.25339993144135303,
          -0.5975587975405638,
          -0.24165001420668814,
          -0.8793672963784089,
          -0.502990915280924,
          -0.8619319353205194,
          0.30813240349915477,
          -1.289477310827028,
          -0.8281983019693853,
          -0.01025245060143676,
          0.4938569017244997,
          -0.9366007641988725,
          -0.5185311283977383,
          -0.8486658997329947,
          -1.4752018090523733,
          -0.7696382305901694,
          -0.47039437069443485,
          -0.3726047369349672,
          -0.8979397462009435,
          -0.6176473657159585,
          -0.6633204310958647,
          -0.7694487157960618,
          0.7478067258285435,
          1.1685295687471824,
          -1.0817690964852136,
          -0.5469583475138626,
          0.12809334909703463,
          -0.6358407859502777,
          0.05607772733618655,
          0.48059086613697544,
          -0.3523266539654652,
          -0.49484177913430166,
          -1.0618700431039267,
          0.13377879292025938,
          -0.5480954362785077,
          -0.5697001228067621,
          -0.1281306525362987,
          -0.9614272022269543,
          0.19631867497573266,
          -0.2916819198510669,
          -1.0738094751326988,
          -0.7963598165593261,
          -0.9839794627257462,
          -0.4804386547821319,
          -0.3028632927034092,
          -1.1111438895718753,
          -0.5636356493953223,
          -0.3663507487294199,
          -0.40141098563930655,
          -0.7406424670917227,
          -0.9705239123441141,
          -0.498442560222344,
          -0.8302829647045677,
          -0.03488937383541129,
          -0.43855588528437567,
          -0.8101943965291732,
          -0.8793672963784089,
          -0.8444965742626299,
          -0.5139827733391586,
          1.5020756063763736,
          0.23611678173830672,
          0.19631867497573266,
          -0.3981892341394791,
          -1.2360341388887146,
          -0.057631149128310556,
          -0.8890325508778911,
          -1.2508162928290991,
          -1.1204301144831426,
          0.5165986770173993,
          -0.6367883599208154,
          -0.48347089148785194,
          -0.8602263021735519,
          -0.7777873667367917,
          -0.9197339475233054,
          0.13188364497918437,
          -0.7042556266230835,
          -1.1318010021295923,
          -0.23046864135434605,
          -0.29262949382160425,
          -0.49920061939877397,
          0.03902139586651178,
          -0.7550455914438922,
          -0.2259202862957661,
          -0.9483506814335371,
          -0.570079152394977,
          -0.35251616875957287,
          -0.9909915101077236,
          -1.016007462929913,
          -1.100720575895963,
          -0.9875802438137886,
          -0.8678068939378518,
          -0.84146433755691,
          0.34034991849742907,
          0.08640009439338557,
          -0.9487297110217521,
          0.8330883831769157,
          -0.7914324319125313,
          -0.8403272487922651,
          -0.35725403861226024,
          -1.333444743059967,
          0.048497135571886535,
          -0.4103181809623588,
          0.1224079052738096,
          -0.969386823579469,
          -0.418088287520766,
          -0.49199905722268905,
          -0.9680602200207166,
          0.21147985850433243,
          -0.4694467967238972,
          0.4843811620191249,
          0.8861525255270148,
          -0.7080459225052335,
          -0.22194047561950866,
          -0.991939084078261,
          -0.7992025384709385,
          -1.2112077008606326,
          -0.9777254745201989,
          -0.3959150566101892,
          0.5507113399567483,
          -0.531418134397048,
          0.6075657781889968,
          0.07881950262908582,
          2.265820226629578,
          2.1994900486919553,
          0.20579441468110743,
          0.05228743145403655,
          -0.7053927153877285,
          -0.1465135875647257,
          -1.02680980619404,
          -0.28732307958659464,
          -0.36672977831763504,
          1.170424716688257,
          0.13946423674348413,
          0.3441402143795788,
          -1.1410872270408594,
          0.050392283512961544,
          -0.3818909618462345,
          -0.5310391048088331,
          0.17926234350605816,
          -0.782146207001264,
          -0.12869919691862125,
          -0.2700772333228124,
          -0.1366588182711361,
          -0.18593266473908465,
          -0.6024861821873587,
          -0.12926774130094376,
          0.9638535911110876,
          -1.0529628477808743,
          0.2948663679116303,
          0.14514968056670913,
          0.35361595408495355,
          -0.6102562887457661,
          -0.6741227743599919,
          -0.048155409422935794,
          -0.6987596975939662,
          -1.030979131664405,
          -0.44878968416618037,
          -1.0241565990765351,
          -0.726239342739553,
          -1.1763369787448537,
          -0.42453179052042095,
          -1.1750103751861012,
          -0.9151855924647254,
          -0.873681852555184,
          -0.5261117201620383,
          -0.5552969984545926,
          -1.0353379719288773,
          0.5431307481924488,
          -0.04246996559971104,
          0.1565205682131589,
          -1.3031223760027677,
          -1.1507524815403418
         ],
         "yaxis": "y"
        }
       ],
       "layout": {
        "legend": {
         "title": {
          "text": "color"
         },
         "tracegroupgap": 0
        },
        "margin": {
         "t": 60
        },
        "template": {
         "data": {
          "bar": [
           {
            "error_x": {
             "color": "#2a3f5f"
            },
            "error_y": {
             "color": "#2a3f5f"
            },
            "marker": {
             "line": {
              "color": "#E5ECF6",
              "width": 0.5
             },
             "pattern": {
              "fillmode": "overlay",
              "size": 10,
              "solidity": 0.2
             }
            },
            "type": "bar"
           }
          ],
          "barpolar": [
           {
            "marker": {
             "line": {
              "color": "#E5ECF6",
              "width": 0.5
             },
             "pattern": {
              "fillmode": "overlay",
              "size": 10,
              "solidity": 0.2
             }
            },
            "type": "barpolar"
           }
          ],
          "carpet": [
           {
            "aaxis": {
             "endlinecolor": "#2a3f5f",
             "gridcolor": "white",
             "linecolor": "white",
             "minorgridcolor": "white",
             "startlinecolor": "#2a3f5f"
            },
            "baxis": {
             "endlinecolor": "#2a3f5f",
             "gridcolor": "white",
             "linecolor": "white",
             "minorgridcolor": "white",
             "startlinecolor": "#2a3f5f"
            },
            "type": "carpet"
           }
          ],
          "choropleth": [
           {
            "colorbar": {
             "outlinewidth": 0,
             "ticks": ""
            },
            "type": "choropleth"
           }
          ],
          "contour": [
           {
            "colorbar": {
             "outlinewidth": 0,
             "ticks": ""
            },
            "colorscale": [
             [
              0,
              "#0d0887"
             ],
             [
              0.1111111111111111,
              "#46039f"
             ],
             [
              0.2222222222222222,
              "#7201a8"
             ],
             [
              0.3333333333333333,
              "#9c179e"
             ],
             [
              0.4444444444444444,
              "#bd3786"
             ],
             [
              0.5555555555555556,
              "#d8576b"
             ],
             [
              0.6666666666666666,
              "#ed7953"
             ],
             [
              0.7777777777777778,
              "#fb9f3a"
             ],
             [
              0.8888888888888888,
              "#fdca26"
             ],
             [
              1,
              "#f0f921"
             ]
            ],
            "type": "contour"
           }
          ],
          "contourcarpet": [
           {
            "colorbar": {
             "outlinewidth": 0,
             "ticks": ""
            },
            "type": "contourcarpet"
           }
          ],
          "heatmap": [
           {
            "colorbar": {
             "outlinewidth": 0,
             "ticks": ""
            },
            "colorscale": [
             [
              0,
              "#0d0887"
             ],
             [
              0.1111111111111111,
              "#46039f"
             ],
             [
              0.2222222222222222,
              "#7201a8"
             ],
             [
              0.3333333333333333,
              "#9c179e"
             ],
             [
              0.4444444444444444,
              "#bd3786"
             ],
             [
              0.5555555555555556,
              "#d8576b"
             ],
             [
              0.6666666666666666,
              "#ed7953"
             ],
             [
              0.7777777777777778,
              "#fb9f3a"
             ],
             [
              0.8888888888888888,
              "#fdca26"
             ],
             [
              1,
              "#f0f921"
             ]
            ],
            "type": "heatmap"
           }
          ],
          "heatmapgl": [
           {
            "colorbar": {
             "outlinewidth": 0,
             "ticks": ""
            },
            "colorscale": [
             [
              0,
              "#0d0887"
             ],
             [
              0.1111111111111111,
              "#46039f"
             ],
             [
              0.2222222222222222,
              "#7201a8"
             ],
             [
              0.3333333333333333,
              "#9c179e"
             ],
             [
              0.4444444444444444,
              "#bd3786"
             ],
             [
              0.5555555555555556,
              "#d8576b"
             ],
             [
              0.6666666666666666,
              "#ed7953"
             ],
             [
              0.7777777777777778,
              "#fb9f3a"
             ],
             [
              0.8888888888888888,
              "#fdca26"
             ],
             [
              1,
              "#f0f921"
             ]
            ],
            "type": "heatmapgl"
           }
          ],
          "histogram": [
           {
            "marker": {
             "pattern": {
              "fillmode": "overlay",
              "size": 10,
              "solidity": 0.2
             }
            },
            "type": "histogram"
           }
          ],
          "histogram2d": [
           {
            "colorbar": {
             "outlinewidth": 0,
             "ticks": ""
            },
            "colorscale": [
             [
              0,
              "#0d0887"
             ],
             [
              0.1111111111111111,
              "#46039f"
             ],
             [
              0.2222222222222222,
              "#7201a8"
             ],
             [
              0.3333333333333333,
              "#9c179e"
             ],
             [
              0.4444444444444444,
              "#bd3786"
             ],
             [
              0.5555555555555556,
              "#d8576b"
             ],
             [
              0.6666666666666666,
              "#ed7953"
             ],
             [
              0.7777777777777778,
              "#fb9f3a"
             ],
             [
              0.8888888888888888,
              "#fdca26"
             ],
             [
              1,
              "#f0f921"
             ]
            ],
            "type": "histogram2d"
           }
          ],
          "histogram2dcontour": [
           {
            "colorbar": {
             "outlinewidth": 0,
             "ticks": ""
            },
            "colorscale": [
             [
              0,
              "#0d0887"
             ],
             [
              0.1111111111111111,
              "#46039f"
             ],
             [
              0.2222222222222222,
              "#7201a8"
             ],
             [
              0.3333333333333333,
              "#9c179e"
             ],
             [
              0.4444444444444444,
              "#bd3786"
             ],
             [
              0.5555555555555556,
              "#d8576b"
             ],
             [
              0.6666666666666666,
              "#ed7953"
             ],
             [
              0.7777777777777778,
              "#fb9f3a"
             ],
             [
              0.8888888888888888,
              "#fdca26"
             ],
             [
              1,
              "#f0f921"
             ]
            ],
            "type": "histogram2dcontour"
           }
          ],
          "mesh3d": [
           {
            "colorbar": {
             "outlinewidth": 0,
             "ticks": ""
            },
            "type": "mesh3d"
           }
          ],
          "parcoords": [
           {
            "line": {
             "colorbar": {
              "outlinewidth": 0,
              "ticks": ""
             }
            },
            "type": "parcoords"
           }
          ],
          "pie": [
           {
            "automargin": true,
            "type": "pie"
           }
          ],
          "scatter": [
           {
            "fillpattern": {
             "fillmode": "overlay",
             "size": 10,
             "solidity": 0.2
            },
            "type": "scatter"
           }
          ],
          "scatter3d": [
           {
            "line": {
             "colorbar": {
              "outlinewidth": 0,
              "ticks": ""
             }
            },
            "marker": {
             "colorbar": {
              "outlinewidth": 0,
              "ticks": ""
             }
            },
            "type": "scatter3d"
           }
          ],
          "scattercarpet": [
           {
            "marker": {
             "colorbar": {
              "outlinewidth": 0,
              "ticks": ""
             }
            },
            "type": "scattercarpet"
           }
          ],
          "scattergeo": [
           {
            "marker": {
             "colorbar": {
              "outlinewidth": 0,
              "ticks": ""
             }
            },
            "type": "scattergeo"
           }
          ],
          "scattergl": [
           {
            "marker": {
             "colorbar": {
              "outlinewidth": 0,
              "ticks": ""
             }
            },
            "type": "scattergl"
           }
          ],
          "scattermapbox": [
           {
            "marker": {
             "colorbar": {
              "outlinewidth": 0,
              "ticks": ""
             }
            },
            "type": "scattermapbox"
           }
          ],
          "scatterpolar": [
           {
            "marker": {
             "colorbar": {
              "outlinewidth": 0,
              "ticks": ""
             }
            },
            "type": "scatterpolar"
           }
          ],
          "scatterpolargl": [
           {
            "marker": {
             "colorbar": {
              "outlinewidth": 0,
              "ticks": ""
             }
            },
            "type": "scatterpolargl"
           }
          ],
          "scatterternary": [
           {
            "marker": {
             "colorbar": {
              "outlinewidth": 0,
              "ticks": ""
             }
            },
            "type": "scatterternary"
           }
          ],
          "surface": [
           {
            "colorbar": {
             "outlinewidth": 0,
             "ticks": ""
            },
            "colorscale": [
             [
              0,
              "#0d0887"
             ],
             [
              0.1111111111111111,
              "#46039f"
             ],
             [
              0.2222222222222222,
              "#7201a8"
             ],
             [
              0.3333333333333333,
              "#9c179e"
             ],
             [
              0.4444444444444444,
              "#bd3786"
             ],
             [
              0.5555555555555556,
              "#d8576b"
             ],
             [
              0.6666666666666666,
              "#ed7953"
             ],
             [
              0.7777777777777778,
              "#fb9f3a"
             ],
             [
              0.8888888888888888,
              "#fdca26"
             ],
             [
              1,
              "#f0f921"
             ]
            ],
            "type": "surface"
           }
          ],
          "table": [
           {
            "cells": {
             "fill": {
              "color": "#EBF0F8"
             },
             "line": {
              "color": "white"
             }
            },
            "header": {
             "fill": {
              "color": "#C8D4E3"
             },
             "line": {
              "color": "white"
             }
            },
            "type": "table"
           }
          ]
         },
         "layout": {
          "annotationdefaults": {
           "arrowcolor": "#2a3f5f",
           "arrowhead": 0,
           "arrowwidth": 1
          },
          "autotypenumbers": "strict",
          "coloraxis": {
           "colorbar": {
            "outlinewidth": 0,
            "ticks": ""
           }
          },
          "colorscale": {
           "diverging": [
            [
             0,
             "#8e0152"
            ],
            [
             0.1,
             "#c51b7d"
            ],
            [
             0.2,
             "#de77ae"
            ],
            [
             0.3,
             "#f1b6da"
            ],
            [
             0.4,
             "#fde0ef"
            ],
            [
             0.5,
             "#f7f7f7"
            ],
            [
             0.6,
             "#e6f5d0"
            ],
            [
             0.7,
             "#b8e186"
            ],
            [
             0.8,
             "#7fbc41"
            ],
            [
             0.9,
             "#4d9221"
            ],
            [
             1,
             "#276419"
            ]
           ],
           "sequential": [
            [
             0,
             "#0d0887"
            ],
            [
             0.1111111111111111,
             "#46039f"
            ],
            [
             0.2222222222222222,
             "#7201a8"
            ],
            [
             0.3333333333333333,
             "#9c179e"
            ],
            [
             0.4444444444444444,
             "#bd3786"
            ],
            [
             0.5555555555555556,
             "#d8576b"
            ],
            [
             0.6666666666666666,
             "#ed7953"
            ],
            [
             0.7777777777777778,
             "#fb9f3a"
            ],
            [
             0.8888888888888888,
             "#fdca26"
            ],
            [
             1,
             "#f0f921"
            ]
           ],
           "sequentialminus": [
            [
             0,
             "#0d0887"
            ],
            [
             0.1111111111111111,
             "#46039f"
            ],
            [
             0.2222222222222222,
             "#7201a8"
            ],
            [
             0.3333333333333333,
             "#9c179e"
            ],
            [
             0.4444444444444444,
             "#bd3786"
            ],
            [
             0.5555555555555556,
             "#d8576b"
            ],
            [
             0.6666666666666666,
             "#ed7953"
            ],
            [
             0.7777777777777778,
             "#fb9f3a"
            ],
            [
             0.8888888888888888,
             "#fdca26"
            ],
            [
             1,
             "#f0f921"
            ]
           ]
          },
          "colorway": [
           "#636efa",
           "#EF553B",
           "#00cc96",
           "#ab63fa",
           "#FFA15A",
           "#19d3f3",
           "#FF6692",
           "#B6E880",
           "#FF97FF",
           "#FECB52"
          ],
          "font": {
           "color": "#2a3f5f"
          },
          "geo": {
           "bgcolor": "white",
           "lakecolor": "white",
           "landcolor": "#E5ECF6",
           "showlakes": true,
           "showland": true,
           "subunitcolor": "white"
          },
          "hoverlabel": {
           "align": "left"
          },
          "hovermode": "closest",
          "mapbox": {
           "style": "light"
          },
          "paper_bgcolor": "white",
          "plot_bgcolor": "#E5ECF6",
          "polar": {
           "angularaxis": {
            "gridcolor": "white",
            "linecolor": "white",
            "ticks": ""
           },
           "bgcolor": "#E5ECF6",
           "radialaxis": {
            "gridcolor": "white",
            "linecolor": "white",
            "ticks": ""
           }
          },
          "scene": {
           "xaxis": {
            "backgroundcolor": "#E5ECF6",
            "gridcolor": "white",
            "gridwidth": 2,
            "linecolor": "white",
            "showbackground": true,
            "ticks": "",
            "zerolinecolor": "white"
           },
           "yaxis": {
            "backgroundcolor": "#E5ECF6",
            "gridcolor": "white",
            "gridwidth": 2,
            "linecolor": "white",
            "showbackground": true,
            "ticks": "",
            "zerolinecolor": "white"
           },
           "zaxis": {
            "backgroundcolor": "#E5ECF6",
            "gridcolor": "white",
            "gridwidth": 2,
            "linecolor": "white",
            "showbackground": true,
            "ticks": "",
            "zerolinecolor": "white"
           }
          },
          "shapedefaults": {
           "line": {
            "color": "#2a3f5f"
           }
          },
          "ternary": {
           "aaxis": {
            "gridcolor": "white",
            "linecolor": "white",
            "ticks": ""
           },
           "baxis": {
            "gridcolor": "white",
            "linecolor": "white",
            "ticks": ""
           },
           "bgcolor": "#E5ECF6",
           "caxis": {
            "gridcolor": "white",
            "linecolor": "white",
            "ticks": ""
           }
          },
          "title": {
           "x": 0.05
          },
          "xaxis": {
           "automargin": true,
           "gridcolor": "white",
           "linecolor": "white",
           "ticks": "",
           "title": {
            "standoff": 15
           },
           "zerolinecolor": "white",
           "zerolinewidth": 2
          },
          "yaxis": {
           "automargin": true,
           "gridcolor": "white",
           "linecolor": "white",
           "ticks": "",
           "title": {
            "standoff": 15
           },
           "zerolinecolor": "white",
           "zerolinewidth": 2
          }
         }
        },
        "xaxis": {
         "anchor": "y",
         "domain": [
          0,
          1
         ],
         "title": {
          "text": "mean perimeter"
         }
        },
        "yaxis": {
         "anchor": "x",
         "domain": [
          0,
          1
         ],
         "title": {
          "text": "mean compactness"
         }
        }
       }
      }
     },
     "metadata": {},
     "output_type": "display_data"
    }
   ],
   "source": [
    "fig = px.scatter(df_data, \"mean perimeter\", \"mean compactness\", color=df_data[\"target\"].astype(str),\n",
    "                 color_discrete_map={\"1\": \"blue\", \"0\": \"red\"})\n",
    "fig.show()"
   ]
  },
  {
   "cell_type": "markdown",
   "metadata": {},
   "source": [
    "### Fitting Logistic Regression\n",
    "\n",
    "We want to fit the follwing model\n",
    "\n",
    "$$ \\text{log}(\\frac{y_i}{1-y_i}) = \\theta_0 + \\theta_1 x_{1, i} + \\theta_{2, i}$$ \n",
    "\n",
    "$$ \\iff y_i = \\frac{1}{1 + \\text{exp}(-\\theta^T x)} $$"
   ]
  },
  {
   "cell_type": "code",
   "execution_count": 185,
   "metadata": {},
   "outputs": [
    {
     "name": "stdout",
     "output_type": "stream",
     "text": [
      "Intercept: [0.65238476]\n",
      "Coefficients: [[-3.22070364 -1.41226094]]\n"
     ]
    }
   ],
   "source": [
    "X_train, X_test, Y_train, Y_test = train_test_split(df_data[[\"mean perimeter\", \"mean compactness\"]], df_data[\"target\"])\n",
    "model = LogisticRegression().fit(X_train, Y_train)\n",
    "print(f\"Intercept: {model.intercept_}\")\n",
    "print(f\"Coefficients: {model.coef_}\")"
   ]
  },
  {
   "cell_type": "code",
   "execution_count": 186,
   "metadata": {},
   "outputs": [
    {
     "data": {
      "application/vnd.plotly.v1+json": {
       "config": {
        "plotlyServerURL": "https://plot.ly"
       },
       "data": [
        {
         "marker": {
          "color": [
           "blue",
           "blue",
           "blue",
           "blue",
           "blue",
           "blue",
           "red",
           "red",
           "red",
           "red",
           "red",
           "blue",
           "blue",
           "red",
           "blue",
           "blue",
           "blue",
           "blue",
           "red",
           "blue",
           "blue",
           "red",
           "blue",
           "blue",
           "blue",
           "blue",
           "red",
           "red",
           "blue",
           "blue",
           "blue",
           "blue",
           "blue",
           "red",
           "blue",
           "red",
           "red",
           "red",
           "red",
           "red",
           "red",
           "blue",
           "red",
           "blue",
           "red",
           "blue",
           "blue",
           "red",
           "blue",
           "red",
           "red",
           "blue",
           "red",
           "red",
           "blue",
           "blue",
           "blue",
           "blue",
           "blue",
           "blue",
           "blue",
           "red",
           "blue",
           "blue",
           "red",
           "red",
           "blue",
           "blue",
           "red",
           "red",
           "blue",
           "red",
           "red",
           "red",
           "blue",
           "blue",
           "blue",
           "blue",
           "red",
           "blue",
           "red",
           "blue",
           "blue",
           "red",
           "blue",
           "blue",
           "red",
           "blue",
           "blue",
           "red",
           "blue",
           "blue",
           "red",
           "blue",
           "blue",
           "blue",
           "blue",
           "red",
           "red",
           "red",
           "blue",
           "blue",
           "blue",
           "blue",
           "red",
           "blue",
           "blue",
           "blue",
           "blue",
           "blue",
           "red",
           "blue",
           "blue",
           "red",
           "red",
           "blue",
           "blue",
           "blue",
           "blue",
           "blue",
           "blue",
           "red",
           "red",
           "blue",
           "blue",
           "blue",
           "blue",
           "blue",
           "blue",
           "blue",
           "red",
           "blue",
           "blue",
           "blue",
           "red",
           "blue",
           "blue",
           "blue",
           "blue",
           "blue",
           "blue",
           "blue",
           "blue",
           "blue",
           "red",
           "red",
           "blue",
           "blue",
           "red",
           "blue",
           "red",
           "blue",
           "blue",
           "red",
           "blue",
           "red",
           "blue",
           "red",
           "blue",
           "blue",
           "blue",
           "red",
           "blue",
           "blue",
           "blue",
           "blue",
           "blue",
           "red",
           "blue",
           "blue",
           "blue",
           "red",
           "blue",
           "red",
           "blue",
           "blue",
           "blue",
           "blue",
           "red",
           "red",
           "blue",
           "blue",
           "red",
           "red",
           "blue",
           "blue",
           "red",
           "red",
           "red",
           "red",
           "red",
           "blue",
           "red",
           "blue",
           "blue",
           "blue",
           "blue",
           "blue",
           "blue",
           "red",
           "red",
           "blue",
           "blue",
           "blue",
           "blue",
           "red",
           "red",
           "red",
           "red",
           "red",
           "blue",
           "blue",
           "red",
           "blue",
           "blue",
           "blue",
           "red",
           "blue",
           "blue",
           "blue",
           "red",
           "blue",
           "red",
           "red",
           "blue",
           "red",
           "red",
           "blue",
           "blue",
           "red",
           "blue",
           "red",
           "blue",
           "red",
           "blue",
           "blue",
           "blue",
           "blue",
           "blue",
           "blue",
           "blue",
           "blue",
           "blue",
           "blue",
           "red",
           "blue",
           "red",
           "red",
           "blue",
           "blue",
           "red",
           "blue",
           "blue",
           "blue",
           "blue",
           "blue",
           "blue",
           "blue",
           "red",
           "blue",
           "blue",
           "red",
           "red",
           "blue",
           "blue",
           "blue",
           "red",
           "blue",
           "red",
           "red",
           "red",
           "red",
           "blue",
           "red",
           "blue",
           "blue",
           "blue",
           "red",
           "red",
           "blue",
           "blue",
           "blue",
           "blue",
           "blue",
           "red",
           "red",
           "red",
           "red",
           "blue",
           "blue",
           "blue",
           "red",
           "blue",
           "red",
           "blue",
           "blue",
           "red",
           "red",
           "blue",
           "blue",
           "blue",
           "blue",
           "blue",
           "blue",
           "blue",
           "red",
           "red",
           "blue",
           "red",
           "blue",
           "blue",
           "blue",
           "red",
           "red",
           "red",
           "red",
           "red",
           "blue",
           "blue",
           "blue",
           "red",
           "red",
           "blue",
           "red",
           "blue",
           "red",
           "red",
           "blue",
           "red",
           "blue",
           "blue",
           "red",
           "blue",
           "red",
           "red",
           "blue",
           "red",
           "blue",
           "blue",
           "red",
           "blue",
           "blue",
           "red",
           "blue",
           "blue",
           "blue",
           "blue",
           "blue",
           "blue",
           "blue",
           "blue",
           "blue",
           "blue",
           "blue",
           "blue",
           "red",
           "red",
           "blue",
           "red",
           "red",
           "red",
           "red",
           "blue",
           "blue",
           "blue",
           "red",
           "red",
           "red",
           "red",
           "blue",
           "red",
           "blue",
           "blue",
           "blue",
           "red",
           "red",
           "red",
           "blue",
           "blue",
           "blue",
           "blue",
           "red",
           "blue",
           "red",
           "blue",
           "red",
           "red",
           "blue",
           "red",
           "blue",
           "red",
           "blue",
           "red",
           "blue",
           "red",
           "blue",
           "red",
           "red",
           "blue",
           "blue",
           "blue",
           "red",
           "blue",
           "red",
           "red",
           "red",
           "blue",
           "red",
           "blue",
           "red",
           "blue",
           "blue",
           "red",
           "blue",
           "blue",
           "blue",
           "blue",
           "red",
           "red",
           "red",
           "blue",
           "blue",
           "blue",
           "blue",
           "blue",
           "red"
          ]
         },
         "mode": "markers",
         "name": "Data",
         "type": "scatter",
         "x": [
          -0.558499300456345,
          -0.7656860076570502,
          -0.606279932733247,
          -0.6882484312082773,
          0.5079149837238256,
          -0.5737396745446668,
          -0.7689812236761469,
          1.422337429023161,
          0.6191285243683395,
          0.06717984116964147,
          0.664437744630919,
          0.41317752317479556,
          -0.19808504836764304,
          2.1596420132960485,
          -0.3896194794776386,
          -0.3887956754728646,
          -0.5263709442701521,
          -0.0979928617875804,
          1.1999103477341333,
          0.11084145342267289,
          -0.6919555492297612,
          0.9239360061347848,
          -1.1932402861348472,
          -0.7133744533538896,
          -0.7595074776212437,
          -0.12353078593558005,
          -0.8266475040103388,
          -0.1733709282244174,
          -1.03589372122298,
          -0.7479742215544052,
          0.07788929323170597,
          -0.2359800325872552,
          -0.757036065606921,
          2.0154763124605677,
          -0.09140242974938714,
          -0.5346089843178939,
          2.0319523925560516,
          0.147088829632737,
          2.4768065551341056,
          2.756899916757326,
          -0.4456381518022825,
          -0.6305821508740853,
          1.2946478082831638,
          -0.6231679148311174,
          1.5665031298586416,
          -0.9765798328792389,
          -1.2138353862542017,
          0.48731988360447126,
          -0.8155261499458876,
          -0.03497185542235591,
          0.18333620584280055,
          -0.6421154069409238,
          0.882745805896076,
          0.11413666944176952,
          -0.7405599855114379,
          -1.0115915030821416,
          -0.3616101433153169,
          -1.2867420406767163,
          -0.024262403360292,
          -0.607103736738021,
          -0.1733709282244174,
          0.9898403265167186,
          -0.5403756123513132,
          -0.7673336156665983,
          1.3070048683547764,
          0.6726757846786608,
          -0.19684934236048174,
          -0.3739672033869294,
          0.9156979660870429,
          0.03711099499538448,
          -1.09809092358343,
          0.4378916433180206,
          0.7426991250844659,
          0.5861763641773726,
          -0.8249998960007908,
          -0.14124257203822452,
          -0.43987152376886324,
          -1.3081609448008449,
          1.5294319496438036,
          -0.5531445744253124,
          0.9156979660870429,
          -0.2038516764010623,
          -1.797088621634318,
          0.5408671439147925,
          -1.1619357339534286,
          0.11949139547280206,
          0.7303420650128534,
          -0.5020687261293137,
          -0.8538330361678871,
          -0.2524561126827384,
          -0.5506731624109904,
          -1.079967235478398,
          0.7138659849173696,
          -0.5803301065828607,
          -0.5502612604086031,
          -0.4674689579287982,
          -0.7306743374541474,
          1.0639826869463944,
          -0.1840803802864819,
          0.40082046310318303,
          -0.5148376882033135,
          -0.3620220453177036,
          -0.7698050276809209,
          -0.74303139752576,
          1.3811472287844522,
          -0.7450909075376958,
          0.24141438817937982,
          -1.008296287063045,
          -0.39868132353015445,
          -0.5725039685375061,
          1.6159313701450917,
          -0.7043126093013737,
          -1.0614316453709791,
          -0.4221597376662188,
          1.6694786304554137,
          -0.225682482527578,
          0.3134972385971202,
          -0.44151913177841184,
          0.2290573281077673,
          -0.12270698193080604,
          -1.333286966946457,
          3.2758964397650563,
          1.7642160910044444,
          -0.09057862574461313,
          -1.4510909396291642,
          -1.121981239721881,
          -0.6536486630077624,
          -1.488162119844002,
          -0.3636696533272522,
          -0.5411994163560873,
          0.4708438035089881,
          -0.8921399223898859,
          -0.7813382837477594,
          -0.44151913177841184,
          2.4768065551341056,
          -0.5914514606473119,
          -0.7541527515902117,
          -0.6787746851533747,
          -0.4752950959741528,
          -0.2977653329453184,
          -0.3208318450789948,
          -0.8311784260365968,
          -0.29199870491189917,
          -0.4481095638166051,
          1.0475066068509111,
          0.882745805896076,
          -0.3097104910145436,
          -1.3028062187698126,
          1.208148387781875,
          -1.1471072618674933,
          0.6397236244876939,
          -0.07986917368254863,
          -1.2550255864929105,
          1.7600970709805726,
          -0.1391830620262892,
          3.9102255234411722,
          -0.2672845847686735,
          0.9939593465405893,
          -0.6779508811486001,
          -0.4196883256518962,
          -0.37685051740363934,
          0.9280550261586554,
          0.22576211208867067,
          -0.324950865102866,
          -0.2586346427185449,
          -0.5708563605279575,
          -1.5421212821567107,
          1.04338758682704,
          0.6026524442728558,
          -0.1733709282244174,
          -1.0832624514974947,
          1.7189068707418638,
          -1.1541095959080738,
          -0.27634642882118937,
          -0.53090186629641,
          -0.28911539089518923,
          -0.5263709442701521,
          -0.6767151751414388,
          0.9486501262780098,
          1.5665031298586416,
          -0.43657630774976663,
          -1.008296287063045,
          0.33903516274511986,
          1.2122674078057463,
          -0.5642659284897642,
          -1.3497630470419406,
          0.4790818435567294,
          -0.329481787129124,
          2.101975732961856,
          0.8580316857528504,
          1.2699336881399383,
          -0.5168971982152489,
          1.6859547105508974,
          -1.0441317612707213,
          -1.135162103798268,
          -0.6235798168335048,
          0.1124890614322215,
          -0.030852835398485264,
          -1.4667432157198736,
          -0.05515505353932359,
          1.9825241522696002,
          -0.18655179230080454,
          -0.38550045945376793,
          -0.8336498380509194,
          -1.2373138003902657,
          1.7230258907657356,
          2.2790935939883044,
          0.01486828686648147,
          0.9527691463018805,
          -0.06339309358706488,
          -0.7302624354517607,
          -0.17007571220532078,
          0.21793597404331608,
          -0.7512694375735018,
          0.17509816579505869,
          0.17097914577118806,
          1.562384109834771,
          0.18210049983563925,
          -1.313927572834264,
          -0.23186101256338398,
          -0.07286683964196806,
          -0.41598120763041224,
          1.7477400109089607,
          1.5541460697870286,
          -0.4151574036256382,
          1.4635276292618697,
          -0.04156228746054976,
          -0.8670139002442736,
          -0.4567595058667343,
          3.7125125622953696,
          -1.6582776468298694,
          0.4296536032702793,
          0.5902953842012433,
          1.191672307686392,
          -0.410214579596993,
          -0.2611060547328675,
          0.023930130918997358,
          -0.6359368769051174,
          -0.40980267759460626,
          -0.6417035049385366,
          -0.7747478517095662,
          -0.6227560128287307,
          -0.7261434154278895,
          -1.229899564347298,
          1.5459080297392873,
          -0.16719239818861145,
          0.28631170643957254,
          2.089618672890243,
          -0.47447129196937876,
          -0.6075156387404084,
          1.051625626874782,
          -0.9547490267527231,
          -0.5679730465112476,
          0.08983445130093178,
          -0.1610138681528049,
          -0.9588680467765943,
          -1.2554374884952975,
          -0.8880209023660153,
          0.4420106633418918,
          -1.511640533980066,
          -1.1854141480894926,
          1.7765731510760563,
          0.1034272173797056,
          -0.3484292792389298,
          0.0292848569500299,
          -0.8855494903516927,
          0.20104799194544504,
          -0.5626183204802157,
          1.7230258907657356,
          0.4502487033896337,
          1.6859547105508974,
          1.4717656693096115,
          -0.8435354861082098,
          -0.14700920007164378,
          -1.5466522041829687,
          -0.8657781942371123,
          -1.1059170616287846,
          1.5953362700257374,
          0.21793597404331608,
          0.5243910638193094,
          0.16727202774970412,
          0.09518917733196373,
          -1.0758482154545275,
          -0.36737677134873614,
          0.4832008635806006,
          1.6118123501212211,
          1.5294319496438036,
          1.5829792099541253,
          -0.7805144797429854,
          -0.8723686262753055,
          -1.3687105391517467,
          0.5655812640580182,
          -1.2657350385549746,
          0.274778450372734,
          0.25541905626054096,
          0.9321740461825261,
          1.8630725715773444,
          0.9568881663257517,
          -0.9403324566691753,
          -0.33895553318402716,
          -1.2476113504499429,
          -0.8534211341654998,
          -0.375614811396478,
          -0.83076652403421,
          -0.8723686262753055,
          1.8877866917205708,
          0.4296536032702793,
          -0.8773114503039507,
          1.4099803689515484,
          -0.8513616241535644,
          -0.13341643399286995,
          -0.13341643399286995,
          2.505639695301203,
          1.1010538671612324,
          -0.5926871666544732,
          1.2369815279489713,
          0.09889629535344766,
          -0.25039660267080305,
          -1.1965355021539439,
          -0.6186369928048595,
          1.4882417494050948,
          -0.2697559967829961,
          0.018163502885578102,
          0.8168414855141416,
          0.09560107933435102,
          3.0287552383328036,
          0.19610516791680038,
          -0.08975482173983854,
          0.8662697258005922,
          -0.4044479515635737,
          -0.18902320431512717,
          0.6232475443922102,
          -1.0482507812945925,
          1.0969348471373612,
          0.3431541827689905,
          -1.0346580152158187,
          -0.5782705965709247,
          -1.2735611766003296,
          -0.19149461632944978,
          2.534472835468298,
          -1.3666510291398113,
          -1.5602449702617425,
          -0.13712355201435386,
          -0.8435354861082098,
          -0.1593662601432569,
          -1.5940209344574836,
          -0.7673336156665983,
          -0.7121387473467283,
          -1.327108436910651,
          -0.582389616594796,
          -0.5992775986926665,
          -1.0400127412468507,
          -0.38467665544899393,
          -0.38550045945376793,
          0.011573070847384837,
          0.3472732027928617,
          0.4626057634612462,
          -1.1273359657529134,
          1.1669581875431663,
          1.3070048683547764,
          0.38022536298382864,
          0.10383911938209232,
          -0.15854245613848228,
          -0.7104911393371803,
          -0.28334876286176996,
          1.414099388975419,
          1.352314088617356,
          0.14750073163512373,
          0.6932708847980152,
          -1.5499474202020653,
          -0.19149461632944978,
          -0.38220524343467127,
          -0.6697128411008588,
          0.23400015213641254,
          0.4172965431986662,
          1.1628391675192957,
          1.5953362700257374,
          -0.3068271769978343,
          -0.802345285869501,
          -1.9845040327204433,
          -0.3830290474394453,
          1.241100547972842,
          -0.4139216976184769,
          0.09395347132480242,
          -0.5337851803131194,
          0.19528136391202577,
          -0.016848167317324133,
          -0.3813814394298973,
          2.060785532723147,
          -0.6425273089433106,
          -0.2466894846493191,
          -0.14824490607880508,
          0.4832008635806006,
          -0.14536159206209576,
          -0.1614257701551922,
          -0.4526404858428631,
          0.7138659849173696,
          1.13812504737607,
          -0.06833591761571012,
          0.15656257568763962,
          -0.39003138148002586,
          1.9330959119831501,
          -0.934565828635756,
          0.6232475443922102,
          2.130808873128952,
          0.43377262329414995,
          -0.8987303544280792,
          1.587098229977996,
          -0.6449987209576332,
          1.113410927232845,
          -0.7265553174302768,
          -0.5807420085852474,
          1.0475066068509111,
          -0.5634421244849896,
          -0.5366684943298292,
          -0.3257746691076401,
          -0.32412706109809203,
          0.7921273653709165,
          1.7600970709805726,
          1.8877866917205708,
          -1.3242251228939412,
          -0.15236392610267632,
          -0.832414132043758,
          -0.14206637604299913,
          -1.3666510291398113,
          1.8012872712192813
         ],
         "y": [
          -0.7406424670917227,
          0.13377879292025938,
          -1.3686944947639612,
          -0.7963598165593261,
          -0.3663507487294199,
          -0.2543475054118904,
          2.1047326516382077,
          0.27401974055980577,
          0.9771196266986124,
          2.3681582154476257,
          1.8545731234163139,
          -0.1842270315921173,
          -0.4122133289034338,
          1.9777577395861858,
          0.13946423674348413,
          -0.9604796282564169,
          -0.6832194844771515,
          -0.9197339475233054,
          0.01817476851468752,
          -1.02680980619404,
          -0.050050557364010796,
          0.4351073155511764,
          -0.3818909618462345,
          0.14514968056670913,
          -0.43192286749061326,
          -0.969386823579469,
          0.3308741787920543,
          -0.48745070216410935,
          -1.1318010021295923,
          -0.20317851100286685,
          -0.2259202862957661,
          -1.2095020677136652,
          -0.5192891875741685,
          -0.35479034628886275,
          -0.9614272022269543,
          1.2443354863901803,
          0.8937331172913143,
          -1.005015604871678,
          0.19252837909358292,
          1.972072295762961,
          0.5867191508371725,
          -0.8793672963784089,
          -0.455991246342265,
          -0.9841689775198538,
          1.05292554434161,
          -1.0034994865188183,
          -0.3847336837578469,
          1.5665106363729218,
          -1.0283259245469,
          0.1697866038006834,
          1.828041052241265,
          0.8330883831769157,
          1.0017565499325867,
          -0.612909495863271,
          -0.418088287520766,
          -0.3517581095831429,
          -0.1683077888870876,
          -1.5331933360492667,
          0.1565205682131589,
          0.30813240349915477,
          -0.4694467967238972,
          2.3359407004493513,
          -0.6544132357728124,
          -0.9402015452869148,
          1.217803415215131,
          -0.03867966971756104,
          -0.6987596975939662,
          -0.4103181809623588,
          1.4907047187299236,
          0.4976471976066497,
          -1.030979131664405,
          0.30434210761700475,
          0.7838145367089672,
          0.4559539429030006,
          -0.6926952241825263,
          -0.6873888099475164,
          -1.2621871804755487,
          -1.2028690499199028,
          1.4167939490280008,
          -0.44480987348992296,
          -0.7034975674466535,
          0.8330883831769157,
          0.2948663679116303,
          0.17736719556498315,
          -1.087644055102546,
          -0.502990915280924,
          -0.5931999572760916,
          -0.18744878309194454,
          -0.8281983019693853,
          -0.7857469880893063,
          -1.3228319145899472,
          -0.5480954362785077,
          -0.23729117394221586,
          -1.1810748485975409,
          -1.3343923170305045,
          -0.9483506814335371,
          -0.8994558645538034,
          0.4938569017244997,
          1.6840098087195687,
          0.34034991849742907,
          0.20579441468110743,
          -0.3028632927034092,
          -0.8420328819392324,
          0.533655008487074,
          0.4237364279047269,
          -0.8678068939378518,
          2.2544493389831284,
          -0.057631149128310556,
          -0.4711524298708648,
          -0.1281306525362987,
          -0.017833042365736514,
          -0.35251616875957287,
          -0.24165001420668814,
          -0.8856212845839563,
          -0.3953465122278667,
          0.9316360761128133,
          1.4471163160851999,
          -0.5249746313973933,
          -0.03488937383541129,
          -0.5204262763388133,
          -0.8101943965291732,
          3.073153249527507,
          0.0617631711594113,
          -0.048155409422935794,
          -0.5185311283977383,
          -0.5552969984545926,
          0.1849477873292829,
          -0.4232051869616685,
          -0.47210000384140216,
          -0.6028652117755737,
          1.9777577395861858,
          -1.0738094751326988,
          0.17547204762390842,
          0.07881950262908582,
          0.4388976114333264,
          -0.23046864135434605,
          -0.17967867653353736,
          -0.22194047561950866,
          -0.05573600118723555,
          -1.019418729223848,
          -0.4804386547821319,
          -1.2436147306530145,
          -0.6741227743599919,
          0.027650508220062278,
          -0.3396291627602632,
          0.4824860140780502,
          1.170424716688257,
          -0.7470859700913773,
          0.5184938249584745,
          2.1994900486919553,
          0.4540587949619259,
          -0.9718505159028664,
          -1.0887811438671908,
          0.5109132331941745,
          0.28160033232410553,
          1.790138093419766,
          -0.8979397462009435,
          1.06050613610591,
          -0.6697639340955194,
          -0.3868183464930293,
          -0.30324232229162407,
          0.19442352703465768,
          0.09966612998091035,
          -0.1618642858874329,
          -1.2925095475327482,
          0.4786957181959002,
          -0.5310391048088331,
          0.5128083811352492,
          -0.3726047369349672,
          -0.6024861821873587,
          -0.5261117201620383,
          1.1855859002168565,
          -0.1396910549768559,
          1.4319551325566002,
          -0.17531983626906508,
          0.5734531152496478,
          -1.2508162928290991,
          -0.9081735450827483,
          0.2152701543864822,
          -0.03109907795326128,
          -0.9854955810786062,
          -1.1621233691867914,
          -0.014042746483586768,
          0.10724672174521009,
          -0.7116467035932759,
          -0.3189720502025461,
          0.4711151264316007,
          2.563358453378346,
          2.2601347828063534,
          0.8577253064108905,
          3.2835146709868264,
          -1.4752018090523733,
          -0.48707167257589423,
          -0.5139827733391586,
          -0.5890306318057265,
          0.03902139586651178,
          -0.6102562887457661,
          -0.9881487881961111,
          -1.3868879149982805,
          0.4237364279047269,
          3.272143783340377,
          0.17926234350605816,
          -1.016007462929913,
          0.13188364497918437,
          -0.3981892341394791,
          0.8444592708233658,
          1.738969099010742,
          1.208327675509756,
          0.29297121997055525,
          0.44837335113870114,
          -1.1549218070107066,
          -0.7694487157960618,
          -0.6354617563620629,
          -0.8462022074095973,
          -0.4830918618996368,
          -0.3959150566101892,
          0.560187079662123,
          0.5431307481924488,
          1.7598157263625662,
          -0.570079152394977,
          1.140102349631058,
          -0.47039437069443485,
          0.0579728752772613,
          0.4976471976066497,
          -1.2707153462103862,
          0.7288552464177939,
          0.8975234131734643,
          -0.498442560222344,
          -0.8793672963784089,
          1.6498971457802192,
          -0.8511295920563923,
          1.238650042566955,
          0.7478067258285435,
          -0.8623109649087344,
          -1.6101363424569097,
          0.42942187172795165,
          -0.008357302660361754,
          -0.4899143944875066,
          -0.7264288575336605,
          -0.43855588528437567,
          0.12809334909703463,
          -0.8403272487922651,
          -0.5513171877783352,
          -0.972798089873404,
          1.1344169058078333,
          0.006803880868237755,
          0.016279620573612513,
          3.3896429556870236,
          -0.531418134397048,
          -1.2121552748311701,
          0.3574062499671036,
          -0.8890325508778911,
          -0.991939084078261,
          0.18115749144713317,
          -0.7984444792945086,
          -1.2728000089455684,
          2.265820226629578,
          0.048497135571886535,
          -0.7135418515343508,
          -0.5697001228067621,
          -1.2360341388887146,
          0.5393404523102987,
          0.1849477873292829,
          -0.5391882409554554,
          -1.31127151214939,
          -1.2508162928290991,
          0.49575204966557496,
          -0.6176473657159585,
          0.16599630791853365,
          0.9998614019915114,
          0.08450494645231056,
          -0.10671548080215167,
          -0.42453179052042095,
          0.4009946526118274,
          -1.1670507538335864,
          -0.8444965742626299,
          -0.36616123393531247,
          1.5267125296103479,
          -0.34815732849510034,
          -0.7053927153877285,
          1.1988519358043814,
          0.1053515738041351,
          -0.44878968416618037,
          -0.2916819198510669,
          -0.07847777648013507,
          -0.3544113167006479,
          0.9752244787575371,
          1.0339740649308609,
          -0.8619319353205194,
          -1.3000901392970476,
          0.3782528773189278,
          1.3428831793260774,
          -1.2000263280082906,
          1.1476829413953575,
          -0.7967388461475411,
          -0.7992025384709385,
          -0.04057481765863604,
          -0.6456955552438676,
          -1.0827166704557512,
          -0.17531983626906508,
          -1.100720575895963,
          0.05228743145403655,
          0.8861525255270148,
          -1.086506966337901,
          -0.12926774130094376,
          1.318246256092103,
          0.9828050705218372,
          -0.6358407859502777,
          0.7762339449446677,
          -1.1410872270408594,
          0.050392283512961544,
          -0.9680602200207166,
          3.2683534874582265,
          0.13946423674348413,
          3.402908991274548,
          0.30813240349915477,
          2.5955759683766195,
          -1.0817690964852136,
          -0.6068450224518313,
          -0.6195425136570332,
          0.766758205239293,
          0.006803880868237755,
          0.1224079052738096,
          0.02386021233791227,
          -0.28732307958659464,
          2.01376555046661,
          1.0453449525773104,
          -0.6612357683606822,
          -0.004567006778212009,
          0.31381784732237955,
          -0.7209329285045432,
          -0.6295867977447305,
          0.12809334909703463,
          -0.3726047369349672,
          0.9657487390521624,
          -0.6892839578885914,
          0.8956282652323896,
          -1.0241565990765351,
          0.21147985850433243,
          1.2102228234508308,
          0.9240554843485138,
          -0.8693230122907117,
          0.8065563120018667,
          -0.25339993144135303,
          0.19631867497573266,
          0.49575204966557496,
          -0.7105096148286307,
          -0.8136056628231082,
          -0.8302829647045677,
          -0.2700772333228124,
          -1.333444743059967,
          -0.8458231778213824,
          -0.40141098563930655,
          -1.263703298828409,
          -0.9875802438137886,
          1.7749769098911663,
          2.3511018839779507,
          0.47490542231375016,
          0.8368786790590658,
          0.6549444767158706,
          -0.3098753400853865,
          0.30813240349915477,
          -0.7690696862078469,
          -0.822323343352053,
          0.4938569017244997,
          0.2683342967365807,
          1.598728151371196,
          0.6094609261300721,
          1.437640576379825,
          -0.9782940189025213,
          0.7440164299463934,
          0.5507113399567483,
          -1.0770312266325264,
          -0.6633204310958647,
          2.239288155454529,
          2.0895714681096083,
          1.1799004563936317,
          0.1546254202720839,
          -0.9705239123441141,
          -0.5431680516317129,
          -0.48347089148785194,
          0.042811691748661784,
          -0.01025245060143676,
          -0.0923123564499821,
          -0.6858726915946565,
          -1.1047003865722205,
          1.373205546383277,
          -1.269578257445741,
          0.2190604502686322,
          0.9638535911110876,
          0.3555111020260286,
          -1.0618700431039267,
          1.128731461984608,
          -0.8145532367936457,
          -0.3644556007883449,
          -1.1204301144831426,
          0.9714341828753871,
          0.08829524233446058,
          -0.12869919691862125,
          0.560187079662123,
          -0.873681852555184,
          1.0661915799291346,
          0.19631867497573266,
          2.5027137192639466,
          4.568424975035642,
          2.0687248407577834,
          1.1685295687471824,
          0.5052277893709497,
          -0.1465135875647257,
          1.820460460476965,
          -0.9818947999905637,
          -0.06142144501046056,
          1.178005308452557,
          -1.1111438895718753,
          -0.782146207001264,
          -0.9777254745201989,
          -0.9909915101077236,
          0.12619820115595962,
          1.505865902258523,
          1.1382072016899827,
          -0.8486658997329947,
          -0.5469583475138626,
          -1.2547961035053565,
          -0.9366007641988725,
          0.7004280273016696,
          0.18873808321143293
         ]
        },
        {
         "line": {
          "color": "black",
          "dash": "dash",
          "width": 1
         },
         "mode": "lines",
         "name": "Separation Boundary",
         "type": "scatter",
         "x": [
          -1.8058758643519095,
          -1.7463331415623982,
          -1.6867904187728868,
          -1.6272476959833757,
          -1.5677049731938644,
          -1.5081622504043533,
          -1.448619527614842,
          -1.3890768048253306,
          -1.3295340820358192,
          -1.2699913592463081,
          -1.2104486364567968,
          -1.1509059136672857,
          -1.0913631908777743,
          -1.031820468088263,
          -0.9722777452987517,
          -0.9127350225092405,
          -0.8531922997197292,
          -0.7936495769302179,
          -0.7341068541407068,
          -0.6745641313511954,
          -0.6150214085616841,
          -0.555478685772173,
          -0.4959359629826616,
          -0.4363932401931503,
          -0.37685051740363895,
          -0.31730779461412784,
          -0.2577650718246165,
          -0.19822234903510516,
          -0.13867962624559405,
          -0.07913690345608271,
          -0.01959418066657137,
          0.03994854212293997,
          0.0994912649124513,
          0.1590339877019622,
          0.21857671049147354,
          0.2781194332809849,
          0.3376621560704962,
          0.39720487886000755,
          0.4567476016495189,
          0.5162903244390298,
          0.5758330472285411,
          0.6353757700180525,
          0.6949184928075638,
          0.7544612155970751,
          0.8140039383865865,
          0.8735466611760974,
          0.9330893839656087
         ],
         "y": [
          4.580297830044778,
          4.444508856236295,
          4.308719882427813,
          4.172930908619331,
          4.0371419348108475,
          3.901352961002366,
          3.7655639871938833,
          3.6297750133854008,
          3.4939860395769182,
          3.358197065768436,
          3.2224080919599536,
          3.086619118151471,
          2.9508301443429885,
          2.8150411705345064,
          2.679252196726024,
          2.5434632229175413,
          2.407674249109059,
          2.2718852753005763,
          2.136096301492094,
          2.0003073276836116,
          1.8645183538751293,
          1.728729380066647,
          1.5929404062581645,
          1.457151432449682,
          1.3213624586411994,
          1.1855734848327175,
          1.049784511024235,
          0.9139955372157523,
          0.7782065634072702,
          0.6424175895987877,
          0.5066286157903052,
          0.37083964198182257,
          0.23505066817334,
          0.09926169436485845,
          -0.03652727944362407,
          -0.17231625325210664,
          -0.30810522706058924,
          -0.44389420086907183,
          -0.5796831746775544,
          -0.7154721484860359,
          -0.8512611222945184,
          -0.9870500961030011,
          -1.1228390699114836,
          -1.2586280437199662,
          -1.394417017528449,
          -1.53020599133693,
          -1.6659949651454127
         ]
        }
       ],
       "layout": {
        "template": {
         "data": {
          "bar": [
           {
            "error_x": {
             "color": "#2a3f5f"
            },
            "error_y": {
             "color": "#2a3f5f"
            },
            "marker": {
             "line": {
              "color": "#E5ECF6",
              "width": 0.5
             },
             "pattern": {
              "fillmode": "overlay",
              "size": 10,
              "solidity": 0.2
             }
            },
            "type": "bar"
           }
          ],
          "barpolar": [
           {
            "marker": {
             "line": {
              "color": "#E5ECF6",
              "width": 0.5
             },
             "pattern": {
              "fillmode": "overlay",
              "size": 10,
              "solidity": 0.2
             }
            },
            "type": "barpolar"
           }
          ],
          "carpet": [
           {
            "aaxis": {
             "endlinecolor": "#2a3f5f",
             "gridcolor": "white",
             "linecolor": "white",
             "minorgridcolor": "white",
             "startlinecolor": "#2a3f5f"
            },
            "baxis": {
             "endlinecolor": "#2a3f5f",
             "gridcolor": "white",
             "linecolor": "white",
             "minorgridcolor": "white",
             "startlinecolor": "#2a3f5f"
            },
            "type": "carpet"
           }
          ],
          "choropleth": [
           {
            "colorbar": {
             "outlinewidth": 0,
             "ticks": ""
            },
            "type": "choropleth"
           }
          ],
          "contour": [
           {
            "colorbar": {
             "outlinewidth": 0,
             "ticks": ""
            },
            "colorscale": [
             [
              0,
              "#0d0887"
             ],
             [
              0.1111111111111111,
              "#46039f"
             ],
             [
              0.2222222222222222,
              "#7201a8"
             ],
             [
              0.3333333333333333,
              "#9c179e"
             ],
             [
              0.4444444444444444,
              "#bd3786"
             ],
             [
              0.5555555555555556,
              "#d8576b"
             ],
             [
              0.6666666666666666,
              "#ed7953"
             ],
             [
              0.7777777777777778,
              "#fb9f3a"
             ],
             [
              0.8888888888888888,
              "#fdca26"
             ],
             [
              1,
              "#f0f921"
             ]
            ],
            "type": "contour"
           }
          ],
          "contourcarpet": [
           {
            "colorbar": {
             "outlinewidth": 0,
             "ticks": ""
            },
            "type": "contourcarpet"
           }
          ],
          "heatmap": [
           {
            "colorbar": {
             "outlinewidth": 0,
             "ticks": ""
            },
            "colorscale": [
             [
              0,
              "#0d0887"
             ],
             [
              0.1111111111111111,
              "#46039f"
             ],
             [
              0.2222222222222222,
              "#7201a8"
             ],
             [
              0.3333333333333333,
              "#9c179e"
             ],
             [
              0.4444444444444444,
              "#bd3786"
             ],
             [
              0.5555555555555556,
              "#d8576b"
             ],
             [
              0.6666666666666666,
              "#ed7953"
             ],
             [
              0.7777777777777778,
              "#fb9f3a"
             ],
             [
              0.8888888888888888,
              "#fdca26"
             ],
             [
              1,
              "#f0f921"
             ]
            ],
            "type": "heatmap"
           }
          ],
          "heatmapgl": [
           {
            "colorbar": {
             "outlinewidth": 0,
             "ticks": ""
            },
            "colorscale": [
             [
              0,
              "#0d0887"
             ],
             [
              0.1111111111111111,
              "#46039f"
             ],
             [
              0.2222222222222222,
              "#7201a8"
             ],
             [
              0.3333333333333333,
              "#9c179e"
             ],
             [
              0.4444444444444444,
              "#bd3786"
             ],
             [
              0.5555555555555556,
              "#d8576b"
             ],
             [
              0.6666666666666666,
              "#ed7953"
             ],
             [
              0.7777777777777778,
              "#fb9f3a"
             ],
             [
              0.8888888888888888,
              "#fdca26"
             ],
             [
              1,
              "#f0f921"
             ]
            ],
            "type": "heatmapgl"
           }
          ],
          "histogram": [
           {
            "marker": {
             "pattern": {
              "fillmode": "overlay",
              "size": 10,
              "solidity": 0.2
             }
            },
            "type": "histogram"
           }
          ],
          "histogram2d": [
           {
            "colorbar": {
             "outlinewidth": 0,
             "ticks": ""
            },
            "colorscale": [
             [
              0,
              "#0d0887"
             ],
             [
              0.1111111111111111,
              "#46039f"
             ],
             [
              0.2222222222222222,
              "#7201a8"
             ],
             [
              0.3333333333333333,
              "#9c179e"
             ],
             [
              0.4444444444444444,
              "#bd3786"
             ],
             [
              0.5555555555555556,
              "#d8576b"
             ],
             [
              0.6666666666666666,
              "#ed7953"
             ],
             [
              0.7777777777777778,
              "#fb9f3a"
             ],
             [
              0.8888888888888888,
              "#fdca26"
             ],
             [
              1,
              "#f0f921"
             ]
            ],
            "type": "histogram2d"
           }
          ],
          "histogram2dcontour": [
           {
            "colorbar": {
             "outlinewidth": 0,
             "ticks": ""
            },
            "colorscale": [
             [
              0,
              "#0d0887"
             ],
             [
              0.1111111111111111,
              "#46039f"
             ],
             [
              0.2222222222222222,
              "#7201a8"
             ],
             [
              0.3333333333333333,
              "#9c179e"
             ],
             [
              0.4444444444444444,
              "#bd3786"
             ],
             [
              0.5555555555555556,
              "#d8576b"
             ],
             [
              0.6666666666666666,
              "#ed7953"
             ],
             [
              0.7777777777777778,
              "#fb9f3a"
             ],
             [
              0.8888888888888888,
              "#fdca26"
             ],
             [
              1,
              "#f0f921"
             ]
            ],
            "type": "histogram2dcontour"
           }
          ],
          "mesh3d": [
           {
            "colorbar": {
             "outlinewidth": 0,
             "ticks": ""
            },
            "type": "mesh3d"
           }
          ],
          "parcoords": [
           {
            "line": {
             "colorbar": {
              "outlinewidth": 0,
              "ticks": ""
             }
            },
            "type": "parcoords"
           }
          ],
          "pie": [
           {
            "automargin": true,
            "type": "pie"
           }
          ],
          "scatter": [
           {
            "fillpattern": {
             "fillmode": "overlay",
             "size": 10,
             "solidity": 0.2
            },
            "type": "scatter"
           }
          ],
          "scatter3d": [
           {
            "line": {
             "colorbar": {
              "outlinewidth": 0,
              "ticks": ""
             }
            },
            "marker": {
             "colorbar": {
              "outlinewidth": 0,
              "ticks": ""
             }
            },
            "type": "scatter3d"
           }
          ],
          "scattercarpet": [
           {
            "marker": {
             "colorbar": {
              "outlinewidth": 0,
              "ticks": ""
             }
            },
            "type": "scattercarpet"
           }
          ],
          "scattergeo": [
           {
            "marker": {
             "colorbar": {
              "outlinewidth": 0,
              "ticks": ""
             }
            },
            "type": "scattergeo"
           }
          ],
          "scattergl": [
           {
            "marker": {
             "colorbar": {
              "outlinewidth": 0,
              "ticks": ""
             }
            },
            "type": "scattergl"
           }
          ],
          "scattermapbox": [
           {
            "marker": {
             "colorbar": {
              "outlinewidth": 0,
              "ticks": ""
             }
            },
            "type": "scattermapbox"
           }
          ],
          "scatterpolar": [
           {
            "marker": {
             "colorbar": {
              "outlinewidth": 0,
              "ticks": ""
             }
            },
            "type": "scatterpolar"
           }
          ],
          "scatterpolargl": [
           {
            "marker": {
             "colorbar": {
              "outlinewidth": 0,
              "ticks": ""
             }
            },
            "type": "scatterpolargl"
           }
          ],
          "scatterternary": [
           {
            "marker": {
             "colorbar": {
              "outlinewidth": 0,
              "ticks": ""
             }
            },
            "type": "scatterternary"
           }
          ],
          "surface": [
           {
            "colorbar": {
             "outlinewidth": 0,
             "ticks": ""
            },
            "colorscale": [
             [
              0,
              "#0d0887"
             ],
             [
              0.1111111111111111,
              "#46039f"
             ],
             [
              0.2222222222222222,
              "#7201a8"
             ],
             [
              0.3333333333333333,
              "#9c179e"
             ],
             [
              0.4444444444444444,
              "#bd3786"
             ],
             [
              0.5555555555555556,
              "#d8576b"
             ],
             [
              0.6666666666666666,
              "#ed7953"
             ],
             [
              0.7777777777777778,
              "#fb9f3a"
             ],
             [
              0.8888888888888888,
              "#fdca26"
             ],
             [
              1,
              "#f0f921"
             ]
            ],
            "type": "surface"
           }
          ],
          "table": [
           {
            "cells": {
             "fill": {
              "color": "#EBF0F8"
             },
             "line": {
              "color": "white"
             }
            },
            "header": {
             "fill": {
              "color": "#C8D4E3"
             },
             "line": {
              "color": "white"
             }
            },
            "type": "table"
           }
          ]
         },
         "layout": {
          "annotationdefaults": {
           "arrowcolor": "#2a3f5f",
           "arrowhead": 0,
           "arrowwidth": 1
          },
          "autotypenumbers": "strict",
          "coloraxis": {
           "colorbar": {
            "outlinewidth": 0,
            "ticks": ""
           }
          },
          "colorscale": {
           "diverging": [
            [
             0,
             "#8e0152"
            ],
            [
             0.1,
             "#c51b7d"
            ],
            [
             0.2,
             "#de77ae"
            ],
            [
             0.3,
             "#f1b6da"
            ],
            [
             0.4,
             "#fde0ef"
            ],
            [
             0.5,
             "#f7f7f7"
            ],
            [
             0.6,
             "#e6f5d0"
            ],
            [
             0.7,
             "#b8e186"
            ],
            [
             0.8,
             "#7fbc41"
            ],
            [
             0.9,
             "#4d9221"
            ],
            [
             1,
             "#276419"
            ]
           ],
           "sequential": [
            [
             0,
             "#0d0887"
            ],
            [
             0.1111111111111111,
             "#46039f"
            ],
            [
             0.2222222222222222,
             "#7201a8"
            ],
            [
             0.3333333333333333,
             "#9c179e"
            ],
            [
             0.4444444444444444,
             "#bd3786"
            ],
            [
             0.5555555555555556,
             "#d8576b"
            ],
            [
             0.6666666666666666,
             "#ed7953"
            ],
            [
             0.7777777777777778,
             "#fb9f3a"
            ],
            [
             0.8888888888888888,
             "#fdca26"
            ],
            [
             1,
             "#f0f921"
            ]
           ],
           "sequentialminus": [
            [
             0,
             "#0d0887"
            ],
            [
             0.1111111111111111,
             "#46039f"
            ],
            [
             0.2222222222222222,
             "#7201a8"
            ],
            [
             0.3333333333333333,
             "#9c179e"
            ],
            [
             0.4444444444444444,
             "#bd3786"
            ],
            [
             0.5555555555555556,
             "#d8576b"
            ],
            [
             0.6666666666666666,
             "#ed7953"
            ],
            [
             0.7777777777777778,
             "#fb9f3a"
            ],
            [
             0.8888888888888888,
             "#fdca26"
            ],
            [
             1,
             "#f0f921"
            ]
           ]
          },
          "colorway": [
           "#636efa",
           "#EF553B",
           "#00cc96",
           "#ab63fa",
           "#FFA15A",
           "#19d3f3",
           "#FF6692",
           "#B6E880",
           "#FF97FF",
           "#FECB52"
          ],
          "font": {
           "color": "#2a3f5f"
          },
          "geo": {
           "bgcolor": "white",
           "lakecolor": "white",
           "landcolor": "#E5ECF6",
           "showlakes": true,
           "showland": true,
           "subunitcolor": "white"
          },
          "hoverlabel": {
           "align": "left"
          },
          "hovermode": "closest",
          "mapbox": {
           "style": "light"
          },
          "paper_bgcolor": "white",
          "plot_bgcolor": "#E5ECF6",
          "polar": {
           "angularaxis": {
            "gridcolor": "white",
            "linecolor": "white",
            "ticks": ""
           },
           "bgcolor": "#E5ECF6",
           "radialaxis": {
            "gridcolor": "white",
            "linecolor": "white",
            "ticks": ""
           }
          },
          "scene": {
           "xaxis": {
            "backgroundcolor": "#E5ECF6",
            "gridcolor": "white",
            "gridwidth": 2,
            "linecolor": "white",
            "showbackground": true,
            "ticks": "",
            "zerolinecolor": "white"
           },
           "yaxis": {
            "backgroundcolor": "#E5ECF6",
            "gridcolor": "white",
            "gridwidth": 2,
            "linecolor": "white",
            "showbackground": true,
            "ticks": "",
            "zerolinecolor": "white"
           },
           "zaxis": {
            "backgroundcolor": "#E5ECF6",
            "gridcolor": "white",
            "gridwidth": 2,
            "linecolor": "white",
            "showbackground": true,
            "ticks": "",
            "zerolinecolor": "white"
           }
          },
          "shapedefaults": {
           "line": {
            "color": "#2a3f5f"
           }
          },
          "ternary": {
           "aaxis": {
            "gridcolor": "white",
            "linecolor": "white",
            "ticks": ""
           },
           "baxis": {
            "gridcolor": "white",
            "linecolor": "white",
            "ticks": ""
           },
           "bgcolor": "#E5ECF6",
           "caxis": {
            "gridcolor": "white",
            "linecolor": "white",
            "ticks": ""
           }
          },
          "title": {
           "x": 0.05
          },
          "xaxis": {
           "automargin": true,
           "gridcolor": "white",
           "linecolor": "white",
           "ticks": "",
           "title": {
            "standoff": 15
           },
           "zerolinecolor": "white",
           "zerolinewidth": 2
          },
          "yaxis": {
           "automargin": true,
           "gridcolor": "white",
           "linecolor": "white",
           "ticks": "",
           "title": {
            "standoff": 15
           },
           "zerolinecolor": "white",
           "zerolinewidth": 2
          }
         }
        },
        "title": {
         "text": "Separation Boundary on Training Set"
        }
       }
      }
     },
     "metadata": {},
     "output_type": "display_data"
    }
   ],
   "source": [
    "# Visualisation of the results\n",
    "fig = go.Figure()\n",
    "colors = Y_train.map({0: \"red\", 1: \"blue\"})\n",
    "fig.add_trace(\n",
    "    go.Scatter(\n",
    "        x=X_train[\"mean perimeter\"],\n",
    "        y=X_train[\"mean compactness\"],\n",
    "        mode=\"markers\",\n",
    "        marker=dict(color=colors),\n",
    "        name=\"Data\"\n",
    "    )\n",
    ")\n",
    "\n",
    "# Adding the separation boundary\n",
    "theta0 = model.intercept_\n",
    "theta1, theta2 = model.coef_[0]\n",
    "x1_values = np.linspace(X_train[\"mean perimeter\"].min(), X_train[\"mean perimeter\"].max(), 100)\n",
    "func = lambda x: (-theta0 - theta1 * x) / theta2\n",
    "x2_values = func(x1_values)\n",
    "arr_plot = np.array(list(zip(x1_values, x2_values)))\n",
    "arr_plot = arr_plot[(arr_plot[:, 1] >= X_train[\"mean compactness\"].min() - 0.1) & (arr_plot[:, 1] <= X_train[\"mean compactness\"].max() + 0.1)]\n",
    "fig.add_trace(\n",
    "    go.Scatter(\n",
    "        x=arr_plot[:, 0],\n",
    "        y=arr_plot[:, 1],\n",
    "        mode='lines',\n",
    "        name=\"Separation Boundary\",\n",
    "        line=dict(color=\"black\", width=1, dash=\"dash\")\n",
    "    )\n",
    ")\n",
    "fig.update_layout(\n",
    "    title_text=\"Separation Boundary on Training Set\"\n",
    ")"
   ]
  },
  {
   "cell_type": "code",
   "execution_count": 64,
   "metadata": {},
   "outputs": [],
   "source": [
    "y_predict = model.predict(X_train)"
   ]
  },
  {
   "cell_type": "code",
   "execution_count": 65,
   "metadata": {},
   "outputs": [
    {
     "data": {
      "text/plain": [
       "[<matplotlib.lines.Line2D at 0x13e39f750>]"
      ]
     },
     "execution_count": 65,
     "metadata": {},
     "output_type": "execute_result"
    },
    {
     "data": {
      "image/png": "[encoded data removed]",
      "text/plain": [
       "<Figure size 640x480 with 1 Axes>"
      ]
     },
     "metadata": {},
     "output_type": "display_data"
    }
   ],
   "source": [
    "# Sigmooid Function\n",
    "sigmoid = lambda x: 1 / (1 + np.exp(-x))\n",
    "\n",
    "# Training Data\n",
    "X = X_train.values @ model.coef_[0] + model.intercept_[0]\n",
    "Y = sigmoid(X)\n",
    "arr_plot_train = np.array(list(zip(Y, X)))\n",
    "arr_plot_train = arr_plot_train[arr_plot_train[:,1].argsort()]\n",
    "arr_plot_train\n",
    "\n",
    "# Testing Data\n",
    "X = X_test.values @ model.coef_[0] + model.intercept_[0]\n",
    "Y = sigmoid(X)\n",
    "arr_plot_test = np.array(list(zip(Y, X)))\n",
    "arr_plot_test = arr_plot_test[arr_plot_test[:,1].argsort()]\n",
    "arr_plot_test\n",
    "\n",
    "plt.plot(arr_plot_test[:, 1], arr_plot_test[:, 0])"
   ]
  }
 ],
 "metadata": {
  "kernelspec": {
   "display_name": "datascience",
   "language": "python",
   "name": "python3"
  },
  "language_info": {
   "codemirror_mode": {
    "name": "ipython",
    "version": 3
   },
   "file_extension": ".py",
   "mimetype": "text/x-python",
   "name": "python",
   "nbconvert_exporter": "python",
   "pygments_lexer": "ipython3",
   "version": "3.11.7"
  }
 },
 "nbformat": 4,
 "nbformat_minor": 2
}
