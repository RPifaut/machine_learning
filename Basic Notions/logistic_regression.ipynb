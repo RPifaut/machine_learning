{
 "cells": [
  {
   "cell_type": "code",
   "execution_count": 72,
   "metadata": {},
   "outputs": [],
   "source": [
    "import kagglehub\n",
    "import sklearn\n",
    "from sklearn.datasets import load_breast_cancer\n",
    "from sklearn.model_selection import train_test_split\n",
    "from sklearn.linear_model import LogisticRegression\n",
    "import pandas as pd\n",
    "import numpy as np\n",
    "import plotly.express as px\n",
    "import plotly.graph_objects as go\n",
    "import matplotlib.pyplot as plt"
   ]
  },
  {
   "cell_type": "markdown",
   "metadata": {},
   "source": [
    "### Data Loading"
   ]
  },
  {
   "cell_type": "code",
   "execution_count": 32,
   "metadata": {},
   "outputs": [
    {
     "data": {
      "text/html": [
       "<div>\n",
       "<style scoped>\n",
       "    .dataframe tbody tr th:only-of-type {\n",
       "        vertical-align: middle;\n",
       "    }\n",
       "\n",
       "    .dataframe tbody tr th {\n",
       "        vertical-align: top;\n",
       "    }\n",
       "\n",
       "    .dataframe thead th {\n",
       "        text-align: right;\n",
       "    }\n",
       "</style>\n",
       "<table border=\"1\" class=\"dataframe\">\n",
       "  <thead>\n",
       "    <tr style=\"text-align: right;\">\n",
       "      <th></th>\n",
       "      <th>target</th>\n",
       "      <th>mean radius</th>\n",
       "      <th>mean texture</th>\n",
       "      <th>mean perimeter</th>\n",
       "      <th>mean area</th>\n",
       "      <th>mean smoothness</th>\n",
       "      <th>mean compactness</th>\n",
       "      <th>mean concavity</th>\n",
       "      <th>mean concave points</th>\n",
       "      <th>mean symmetry</th>\n",
       "      <th>...</th>\n",
       "      <th>worst radius</th>\n",
       "      <th>worst texture</th>\n",
       "      <th>worst perimeter</th>\n",
       "      <th>worst area</th>\n",
       "      <th>worst smoothness</th>\n",
       "      <th>worst compactness</th>\n",
       "      <th>worst concavity</th>\n",
       "      <th>worst concave points</th>\n",
       "      <th>worst symmetry</th>\n",
       "      <th>worst fractal dimension</th>\n",
       "    </tr>\n",
       "  </thead>\n",
       "  <tbody>\n",
       "    <tr>\n",
       "      <th>0</th>\n",
       "      <td>0</td>\n",
       "      <td>17.99</td>\n",
       "      <td>10.38</td>\n",
       "      <td>122.80</td>\n",
       "      <td>1001.0</td>\n",
       "      <td>0.11840</td>\n",
       "      <td>0.27760</td>\n",
       "      <td>0.3001</td>\n",
       "      <td>0.14710</td>\n",
       "      <td>0.2419</td>\n",
       "      <td>...</td>\n",
       "      <td>25.38</td>\n",
       "      <td>17.33</td>\n",
       "      <td>184.60</td>\n",
       "      <td>2019.0</td>\n",
       "      <td>0.1622</td>\n",
       "      <td>0.6656</td>\n",
       "      <td>0.7119</td>\n",
       "      <td>0.2654</td>\n",
       "      <td>0.4601</td>\n",
       "      <td>0.11890</td>\n",
       "    </tr>\n",
       "    <tr>\n",
       "      <th>1</th>\n",
       "      <td>0</td>\n",
       "      <td>20.57</td>\n",
       "      <td>17.77</td>\n",
       "      <td>132.90</td>\n",
       "      <td>1326.0</td>\n",
       "      <td>0.08474</td>\n",
       "      <td>0.07864</td>\n",
       "      <td>0.0869</td>\n",
       "      <td>0.07017</td>\n",
       "      <td>0.1812</td>\n",
       "      <td>...</td>\n",
       "      <td>24.99</td>\n",
       "      <td>23.41</td>\n",
       "      <td>158.80</td>\n",
       "      <td>1956.0</td>\n",
       "      <td>0.1238</td>\n",
       "      <td>0.1866</td>\n",
       "      <td>0.2416</td>\n",
       "      <td>0.1860</td>\n",
       "      <td>0.2750</td>\n",
       "      <td>0.08902</td>\n",
       "    </tr>\n",
       "    <tr>\n",
       "      <th>2</th>\n",
       "      <td>0</td>\n",
       "      <td>19.69</td>\n",
       "      <td>21.25</td>\n",
       "      <td>130.00</td>\n",
       "      <td>1203.0</td>\n",
       "      <td>0.10960</td>\n",
       "      <td>0.15990</td>\n",
       "      <td>0.1974</td>\n",
       "      <td>0.12790</td>\n",
       "      <td>0.2069</td>\n",
       "      <td>...</td>\n",
       "      <td>23.57</td>\n",
       "      <td>25.53</td>\n",
       "      <td>152.50</td>\n",
       "      <td>1709.0</td>\n",
       "      <td>0.1444</td>\n",
       "      <td>0.4245</td>\n",
       "      <td>0.4504</td>\n",
       "      <td>0.2430</td>\n",
       "      <td>0.3613</td>\n",
       "      <td>0.08758</td>\n",
       "    </tr>\n",
       "    <tr>\n",
       "      <th>3</th>\n",
       "      <td>0</td>\n",
       "      <td>11.42</td>\n",
       "      <td>20.38</td>\n",
       "      <td>77.58</td>\n",
       "      <td>386.1</td>\n",
       "      <td>0.14250</td>\n",
       "      <td>0.28390</td>\n",
       "      <td>0.2414</td>\n",
       "      <td>0.10520</td>\n",
       "      <td>0.2597</td>\n",
       "      <td>...</td>\n",
       "      <td>14.91</td>\n",
       "      <td>26.50</td>\n",
       "      <td>98.87</td>\n",
       "      <td>567.7</td>\n",
       "      <td>0.2098</td>\n",
       "      <td>0.8663</td>\n",
       "      <td>0.6869</td>\n",
       "      <td>0.2575</td>\n",
       "      <td>0.6638</td>\n",
       "      <td>0.17300</td>\n",
       "    </tr>\n",
       "    <tr>\n",
       "      <th>4</th>\n",
       "      <td>0</td>\n",
       "      <td>20.29</td>\n",
       "      <td>14.34</td>\n",
       "      <td>135.10</td>\n",
       "      <td>1297.0</td>\n",
       "      <td>0.10030</td>\n",
       "      <td>0.13280</td>\n",
       "      <td>0.1980</td>\n",
       "      <td>0.10430</td>\n",
       "      <td>0.1809</td>\n",
       "      <td>...</td>\n",
       "      <td>22.54</td>\n",
       "      <td>16.67</td>\n",
       "      <td>152.20</td>\n",
       "      <td>1575.0</td>\n",
       "      <td>0.1374</td>\n",
       "      <td>0.2050</td>\n",
       "      <td>0.4000</td>\n",
       "      <td>0.1625</td>\n",
       "      <td>0.2364</td>\n",
       "      <td>0.07678</td>\n",
       "    </tr>\n",
       "  </tbody>\n",
       "</table>\n",
       "<p>5 rows × 31 columns</p>\n",
       "</div>"
      ],
      "text/plain": [
       "   target  mean radius  mean texture  mean perimeter  mean area  \\\n",
       "0       0        17.99         10.38          122.80     1001.0   \n",
       "1       0        20.57         17.77          132.90     1326.0   \n",
       "2       0        19.69         21.25          130.00     1203.0   \n",
       "3       0        11.42         20.38           77.58      386.1   \n",
       "4       0        20.29         14.34          135.10     1297.0   \n",
       "\n",
       "   mean smoothness  mean compactness  mean concavity  mean concave points  \\\n",
       "0          0.11840           0.27760          0.3001              0.14710   \n",
       "1          0.08474           0.07864          0.0869              0.07017   \n",
       "2          0.10960           0.15990          0.1974              0.12790   \n",
       "3          0.14250           0.28390          0.2414              0.10520   \n",
       "4          0.10030           0.13280          0.1980              0.10430   \n",
       "\n",
       "   mean symmetry  ...  worst radius  worst texture  worst perimeter  \\\n",
       "0         0.2419  ...         25.38          17.33           184.60   \n",
       "1         0.1812  ...         24.99          23.41           158.80   \n",
       "2         0.2069  ...         23.57          25.53           152.50   \n",
       "3         0.2597  ...         14.91          26.50            98.87   \n",
       "4         0.1809  ...         22.54          16.67           152.20   \n",
       "\n",
       "   worst area  worst smoothness  worst compactness  worst concavity  \\\n",
       "0      2019.0            0.1622             0.6656           0.7119   \n",
       "1      1956.0            0.1238             0.1866           0.2416   \n",
       "2      1709.0            0.1444             0.4245           0.4504   \n",
       "3       567.7            0.2098             0.8663           0.6869   \n",
       "4      1575.0            0.1374             0.2050           0.4000   \n",
       "\n",
       "   worst concave points  worst symmetry  worst fractal dimension  \n",
       "0                0.2654          0.4601                  0.11890  \n",
       "1                0.1860          0.2750                  0.08902  \n",
       "2                0.2430          0.3613                  0.08758  \n",
       "3                0.2575          0.6638                  0.17300  \n",
       "4                0.1625          0.2364                  0.07678  \n",
       "\n",
       "[5 rows x 31 columns]"
      ]
     },
     "execution_count": 32,
     "metadata": {},
     "output_type": "execute_result"
    }
   ],
   "source": [
    "breast = load_breast_cancer()\n",
    "df_data = pd.DataFrame(breast.data, columns=breast.feature_names)\n",
    "df_data.insert(0,\"target\", breast.target)\n",
    "df_data.head()"
   ]
  },
  {
   "cell_type": "code",
   "execution_count": 33,
   "metadata": {},
   "outputs": [
    {
     "name": "stdout",
     "output_type": "stream",
     "text": [
      "<class 'pandas.core.frame.DataFrame'>\n",
      "RangeIndex: 569 entries, 0 to 568\n",
      "Data columns (total 31 columns):\n",
      " #   Column                   Non-Null Count  Dtype  \n",
      "---  ------                   --------------  -----  \n",
      " 0   target                   569 non-null    int64  \n",
      " 1   mean radius              569 non-null    float64\n",
      " 2   mean texture             569 non-null    float64\n",
      " 3   mean perimeter           569 non-null    float64\n",
      " 4   mean area                569 non-null    float64\n",
      " 5   mean smoothness          569 non-null    float64\n",
      " 6   mean compactness         569 non-null    float64\n",
      " 7   mean concavity           569 non-null    float64\n",
      " 8   mean concave points      569 non-null    float64\n",
      " 9   mean symmetry            569 non-null    float64\n",
      " 10  mean fractal dimension   569 non-null    float64\n",
      " 11  radius error             569 non-null    float64\n",
      " 12  texture error            569 non-null    float64\n",
      " 13  perimeter error          569 non-null    float64\n",
      " 14  area error               569 non-null    float64\n",
      " 15  smoothness error         569 non-null    float64\n",
      " 16  compactness error        569 non-null    float64\n",
      " 17  concavity error          569 non-null    float64\n",
      " 18  concave points error     569 non-null    float64\n",
      " 19  symmetry error           569 non-null    float64\n",
      " 20  fractal dimension error  569 non-null    float64\n",
      " 21  worst radius             569 non-null    float64\n",
      " 22  worst texture            569 non-null    float64\n",
      " 23  worst perimeter          569 non-null    float64\n",
      " 24  worst area               569 non-null    float64\n",
      " 25  worst smoothness         569 non-null    float64\n",
      " 26  worst compactness        569 non-null    float64\n",
      " 27  worst concavity          569 non-null    float64\n",
      " 28  worst concave points     569 non-null    float64\n",
      " 29  worst symmetry           569 non-null    float64\n",
      " 30  worst fractal dimension  569 non-null    float64\n",
      "dtypes: float64(30), int64(1)\n",
      "memory usage: 137.9 KB\n"
     ]
    }
   ],
   "source": [
    "df_data.info()"
   ]
  },
  {
   "cell_type": "code",
   "execution_count": 41,
   "metadata": {},
   "outputs": [
    {
     "data": {
      "application/vnd.plotly.v1+json": {
       "config": {
        "plotlyServerURL": "https://plot.ly"
       },
       "data": [
        {
         "hovertemplate": "color=0<br>target=%{x}<br>mean perimeter=%{y}<extra></extra>",
         "legendgroup": "0",
         "marker": {
          "color": "red",
          "symbol": "circle"
         },
         "mode": "markers",
         "name": "0",
         "orientation": "v",
         "showlegend": true,
         "type": "scatter",
         "x": [
          0,
          0,
          0,
          0,
          0,
          0,
          0,
          0,
          0,
          0,
          0,
          0,
          0,
          0,
          0,
          0,
          0,
          0,
          0,
          0,
          0,
          0,
          0,
          0,
          0,
          0,
          0,
          0,
          0,
          0,
          0,
          0,
          0,
          0,
          0,
          0,
          0,
          0,
          0,
          0,
          0,
          0,
          0,
          0,
          0,
          0,
          0,
          0,
          0,
          0,
          0,
          0,
          0,
          0,
          0,
          0,
          0,
          0,
          0,
          0,
          0,
          0,
          0,
          0,
          0,
          0,
          0,
          0,
          0,
          0,
          0,
          0,
          0,
          0,
          0,
          0,
          0,
          0,
          0,
          0,
          0,
          0,
          0,
          0,
          0,
          0,
          0,
          0,
          0,
          0,
          0,
          0,
          0,
          0,
          0,
          0,
          0,
          0,
          0,
          0,
          0,
          0,
          0,
          0,
          0,
          0,
          0,
          0,
          0,
          0,
          0,
          0,
          0,
          0,
          0,
          0,
          0,
          0,
          0,
          0,
          0,
          0,
          0,
          0,
          0,
          0,
          0,
          0,
          0,
          0,
          0,
          0,
          0,
          0,
          0,
          0,
          0,
          0,
          0,
          0,
          0,
          0,
          0,
          0,
          0,
          0,
          0,
          0,
          0,
          0,
          0,
          0,
          0,
          0,
          0,
          0,
          0,
          0,
          0,
          0,
          0,
          0,
          0,
          0,
          0,
          0,
          0,
          0,
          0,
          0,
          0,
          0,
          0,
          0,
          0,
          0,
          0,
          0,
          0,
          0,
          0,
          0,
          0,
          0,
          0,
          0,
          0,
          0,
          0,
          0,
          0,
          0,
          0,
          0,
          0,
          0,
          0,
          0,
          0,
          0,
          0,
          0,
          0,
          0,
          0,
          0,
          0,
          0,
          0,
          0,
          0,
          0
         ],
         "xaxis": "x",
         "y": [
          122.8,
          132.9,
          130,
          77.58,
          135.1,
          82.57,
          119.6,
          90.2,
          87.5,
          83.97,
          102.7,
          103.6,
          132.4,
          103.7,
          93.6,
          96.73,
          94.74,
          108.1,
          130,
          102.5,
          137.2,
          110,
          116,
          97.41,
          122.1,
          102.4,
          115,
          124.8,
          77.93,
          112.8,
          127.9,
          107,
          110.1,
          93.63,
          95.54,
          88.4,
          86.18,
          71.9,
          128.3,
          87.32,
          85.42,
          123.7,
          85.98,
          120.3,
          97.26,
          125.5,
          95.55,
          96.42,
          82.69,
          97.4,
          123.6,
          114.2,
          90.43,
          104.1,
          120.2,
          143.7,
          171.5,
          129.1,
          121.1,
          94.25,
          122,
          100.2,
          100.3,
          132.4,
          94.48,
          88.05,
          87.21,
          152.8,
          98.64,
          105.7,
          114.2,
          121.4,
          166.2,
          87.76,
          123.4,
          130.4,
          101.7,
          106.2,
          120.2,
          81.72,
          96.85,
          105.1,
          78.99,
          117.4,
          126.3,
          130.7,
          152.1,
          109.3,
          116.1,
          85.84,
          102.5,
          109.3,
          182.1,
          142.7,
          101.2,
          98.92,
          118.6,
          94.37,
          81.15,
          100.4,
          90.63,
          117.4,
          127.5,
          94.49,
          115.1,
          158.9,
          91.56,
          98.78,
          109.7,
          134.7,
          188.5,
          114.5,
          92.87,
          90.96,
          129.7,
          128,
          102.6,
          85.26,
          113.4,
          134.4,
          153.5,
          132.5,
          113.4,
          129.1,
          138.9,
          130.7,
          113,
          126.5,
          91.43,
          133.6,
          103.2,
          110.2,
          103.7,
          132.9,
          111,
          114.4,
          100,
          111.6,
          135.7,
          147.3,
          115.2,
          120.9,
          126.2,
          127.2,
          108.8,
          75,
          129.5,
          134.7,
          118.7,
          131.1,
          135.9,
          106.9,
          107.5,
          105.8,
          111.8,
          122.9,
          155.1,
          129.9,
          107.1,
          174.2,
          98,
          133.8,
          133.7,
          140.9,
          147.2,
          109,
          141.3,
          134.8,
          73.3,
          93.97,
          128.9,
          102.4,
          144.4,
          124.4,
          117.8,
          96.71,
          102.9,
          102.1,
          133.8,
          123.7,
          91.12,
          112.4,
          117.5,
          117.3,
          138.1,
          127.7,
          111.2,
          186.9,
          119,
          109.8,
          128.1,
          107.1,
          118.4,
          121.3,
          137.8,
          92.33,
          152.1,
          103.8,
          88.64,
          97.26,
          120.8,
          130.5,
          165.5,
          134.7,
          137.8,
          93.77,
          103.4,
          143,
          142,
          131.2,
          108.3,
          140.1
         ],
         "yaxis": "y"
        },
        {
         "hovertemplate": "color=1<br>target=%{x}<br>mean perimeter=%{y}<extra></extra>",
         "legendgroup": "1",
         "marker": {
          "color": "blue",
          "symbol": "circle"
         },
         "mode": "markers",
         "name": "1",
         "orientation": "v",
         "showlegend": true,
         "type": "scatter",
         "x": [
          1,
          1,
          1,
          1,
          1,
          1,
          1,
          1,
          1,
          1,
          1,
          1,
          1,
          1,
          1,
          1,
          1,
          1,
          1,
          1,
          1,
          1,
          1,
          1,
          1,
          1,
          1,
          1,
          1,
          1,
          1,
          1,
          1,
          1,
          1,
          1,
          1,
          1,
          1,
          1,
          1,
          1,
          1,
          1,
          1,
          1,
          1,
          1,
          1,
          1,
          1,
          1,
          1,
          1,
          1,
          1,
          1,
          1,
          1,
          1,
          1,
          1,
          1,
          1,
          1,
          1,
          1,
          1,
          1,
          1,
          1,
          1,
          1,
          1,
          1,
          1,
          1,
          1,
          1,
          1,
          1,
          1,
          1,
          1,
          1,
          1,
          1,
          1,
          1,
          1,
          1,
          1,
          1,
          1,
          1,
          1,
          1,
          1,
          1,
          1,
          1,
          1,
          1,
          1,
          1,
          1,
          1,
          1,
          1,
          1,
          1,
          1,
          1,
          1,
          1,
          1,
          1,
          1,
          1,
          1,
          1,
          1,
          1,
          1,
          1,
          1,
          1,
          1,
          1,
          1,
          1,
          1,
          1,
          1,
          1,
          1,
          1,
          1,
          1,
          1,
          1,
          1,
          1,
          1,
          1,
          1,
          1,
          1,
          1,
          1,
          1,
          1,
          1,
          1,
          1,
          1,
          1,
          1,
          1,
          1,
          1,
          1,
          1,
          1,
          1,
          1,
          1,
          1,
          1,
          1,
          1,
          1,
          1,
          1,
          1,
          1,
          1,
          1,
          1,
          1,
          1,
          1,
          1,
          1,
          1,
          1,
          1,
          1,
          1,
          1,
          1,
          1,
          1,
          1,
          1,
          1,
          1,
          1,
          1,
          1,
          1,
          1,
          1,
          1,
          1,
          1,
          1,
          1,
          1,
          1,
          1,
          1,
          1,
          1,
          1,
          1,
          1,
          1,
          1,
          1,
          1,
          1,
          1,
          1,
          1,
          1,
          1,
          1,
          1,
          1,
          1,
          1,
          1,
          1,
          1,
          1,
          1,
          1,
          1,
          1,
          1,
          1,
          1,
          1,
          1,
          1,
          1,
          1,
          1,
          1,
          1,
          1,
          1,
          1,
          1,
          1,
          1,
          1,
          1,
          1,
          1,
          1,
          1,
          1,
          1,
          1,
          1,
          1,
          1,
          1,
          1,
          1,
          1,
          1,
          1,
          1,
          1,
          1,
          1,
          1,
          1,
          1,
          1,
          1,
          1,
          1,
          1,
          1,
          1,
          1,
          1,
          1,
          1,
          1,
          1,
          1,
          1,
          1,
          1,
          1,
          1,
          1,
          1,
          1,
          1,
          1,
          1,
          1,
          1,
          1,
          1,
          1,
          1,
          1,
          1,
          1,
          1,
          1,
          1,
          1,
          1,
          1,
          1,
          1,
          1,
          1,
          1,
          1,
          1,
          1,
          1,
          1,
          1,
          1,
          1,
          1,
          1,
          1,
          1,
          1,
          1,
          1,
          1,
          1,
          1,
          1,
          1,
          1,
          1,
          1,
          1,
          1,
          1,
          1,
          1,
          1,
          1
         ],
         "xaxis": "x",
         "y": [
          87.46,
          85.63,
          60.34,
          82.61,
          51.71,
          78.04,
          86.91,
          74.72,
          87.21,
          75.71,
          73.34,
          82.61,
          54.34,
          64.55,
          54.66,
          59.2,
          60.11,
          71.8,
          58.79,
          81.37,
          58.79,
          79.19,
          87.91,
          83.19,
          73.81,
          86.49,
          76.95,
          79.78,
          95.77,
          94.57,
          84.74,
          86.6,
          77.79,
          62.11,
          74.34,
          43.79,
          77.22,
          63.95,
          67.41,
          75.17,
          79.01,
          72.48,
          62.5,
          82.15,
          97.83,
          68.64,
          55.84,
          76.53,
          58.74,
          73.34,
          94.28,
          86.1,
          88.44,
          99.58,
          79.08,
          102,
          74.72,
          73.06,
          73,
          61.24,
          73.66,
          83.74,
          68.26,
          78.11,
          97.84,
          93.97,
          88.12,
          83.51,
          53.27,
          63.78,
          70.87,
          85.31,
          78.27,
          108.4,
          76.84,
          68.69,
          76.1,
          79.85,
          95.5,
          68.77,
          96.22,
          78.85,
          70.21,
          67.49,
          54.42,
          64.6,
          82.01,
          81.29,
          73.53,
          63.76,
          74.68,
          75.27,
          78.83,
          82.02,
          60.73,
          82.53,
          78.54,
          81.09,
          62.92,
          87.02,
          98.17,
          75.51,
          77.32,
          65.05,
          87.88,
          88.59,
          65.12,
          84.55,
          92.51,
          66.62,
          97.45,
          81.35,
          71.76,
          70.79,
          60.21,
          89.79,
          92.55,
          87.38,
          78.61,
          73.93,
          88.54,
          66.72,
          84.13,
          84.95,
          68.01,
          73.87,
          73.28,
          69.28,
          87.16,
          82.38,
          69.5,
          90.3,
          72.23,
          61.5,
          76.2,
          71.79,
          86.24,
          88.99,
          74.24,
          84.08,
          79.83,
          77.87,
          81.89,
          73.72,
          72.17,
          96.03,
          97.03,
          83.14,
          75.54,
          81.78,
          88.06,
          69.14,
          91.22,
          66.85,
          80.43,
          66.86,
          73.59,
          74.23,
          84.07,
          56.36,
          85.69,
          82.71,
          74.33,
          92.68,
          82.29,
          73.73,
          54.09,
          79.19,
          77.25,
          60.07,
          78.6,
          66.52,
          82.82,
          78.01,
          81.25,
          90.03,
          76.09,
          84.52,
          71.94,
          71.38,
          77.88,
          84.08,
          64.41,
          94.15,
          61.64,
          71.49,
          75.03,
          66.2,
          76.66,
          94.87,
          73.02,
          77.23,
          73.7,
          71.24,
          81.92,
          85.09,
          88.52,
          56.74,
          59.82,
          79.42,
          85.24,
          81.87,
          106.6,
          85.48,
          78.31,
          97.65,
          87.84,
          106.3,
          70.15,
          85.89,
          88.27,
          73.16,
          70.67,
          78.75,
          80.64,
          85.79,
          78.78,
          88.37,
          73.38,
          65.75,
          55.27,
          78.07,
          89.75,
          88.1,
          83.05,
          70.31,
          75.26,
          76.14,
          84.18,
          83.18,
          78.29,
          70.39,
          104.3,
          82.63,
          78.41,
          72.49,
          70.92,
          59.75,
          97.53,
          76.39,
          59.6,
          80.88,
          70.95,
          74.2,
          98.22,
          75.46,
          89.46,
          61.93,
          63.19,
          67.49,
          68.79,
          70.47,
          80.98,
          81.47,
          94.89,
          82.67,
          89.78,
          88.68,
          89.59,
          71.73,
          88.37,
          66.82,
          77.61,
          95.88,
          94.25,
          76.83,
          76.77,
          93.86,
          80.62,
          86.34,
          74.87,
          84.1,
          82.61,
          61.68,
          92.25,
          73.88,
          84.28,
          86.87,
          85.98,
          61.06,
          76.38,
          61.49,
          76.85,
          96.45,
          77.42,
          70.41,
          82.89,
          92.41,
          88.97,
          73.99,
          78.29,
          88.73,
          87.32,
          87.76,
          102.8,
          82.85,
          94.21,
          75.49,
          78.18,
          114.6,
          78.83,
          84.06,
          96.12,
          82.69,
          80.45,
          98.73,
          81.25,
          61.49,
          64.12,
          79.47,
          71.25,
          104.7,
          76.31,
          94.66,
          94.29,
          72.76,
          84.45,
          82.51,
          59.96,
          71.3,
          88.73,
          63,
          54.53,
          87.44,
          78.94,
          90.31,
          77.83,
          75.89,
          75.21,
          87.76,
          70.79,
          76.37,
          47.98,
          48.34,
          74.65,
          95.81,
          94.7,
          84.88,
          89.77,
          87.19,
          65.31,
          65.85,
          61.05,
          68.89,
          68.51,
          71.49,
          81.35,
          59.01,
          82.5,
          65.67,
          64.73,
          59.26,
          96.39,
          74.52,
          91.38,
          70.67,
          47.92
         ],
         "yaxis": "y"
        }
       ],
       "layout": {
        "legend": {
         "title": {
          "text": "color"
         },
         "tracegroupgap": 0
        },
        "margin": {
         "t": 60
        },
        "template": {
         "data": {
          "bar": [
           {
            "error_x": {
             "color": "#2a3f5f"
            },
            "error_y": {
             "color": "#2a3f5f"
            },
            "marker": {
             "line": {
              "color": "#E5ECF6",
              "width": 0.5
             },
             "pattern": {
              "fillmode": "overlay",
              "size": 10,
              "solidity": 0.2
             }
            },
            "type": "bar"
           }
          ],
          "barpolar": [
           {
            "marker": {
             "line": {
              "color": "#E5ECF6",
              "width": 0.5
             },
             "pattern": {
              "fillmode": "overlay",
              "size": 10,
              "solidity": 0.2
             }
            },
            "type": "barpolar"
           }
          ],
          "carpet": [
           {
            "aaxis": {
             "endlinecolor": "#2a3f5f",
             "gridcolor": "white",
             "linecolor": "white",
             "minorgridcolor": "white",
             "startlinecolor": "#2a3f5f"
            },
            "baxis": {
             "endlinecolor": "#2a3f5f",
             "gridcolor": "white",
             "linecolor": "white",
             "minorgridcolor": "white",
             "startlinecolor": "#2a3f5f"
            },
            "type": "carpet"
           }
          ],
          "choropleth": [
           {
            "colorbar": {
             "outlinewidth": 0,
             "ticks": ""
            },
            "type": "choropleth"
           }
          ],
          "contour": [
           {
            "colorbar": {
             "outlinewidth": 0,
             "ticks": ""
            },
            "colorscale": [
             [
              0,
              "#0d0887"
             ],
             [
              0.1111111111111111,
              "#46039f"
             ],
             [
              0.2222222222222222,
              "#7201a8"
             ],
             [
              0.3333333333333333,
              "#9c179e"
             ],
             [
              0.4444444444444444,
              "#bd3786"
             ],
             [
              0.5555555555555556,
              "#d8576b"
             ],
             [
              0.6666666666666666,
              "#ed7953"
             ],
             [
              0.7777777777777778,
              "#fb9f3a"
             ],
             [
              0.8888888888888888,
              "#fdca26"
             ],
             [
              1,
              "#f0f921"
             ]
            ],
            "type": "contour"
           }
          ],
          "contourcarpet": [
           {
            "colorbar": {
             "outlinewidth": 0,
             "ticks": ""
            },
            "type": "contourcarpet"
           }
          ],
          "heatmap": [
           {
            "colorbar": {
             "outlinewidth": 0,
             "ticks": ""
            },
            "colorscale": [
             [
              0,
              "#0d0887"
             ],
             [
              0.1111111111111111,
              "#46039f"
             ],
             [
              0.2222222222222222,
              "#7201a8"
             ],
             [
              0.3333333333333333,
              "#9c179e"
             ],
             [
              0.4444444444444444,
              "#bd3786"
             ],
             [
              0.5555555555555556,
              "#d8576b"
             ],
             [
              0.6666666666666666,
              "#ed7953"
             ],
             [
              0.7777777777777778,
              "#fb9f3a"
             ],
             [
              0.8888888888888888,
              "#fdca26"
             ],
             [
              1,
              "#f0f921"
             ]
            ],
            "type": "heatmap"
           }
          ],
          "heatmapgl": [
           {
            "colorbar": {
             "outlinewidth": 0,
             "ticks": ""
            },
            "colorscale": [
             [
              0,
              "#0d0887"
             ],
             [
              0.1111111111111111,
              "#46039f"
             ],
             [
              0.2222222222222222,
              "#7201a8"
             ],
             [
              0.3333333333333333,
              "#9c179e"
             ],
             [
              0.4444444444444444,
              "#bd3786"
             ],
             [
              0.5555555555555556,
              "#d8576b"
             ],
             [
              0.6666666666666666,
              "#ed7953"
             ],
             [
              0.7777777777777778,
              "#fb9f3a"
             ],
             [
              0.8888888888888888,
              "#fdca26"
             ],
             [
              1,
              "#f0f921"
             ]
            ],
            "type": "heatmapgl"
           }
          ],
          "histogram": [
           {
            "marker": {
             "pattern": {
              "fillmode": "overlay",
              "size": 10,
              "solidity": 0.2
             }
            },
            "type": "histogram"
           }
          ],
          "histogram2d": [
           {
            "colorbar": {
             "outlinewidth": 0,
             "ticks": ""
            },
            "colorscale": [
             [
              0,
              "#0d0887"
             ],
             [
              0.1111111111111111,
              "#46039f"
             ],
             [
              0.2222222222222222,
              "#7201a8"
             ],
             [
              0.3333333333333333,
              "#9c179e"
             ],
             [
              0.4444444444444444,
              "#bd3786"
             ],
             [
              0.5555555555555556,
              "#d8576b"
             ],
             [
              0.6666666666666666,
              "#ed7953"
             ],
             [
              0.7777777777777778,
              "#fb9f3a"
             ],
             [
              0.8888888888888888,
              "#fdca26"
             ],
             [
              1,
              "#f0f921"
             ]
            ],
            "type": "histogram2d"
           }
          ],
          "histogram2dcontour": [
           {
            "colorbar": {
             "outlinewidth": 0,
             "ticks": ""
            },
            "colorscale": [
             [
              0,
              "#0d0887"
             ],
             [
              0.1111111111111111,
              "#46039f"
             ],
             [
              0.2222222222222222,
              "#7201a8"
             ],
             [
              0.3333333333333333,
              "#9c179e"
             ],
             [
              0.4444444444444444,
              "#bd3786"
             ],
             [
              0.5555555555555556,
              "#d8576b"
             ],
             [
              0.6666666666666666,
              "#ed7953"
             ],
             [
              0.7777777777777778,
              "#fb9f3a"
             ],
             [
              0.8888888888888888,
              "#fdca26"
             ],
             [
              1,
              "#f0f921"
             ]
            ],
            "type": "histogram2dcontour"
           }
          ],
          "mesh3d": [
           {
            "colorbar": {
             "outlinewidth": 0,
             "ticks": ""
            },
            "type": "mesh3d"
           }
          ],
          "parcoords": [
           {
            "line": {
             "colorbar": {
              "outlinewidth": 0,
              "ticks": ""
             }
            },
            "type": "parcoords"
           }
          ],
          "pie": [
           {
            "automargin": true,
            "type": "pie"
           }
          ],
          "scatter": [
           {
            "fillpattern": {
             "fillmode": "overlay",
             "size": 10,
             "solidity": 0.2
            },
            "type": "scatter"
           }
          ],
          "scatter3d": [
           {
            "line": {
             "colorbar": {
              "outlinewidth": 0,
              "ticks": ""
             }
            },
            "marker": {
             "colorbar": {
              "outlinewidth": 0,
              "ticks": ""
             }
            },
            "type": "scatter3d"
           }
          ],
          "scattercarpet": [
           {
            "marker": {
             "colorbar": {
              "outlinewidth": 0,
              "ticks": ""
             }
            },
            "type": "scattercarpet"
           }
          ],
          "scattergeo": [
           {
            "marker": {
             "colorbar": {
              "outlinewidth": 0,
              "ticks": ""
             }
            },
            "type": "scattergeo"
           }
          ],
          "scattergl": [
           {
            "marker": {
             "colorbar": {
              "outlinewidth": 0,
              "ticks": ""
             }
            },
            "type": "scattergl"
           }
          ],
          "scattermapbox": [
           {
            "marker": {
             "colorbar": {
              "outlinewidth": 0,
              "ticks": ""
             }
            },
            "type": "scattermapbox"
           }
          ],
          "scatterpolar": [
           {
            "marker": {
             "colorbar": {
              "outlinewidth": 0,
              "ticks": ""
             }
            },
            "type": "scatterpolar"
           }
          ],
          "scatterpolargl": [
           {
            "marker": {
             "colorbar": {
              "outlinewidth": 0,
              "ticks": ""
             }
            },
            "type": "scatterpolargl"
           }
          ],
          "scatterternary": [
           {
            "marker": {
             "colorbar": {
              "outlinewidth": 0,
              "ticks": ""
             }
            },
            "type": "scatterternary"
           }
          ],
          "surface": [
           {
            "colorbar": {
             "outlinewidth": 0,
             "ticks": ""
            },
            "colorscale": [
             [
              0,
              "#0d0887"
             ],
             [
              0.1111111111111111,
              "#46039f"
             ],
             [
              0.2222222222222222,
              "#7201a8"
             ],
             [
              0.3333333333333333,
              "#9c179e"
             ],
             [
              0.4444444444444444,
              "#bd3786"
             ],
             [
              0.5555555555555556,
              "#d8576b"
             ],
             [
              0.6666666666666666,
              "#ed7953"
             ],
             [
              0.7777777777777778,
              "#fb9f3a"
             ],
             [
              0.8888888888888888,
              "#fdca26"
             ],
             [
              1,
              "#f0f921"
             ]
            ],
            "type": "surface"
           }
          ],
          "table": [
           {
            "cells": {
             "fill": {
              "color": "#EBF0F8"
             },
             "line": {
              "color": "white"
             }
            },
            "header": {
             "fill": {
              "color": "#C8D4E3"
             },
             "line": {
              "color": "white"
             }
            },
            "type": "table"
           }
          ]
         },
         "layout": {
          "annotationdefaults": {
           "arrowcolor": "#2a3f5f",
           "arrowhead": 0,
           "arrowwidth": 1
          },
          "autotypenumbers": "strict",
          "coloraxis": {
           "colorbar": {
            "outlinewidth": 0,
            "ticks": ""
           }
          },
          "colorscale": {
           "diverging": [
            [
             0,
             "#8e0152"
            ],
            [
             0.1,
             "#c51b7d"
            ],
            [
             0.2,
             "#de77ae"
            ],
            [
             0.3,
             "#f1b6da"
            ],
            [
             0.4,
             "#fde0ef"
            ],
            [
             0.5,
             "#f7f7f7"
            ],
            [
             0.6,
             "#e6f5d0"
            ],
            [
             0.7,
             "#b8e186"
            ],
            [
             0.8,
             "#7fbc41"
            ],
            [
             0.9,
             "#4d9221"
            ],
            [
             1,
             "#276419"
            ]
           ],
           "sequential": [
            [
             0,
             "#0d0887"
            ],
            [
             0.1111111111111111,
             "#46039f"
            ],
            [
             0.2222222222222222,
             "#7201a8"
            ],
            [
             0.3333333333333333,
             "#9c179e"
            ],
            [
             0.4444444444444444,
             "#bd3786"
            ],
            [
             0.5555555555555556,
             "#d8576b"
            ],
            [
             0.6666666666666666,
             "#ed7953"
            ],
            [
             0.7777777777777778,
             "#fb9f3a"
            ],
            [
             0.8888888888888888,
             "#fdca26"
            ],
            [
             1,
             "#f0f921"
            ]
           ],
           "sequentialminus": [
            [
             0,
             "#0d0887"
            ],
            [
             0.1111111111111111,
             "#46039f"
            ],
            [
             0.2222222222222222,
             "#7201a8"
            ],
            [
             0.3333333333333333,
             "#9c179e"
            ],
            [
             0.4444444444444444,
             "#bd3786"
            ],
            [
             0.5555555555555556,
             "#d8576b"
            ],
            [
             0.6666666666666666,
             "#ed7953"
            ],
            [
             0.7777777777777778,
             "#fb9f3a"
            ],
            [
             0.8888888888888888,
             "#fdca26"
            ],
            [
             1,
             "#f0f921"
            ]
           ]
          },
          "colorway": [
           "#636efa",
           "#EF553B",
           "#00cc96",
           "#ab63fa",
           "#FFA15A",
           "#19d3f3",
           "#FF6692",
           "#B6E880",
           "#FF97FF",
           "#FECB52"
          ],
          "font": {
           "color": "#2a3f5f"
          },
          "geo": {
           "bgcolor": "white",
           "lakecolor": "white",
           "landcolor": "#E5ECF6",
           "showlakes": true,
           "showland": true,
           "subunitcolor": "white"
          },
          "hoverlabel": {
           "align": "left"
          },
          "hovermode": "closest",
          "mapbox": {
           "style": "light"
          },
          "paper_bgcolor": "white",
          "plot_bgcolor": "#E5ECF6",
          "polar": {
           "angularaxis": {
            "gridcolor": "white",
            "linecolor": "white",
            "ticks": ""
           },
           "bgcolor": "#E5ECF6",
           "radialaxis": {
            "gridcolor": "white",
            "linecolor": "white",
            "ticks": ""
           }
          },
          "scene": {
           "xaxis": {
            "backgroundcolor": "#E5ECF6",
            "gridcolor": "white",
            "gridwidth": 2,
            "linecolor": "white",
            "showbackground": true,
            "ticks": "",
            "zerolinecolor": "white"
           },
           "yaxis": {
            "backgroundcolor": "#E5ECF6",
            "gridcolor": "white",
            "gridwidth": 2,
            "linecolor": "white",
            "showbackground": true,
            "ticks": "",
            "zerolinecolor": "white"
           },
           "zaxis": {
            "backgroundcolor": "#E5ECF6",
            "gridcolor": "white",
            "gridwidth": 2,
            "linecolor": "white",
            "showbackground": true,
            "ticks": "",
            "zerolinecolor": "white"
           }
          },
          "shapedefaults": {
           "line": {
            "color": "#2a3f5f"
           }
          },
          "ternary": {
           "aaxis": {
            "gridcolor": "white",
            "linecolor": "white",
            "ticks": ""
           },
           "baxis": {
            "gridcolor": "white",
            "linecolor": "white",
            "ticks": ""
           },
           "bgcolor": "#E5ECF6",
           "caxis": {
            "gridcolor": "white",
            "linecolor": "white",
            "ticks": ""
           }
          },
          "title": {
           "x": 0.05
          },
          "xaxis": {
           "automargin": true,
           "gridcolor": "white",
           "linecolor": "white",
           "ticks": "",
           "title": {
            "standoff": 15
           },
           "zerolinecolor": "white",
           "zerolinewidth": 2
          },
          "yaxis": {
           "automargin": true,
           "gridcolor": "white",
           "linecolor": "white",
           "ticks": "",
           "title": {
            "standoff": 15
           },
           "zerolinecolor": "white",
           "zerolinewidth": 2
          }
         }
        },
        "xaxis": {
         "anchor": "y",
         "domain": [
          0,
          1
         ],
         "title": {
          "text": "target"
         }
        },
        "yaxis": {
         "anchor": "x",
         "domain": [
          0,
          1
         ],
         "title": {
          "text": "mean perimeter"
         }
        }
       }
      }
     },
     "metadata": {},
     "output_type": "display_data"
    }
   ],
   "source": [
    "# Visualisation\n",
    "fig = px.scatter(df_data, \"target\", \"mean perimeter\",\n",
    "           color=df_data[\"target\"].astype(str),\n",
    "           color_discrete_map={\"1\": \"blue\", \"0\": \"red\"})\n",
    "fig.show()"
   ]
  },
  {
   "cell_type": "code",
   "execution_count": 44,
   "metadata": {},
   "outputs": [
    {
     "data": {
      "application/vnd.plotly.v1+json": {
       "config": {
        "plotlyServerURL": "https://plot.ly"
       },
       "data": [
        {
         "hovertemplate": "color=0<br>mean perimeter=%{x}<br>mean compactness=%{y}<extra></extra>",
         "legendgroup": "0",
         "marker": {
          "color": "red",
          "symbol": "circle"
         },
         "mode": "markers",
         "name": "0",
         "orientation": "v",
         "showlegend": true,
         "type": "scatter",
         "x": [
          122.8,
          132.9,
          130,
          77.58,
          135.1,
          82.57,
          119.6,
          90.2,
          87.5,
          83.97,
          102.7,
          103.6,
          132.4,
          103.7,
          93.6,
          96.73,
          94.74,
          108.1,
          130,
          102.5,
          137.2,
          110,
          116,
          97.41,
          122.1,
          102.4,
          115,
          124.8,
          77.93,
          112.8,
          127.9,
          107,
          110.1,
          93.63,
          95.54,
          88.4,
          86.18,
          71.9,
          128.3,
          87.32,
          85.42,
          123.7,
          85.98,
          120.3,
          97.26,
          125.5,
          95.55,
          96.42,
          82.69,
          97.4,
          123.6,
          114.2,
          90.43,
          104.1,
          120.2,
          143.7,
          171.5,
          129.1,
          121.1,
          94.25,
          122,
          100.2,
          100.3,
          132.4,
          94.48,
          88.05,
          87.21,
          152.8,
          98.64,
          105.7,
          114.2,
          121.4,
          166.2,
          87.76,
          123.4,
          130.4,
          101.7,
          106.2,
          120.2,
          81.72,
          96.85,
          105.1,
          78.99,
          117.4,
          126.3,
          130.7,
          152.1,
          109.3,
          116.1,
          85.84,
          102.5,
          109.3,
          182.1,
          142.7,
          101.2,
          98.92,
          118.6,
          94.37,
          81.15,
          100.4,
          90.63,
          117.4,
          127.5,
          94.49,
          115.1,
          158.9,
          91.56,
          98.78,
          109.7,
          134.7,
          188.5,
          114.5,
          92.87,
          90.96,
          129.7,
          128,
          102.6,
          85.26,
          113.4,
          134.4,
          153.5,
          132.5,
          113.4,
          129.1,
          138.9,
          130.7,
          113,
          126.5,
          91.43,
          133.6,
          103.2,
          110.2,
          103.7,
          132.9,
          111,
          114.4,
          100,
          111.6,
          135.7,
          147.3,
          115.2,
          120.9,
          126.2,
          127.2,
          108.8,
          75,
          129.5,
          134.7,
          118.7,
          131.1,
          135.9,
          106.9,
          107.5,
          105.8,
          111.8,
          122.9,
          155.1,
          129.9,
          107.1,
          174.2,
          98,
          133.8,
          133.7,
          140.9,
          147.2,
          109,
          141.3,
          134.8,
          73.3,
          93.97,
          128.9,
          102.4,
          144.4,
          124.4,
          117.8,
          96.71,
          102.9,
          102.1,
          133.8,
          123.7,
          91.12,
          112.4,
          117.5,
          117.3,
          138.1,
          127.7,
          111.2,
          186.9,
          119,
          109.8,
          128.1,
          107.1,
          118.4,
          121.3,
          137.8,
          92.33,
          152.1,
          103.8,
          88.64,
          97.26,
          120.8,
          130.5,
          165.5,
          134.7,
          137.8,
          93.77,
          103.4,
          143,
          142,
          131.2,
          108.3,
          140.1
         ],
         "xaxis": "x",
         "y": [
          0.2776,
          0.07864,
          0.1599,
          0.2839,
          0.1328,
          0.17,
          0.109,
          0.1645,
          0.1932,
          0.2396,
          0.06669,
          0.1292,
          0.2458,
          0.1002,
          0.2293,
          0.1595,
          0.072,
          0.2022,
          0.1027,
          0.2135,
          0.1022,
          0.1457,
          0.2276,
          0.1868,
          0.1066,
          0.1697,
          0.1157,
          0.1887,
          0.1516,
          0.1496,
          0.1719,
          0.1559,
          0.1336,
          0.1098,
          0.05131,
          0.1255,
          0.06031,
          0.1218,
          0.219,
          0.1436,
          0.1047,
          0.1686,
          0.1231,
          0.1485,
          0.07081,
          0.1267,
          0.1365,
          0.2008,
          0.1262,
          0.1479,
          0.1029,
          0.183,
          0.128,
          0.08424,
          0.2146,
          0.3454,
          0.2665,
          0.1791,
          0.1053,
          0.09947,
          0.1206,
          0.1036,
          0.1553,
          0.1313,
          0.1141,
          0.08511,
          0.1765,
          0.2768,
          0.1649,
          0.1752,
          0.06722,
          0.11,
          0.2867,
          0.07862,
          0.08028,
          0.1589,
          0.1223,
          0.1284,
          0.09709,
          0.05761,
          0.1305,
          0.1137,
          0.17,
          0.1665,
          0.1185,
          0.1666,
          0.1145,
          0.09182,
          0.1603,
          0.06288,
          0.1555,
          0.1556,
          0.1914,
          0.2832,
          0.08799,
          0.1052,
          0.08468,
          0.2413,
          0.1353,
          0.198,
          0.1267,
          0.08642,
          0.1428,
          0.1206,
          0.1198,
          0.2084,
          0.1768,
          0.09588,
          0.07304,
          0.1348,
          0.1516,
          0.1146,
          0.1306,
          0.1517,
          0.1306,
          0.113,
          0.1204,
          0.1799,
          0.1572,
          0.1074,
          0.1682,
          0.08348,
          0.1298,
          0.1558,
          0.1606,
          0.1849,
          0.1041,
          0.1188,
          0.1279,
          0.2063,
          0.2284,
          0.3114,
          0.1639,
          0.1088,
          0.0629,
          0.1273,
          0.05616,
          0.08995,
          0.1143,
          0.1961,
          0.07027,
          0.05884,
          0.1453,
          0.1442,
          0.1802,
          0.05914,
          0.1642,
          0.1838,
          0.1117,
          0.08564,
          0.1875,
          0.1319,
          0.1283,
          0.1371,
          0.1056,
          0.1402,
          0.1283,
          0.1339,
          0.2364,
          0.2363,
          0.09769,
          0.1131,
          0.1669,
          0.08562,
          0.1954,
          0.1497,
          0.1515,
          0.1076,
          0.2154,
          0.06636,
          0.1318,
          0.1562,
          0.2087,
          0.2576,
          0.1304,
          0.04605,
          0.1571,
          0.2225,
          0.1489,
          0.1389,
          0.1133,
          0.1109,
          0.1232,
          0.1314,
          0.1175,
          0.09871,
          0.111,
          0.1988,
          0.2004,
          0.1893,
          0.1448,
          0.07112,
          0.1289,
          0.1317,
          0.1644,
          0.1681,
          0.1275,
          0.187,
          0.1469,
          0.08597,
          0.1248,
          0.131,
          0.2106,
          0.1313,
          0.1739,
          0.1154,
          0.2087,
          0.2236,
          0.1159,
          0.1034,
          0.1023,
          0.277
         ],
         "yaxis": "y"
        },
        {
         "hovertemplate": "color=1<br>mean perimeter=%{x}<br>mean compactness=%{y}<extra></extra>",
         "legendgroup": "1",
         "marker": {
          "color": "blue",
          "symbol": "circle"
         },
         "mode": "markers",
         "name": "1",
         "orientation": "v",
         "showlegend": true,
         "type": "scatter",
         "x": [
          87.46,
          85.63,
          60.34,
          82.61,
          51.71,
          78.04,
          86.91,
          74.72,
          87.21,
          75.71,
          73.34,
          82.61,
          54.34,
          64.55,
          54.66,
          59.2,
          60.11,
          71.8,
          58.79,
          81.37,
          58.79,
          79.19,
          87.91,
          83.19,
          73.81,
          86.49,
          76.95,
          79.78,
          95.77,
          94.57,
          84.74,
          86.6,
          77.79,
          62.11,
          74.34,
          43.79,
          77.22,
          63.95,
          67.41,
          75.17,
          79.01,
          72.48,
          62.5,
          82.15,
          97.83,
          68.64,
          55.84,
          76.53,
          58.74,
          73.34,
          94.28,
          86.1,
          88.44,
          99.58,
          79.08,
          102,
          74.72,
          73.06,
          73,
          61.24,
          73.66,
          83.74,
          68.26,
          78.11,
          97.84,
          93.97,
          88.12,
          83.51,
          53.27,
          63.78,
          70.87,
          85.31,
          78.27,
          108.4,
          76.84,
          68.69,
          76.1,
          79.85,
          95.5,
          68.77,
          96.22,
          78.85,
          70.21,
          67.49,
          54.42,
          64.6,
          82.01,
          81.29,
          73.53,
          63.76,
          74.68,
          75.27,
          78.83,
          82.02,
          60.73,
          82.53,
          78.54,
          81.09,
          62.92,
          87.02,
          98.17,
          75.51,
          77.32,
          65.05,
          87.88,
          88.59,
          65.12,
          84.55,
          92.51,
          66.62,
          97.45,
          81.35,
          71.76,
          70.79,
          60.21,
          89.79,
          92.55,
          87.38,
          78.61,
          73.93,
          88.54,
          66.72,
          84.13,
          84.95,
          68.01,
          73.87,
          73.28,
          69.28,
          87.16,
          82.38,
          69.5,
          90.3,
          72.23,
          61.5,
          76.2,
          71.79,
          86.24,
          88.99,
          74.24,
          84.08,
          79.83,
          77.87,
          81.89,
          73.72,
          72.17,
          96.03,
          97.03,
          83.14,
          75.54,
          81.78,
          88.06,
          69.14,
          91.22,
          66.85,
          80.43,
          66.86,
          73.59,
          74.23,
          84.07,
          56.36,
          85.69,
          82.71,
          74.33,
          92.68,
          82.29,
          73.73,
          54.09,
          79.19,
          77.25,
          60.07,
          78.6,
          66.52,
          82.82,
          78.01,
          81.25,
          90.03,
          76.09,
          84.52,
          71.94,
          71.38,
          77.88,
          84.08,
          64.41,
          94.15,
          61.64,
          71.49,
          75.03,
          66.2,
          76.66,
          94.87,
          73.02,
          77.23,
          73.7,
          71.24,
          81.92,
          85.09,
          88.52,
          56.74,
          59.82,
          79.42,
          85.24,
          81.87,
          106.6,
          85.48,
          78.31,
          97.65,
          87.84,
          106.3,
          70.15,
          85.89,
          88.27,
          73.16,
          70.67,
          78.75,
          80.64,
          85.79,
          78.78,
          88.37,
          73.38,
          65.75,
          55.27,
          78.07,
          89.75,
          88.1,
          83.05,
          70.31,
          75.26,
          76.14,
          84.18,
          83.18,
          78.29,
          70.39,
          104.3,
          82.63,
          78.41,
          72.49,
          70.92,
          59.75,
          97.53,
          76.39,
          59.6,
          80.88,
          70.95,
          74.2,
          98.22,
          75.46,
          89.46,
          61.93,
          63.19,
          67.49,
          68.79,
          70.47,
          80.98,
          81.47,
          94.89,
          82.67,
          89.78,
          88.68,
          89.59,
          71.73,
          88.37,
          66.82,
          77.61,
          95.88,
          94.25,
          76.83,
          76.77,
          93.86,
          80.62,
          86.34,
          74.87,
          84.1,
          82.61,
          61.68,
          92.25,
          73.88,
          84.28,
          86.87,
          85.98,
          61.06,
          76.38,
          61.49,
          76.85,
          96.45,
          77.42,
          70.41,
          82.89,
          92.41,
          88.97,
          73.99,
          78.29,
          88.73,
          87.32,
          87.76,
          102.8,
          82.85,
          94.21,
          75.49,
          78.18,
          114.6,
          78.83,
          84.06,
          96.12,
          82.69,
          80.45,
          98.73,
          81.25,
          61.49,
          64.12,
          79.47,
          71.25,
          104.7,
          76.31,
          94.66,
          94.29,
          72.76,
          84.45,
          82.51,
          59.96,
          71.3,
          88.73,
          63,
          54.53,
          87.44,
          78.94,
          90.31,
          77.83,
          75.89,
          75.21,
          87.76,
          70.79,
          76.37,
          47.98,
          48.34,
          74.65,
          95.81,
          94.7,
          84.88,
          89.77,
          87.19,
          65.31,
          65.85,
          61.05,
          68.89,
          68.51,
          71.49,
          81.35,
          59.01,
          82.5,
          65.67,
          64.73,
          59.26,
          96.39,
          74.52,
          91.38,
          70.67,
          47.92
         ],
         "xaxis": "x",
         "y": [
          0.08129,
          0.127,
          0.06492,
          0.03766,
          0.05943,
          0.09092,
          0.07698,
          0.04966,
          0.06059,
          0.04751,
          0.05473,
          0.03789,
          0.05272,
          0.08061,
          0.08963,
          0.08751,
          0.07773,
          0.04701,
          0.1413,
          0.05234,
          0.1531,
          0.06829,
          0.1047,
          0.09546,
          0.09362,
          0.1535,
          0.07165,
          0.09445,
          0.1339,
          0.08606,
          0.05055,
          0.08165,
          0.07057,
          0.05301,
          0.07525,
          0.07568,
          0.04038,
          0.09697,
          0.08578,
          0.1017,
          0.06815,
          0.06575,
          0.08404,
          0.1209,
          0.2233,
          0.1303,
          0.08201,
          0.07849,
          0.1243,
          0.06685,
          0.1099,
          0.07325,
          0.06136,
          0.1807,
          0.09509,
          0.09462,
          0.06095,
          0.06889,
          0.1136,
          0.04102,
          0.09486,
          0.09509,
          0.05139,
          0.1296,
          0.1167,
          0.1021,
          0.06376,
          0.07589,
          0.1305,
          0.1599,
          0.05113,
          0.08498,
          0.06679,
          0.07223,
          0.05241,
          0.03718,
          0.1141,
          0.1015,
          0.05352,
          0.05736,
          0.07885,
          0.06981,
          0.05743,
          0.04302,
          0.04276,
          0.1294,
          0.01938,
          0.03774,
          0.08155,
          0.04695,
          0.06141,
          0.05562,
          0.07253,
          0.06601,
          0.02344,
          0.05366,
          0.08087,
          0.1058,
          0.07232,
          0.1483,
          0.0623,
          0.069,
          0.1154,
          0.05907,
          0.08711,
          0.1192,
          0.08502,
          0.04994,
          0.07624,
          0.07722,
          0.1096,
          0.07529,
          0.03813,
          0.03574,
          0.04087,
          0.06945,
          0.1039,
          0.0663,
          0.03393,
          0.1325,
          0.06807,
          0.05971,
          0.04524,
          0.1346,
          0.07234,
          0.07808,
          0.05991,
          0.1147,
          0.08259,
          0.06219,
          0.1289,
          0.02675,
          0.07608,
          0.04689,
          0.0721,
          0.03872,
          0.04052,
          0.07688,
          0.0434,
          0.0958,
          0.04216,
          0.1011,
          0.03729,
          0.1181,
          0.05008,
          0.1676,
          0.09823,
          0.07943,
          0.05642,
          0.08393,
          0.06221,
          0.04721,
          0.0522,
          0.06797,
          0.1014,
          0.06678,
          0.07694,
          0.05688,
          0.05251,
          0.03116,
          0.03614,
          0.03735,
          0.05253,
          0.03515,
          0.07948,
          0.05969,
          0.05847,
          0.03834,
          0.03212,
          0.1972,
          0.03454,
          0.1111,
          0.08834,
          0.06545,
          0.07664,
          0.05306,
          0.03892,
          0.1125,
          0.06779,
          0.04458,
          0.04202,
          0.09965,
          0.07326,
          0.1139,
          0.09228,
          0.09097,
          0.07281,
          0.09159,
          0.05794,
          0.0778,
          0.05886,
          0.1206,
          0.0363,
          0.06064,
          0.1038,
          0.1304,
          0.05492,
          0.07698,
          0.05956,
          0.0265,
          0.06373,
          0.07952,
          0.08468,
          0.05696,
          0.07175,
          0.06934,
          0.06374,
          0.1438,
          0.166,
          0.04726,
          0.07548,
          0.1111,
          0.07079,
          0.1073,
          0.1297,
          0.08575,
          0.07823,
          0.04831,
          0.1114,
          0.07542,
          0.07428,
          0.09758,
          0.05361,
          0.1147,
          0.08895,
          0.04768,
          0.06232,
          0.05242,
          0.07899,
          0.08836,
          0.04571,
          0.0746,
          0.08501,
          0.08316,
          0.06526,
          0.05313,
          0.07804,
          0.06053,
          0.1025,
          0.0812,
          0.06159,
          0.05794,
          0.05978,
          0.07722,
          0.1836,
          0.1168,
          0.1147,
          0.08333,
          0.03912,
          0.1013,
          0.05743,
          0.03834,
          0.04522,
          0.1316,
          0.07074,
          0.07883,
          0.05895,
          0.0633,
          0.05581,
          0.1113,
          0.06718,
          0.04462,
          0.09218,
          0.0889,
          0.078,
          0.1064,
          0.0645,
          0.09242,
          0.0543,
          0.07426,
          0.08574,
          0.05205,
          0.05073,
          0.04626,
          0.05223,
          0.05855,
          0.05994,
          0.1223,
          0.1089,
          0.05428,
          0.1483,
          0.06258,
          0.06,
          0.08549,
          0.03398,
          0.1069,
          0.08269,
          0.1108,
          0.05319,
          0.08228,
          0.07838,
          0.05326,
          0.1155,
          0.07957,
          0.1299,
          0.1511,
          0.06698,
          0.09263,
          0.052,
          0.06217,
          0.04043,
          0.05275,
          0.08345,
          0.1334,
          0.0763,
          0.1364,
          0.1085,
          0.2239,
          0.2204,
          0.1152,
          0.1071,
          0.06712,
          0.09661,
          0.05016,
          0.08918,
          0.08499,
          0.1661,
          0.1117,
          0.1225,
          0.04413,
          0.107,
          0.08419,
          0.07632,
          0.1138,
          0.06307,
          0.09755,
          0.09009,
          0.09713,
          0.09453,
          0.07255,
          0.09752,
          0.1552,
          0.04878,
          0.1199,
          0.112,
          0.123,
          0.07214,
          0.06877,
          0.1018,
          0.06747,
          0.04994,
          0.08066,
          0.0503,
          0.06602,
          0.04227,
          0.08194,
          0.04234,
          0.05605,
          0.05824,
          0.07658,
          0.07504,
          0.04971,
          0.133,
          0.1021,
          0.1126,
          0.03558,
          0.04362
         ],
         "yaxis": "y"
        }
       ],
       "layout": {
        "legend": {
         "title": {
          "text": "color"
         },
         "tracegroupgap": 0
        },
        "margin": {
         "t": 60
        },
        "template": {
         "data": {
          "bar": [
           {
            "error_x": {
             "color": "#2a3f5f"
            },
            "error_y": {
             "color": "#2a3f5f"
            },
            "marker": {
             "line": {
              "color": "#E5ECF6",
              "width": 0.5
             },
             "pattern": {
              "fillmode": "overlay",
              "size": 10,
              "solidity": 0.2
             }
            },
            "type": "bar"
           }
          ],
          "barpolar": [
           {
            "marker": {
             "line": {
              "color": "#E5ECF6",
              "width": 0.5
             },
             "pattern": {
              "fillmode": "overlay",
              "size": 10,
              "solidity": 0.2
             }
            },
            "type": "barpolar"
           }
          ],
          "carpet": [
           {
            "aaxis": {
             "endlinecolor": "#2a3f5f",
             "gridcolor": "white",
             "linecolor": "white",
             "minorgridcolor": "white",
             "startlinecolor": "#2a3f5f"
            },
            "baxis": {
             "endlinecolor": "#2a3f5f",
             "gridcolor": "white",
             "linecolor": "white",
             "minorgridcolor": "white",
             "startlinecolor": "#2a3f5f"
            },
            "type": "carpet"
           }
          ],
          "choropleth": [
           {
            "colorbar": {
             "outlinewidth": 0,
             "ticks": ""
            },
            "type": "choropleth"
           }
          ],
          "contour": [
           {
            "colorbar": {
             "outlinewidth": 0,
             "ticks": ""
            },
            "colorscale": [
             [
              0,
              "#0d0887"
             ],
             [
              0.1111111111111111,
              "#46039f"
             ],
             [
              0.2222222222222222,
              "#7201a8"
             ],
             [
              0.3333333333333333,
              "#9c179e"
             ],
             [
              0.4444444444444444,
              "#bd3786"
             ],
             [
              0.5555555555555556,
              "#d8576b"
             ],
             [
              0.6666666666666666,
              "#ed7953"
             ],
             [
              0.7777777777777778,
              "#fb9f3a"
             ],
             [
              0.8888888888888888,
              "#fdca26"
             ],
             [
              1,
              "#f0f921"
             ]
            ],
            "type": "contour"
           }
          ],
          "contourcarpet": [
           {
            "colorbar": {
             "outlinewidth": 0,
             "ticks": ""
            },
            "type": "contourcarpet"
           }
          ],
          "heatmap": [
           {
            "colorbar": {
             "outlinewidth": 0,
             "ticks": ""
            },
            "colorscale": [
             [
              0,
              "#0d0887"
             ],
             [
              0.1111111111111111,
              "#46039f"
             ],
             [
              0.2222222222222222,
              "#7201a8"
             ],
             [
              0.3333333333333333,
              "#9c179e"
             ],
             [
              0.4444444444444444,
              "#bd3786"
             ],
             [
              0.5555555555555556,
              "#d8576b"
             ],
             [
              0.6666666666666666,
              "#ed7953"
             ],
             [
              0.7777777777777778,
              "#fb9f3a"
             ],
             [
              0.8888888888888888,
              "#fdca26"
             ],
             [
              1,
              "#f0f921"
             ]
            ],
            "type": "heatmap"
           }
          ],
          "heatmapgl": [
           {
            "colorbar": {
             "outlinewidth": 0,
             "ticks": ""
            },
            "colorscale": [
             [
              0,
              "#0d0887"
             ],
             [
              0.1111111111111111,
              "#46039f"
             ],
             [
              0.2222222222222222,
              "#7201a8"
             ],
             [
              0.3333333333333333,
              "#9c179e"
             ],
             [
              0.4444444444444444,
              "#bd3786"
             ],
             [
              0.5555555555555556,
              "#d8576b"
             ],
             [
              0.6666666666666666,
              "#ed7953"
             ],
             [
              0.7777777777777778,
              "#fb9f3a"
             ],
             [
              0.8888888888888888,
              "#fdca26"
             ],
             [
              1,
              "#f0f921"
             ]
            ],
            "type": "heatmapgl"
           }
          ],
          "histogram": [
           {
            "marker": {
             "pattern": {
              "fillmode": "overlay",
              "size": 10,
              "solidity": 0.2
             }
            },
            "type": "histogram"
           }
          ],
          "histogram2d": [
           {
            "colorbar": {
             "outlinewidth": 0,
             "ticks": ""
            },
            "colorscale": [
             [
              0,
              "#0d0887"
             ],
             [
              0.1111111111111111,
              "#46039f"
             ],
             [
              0.2222222222222222,
              "#7201a8"
             ],
             [
              0.3333333333333333,
              "#9c179e"
             ],
             [
              0.4444444444444444,
              "#bd3786"
             ],
             [
              0.5555555555555556,
              "#d8576b"
             ],
             [
              0.6666666666666666,
              "#ed7953"
             ],
             [
              0.7777777777777778,
              "#fb9f3a"
             ],
             [
              0.8888888888888888,
              "#fdca26"
             ],
             [
              1,
              "#f0f921"
             ]
            ],
            "type": "histogram2d"
           }
          ],
          "histogram2dcontour": [
           {
            "colorbar": {
             "outlinewidth": 0,
             "ticks": ""
            },
            "colorscale": [
             [
              0,
              "#0d0887"
             ],
             [
              0.1111111111111111,
              "#46039f"
             ],
             [
              0.2222222222222222,
              "#7201a8"
             ],
             [
              0.3333333333333333,
              "#9c179e"
             ],
             [
              0.4444444444444444,
              "#bd3786"
             ],
             [
              0.5555555555555556,
              "#d8576b"
             ],
             [
              0.6666666666666666,
              "#ed7953"
             ],
             [
              0.7777777777777778,
              "#fb9f3a"
             ],
             [
              0.8888888888888888,
              "#fdca26"
             ],
             [
              1,
              "#f0f921"
             ]
            ],
            "type": "histogram2dcontour"
           }
          ],
          "mesh3d": [
           {
            "colorbar": {
             "outlinewidth": 0,
             "ticks": ""
            },
            "type": "mesh3d"
           }
          ],
          "parcoords": [
           {
            "line": {
             "colorbar": {
              "outlinewidth": 0,
              "ticks": ""
             }
            },
            "type": "parcoords"
           }
          ],
          "pie": [
           {
            "automargin": true,
            "type": "pie"
           }
          ],
          "scatter": [
           {
            "fillpattern": {
             "fillmode": "overlay",
             "size": 10,
             "solidity": 0.2
            },
            "type": "scatter"
           }
          ],
          "scatter3d": [
           {
            "line": {
             "colorbar": {
              "outlinewidth": 0,
              "ticks": ""
             }
            },
            "marker": {
             "colorbar": {
              "outlinewidth": 0,
              "ticks": ""
             }
            },
            "type": "scatter3d"
           }
          ],
          "scattercarpet": [
           {
            "marker": {
             "colorbar": {
              "outlinewidth": 0,
              "ticks": ""
             }
            },
            "type": "scattercarpet"
           }
          ],
          "scattergeo": [
           {
            "marker": {
             "colorbar": {
              "outlinewidth": 0,
              "ticks": ""
             }
            },
            "type": "scattergeo"
           }
          ],
          "scattergl": [
           {
            "marker": {
             "colorbar": {
              "outlinewidth": 0,
              "ticks": ""
             }
            },
            "type": "scattergl"
           }
          ],
          "scattermapbox": [
           {
            "marker": {
             "colorbar": {
              "outlinewidth": 0,
              "ticks": ""
             }
            },
            "type": "scattermapbox"
           }
          ],
          "scatterpolar": [
           {
            "marker": {
             "colorbar": {
              "outlinewidth": 0,
              "ticks": ""
             }
            },
            "type": "scatterpolar"
           }
          ],
          "scatterpolargl": [
           {
            "marker": {
             "colorbar": {
              "outlinewidth": 0,
              "ticks": ""
             }
            },
            "type": "scatterpolargl"
           }
          ],
          "scatterternary": [
           {
            "marker": {
             "colorbar": {
              "outlinewidth": 0,
              "ticks": ""
             }
            },
            "type": "scatterternary"
           }
          ],
          "surface": [
           {
            "colorbar": {
             "outlinewidth": 0,
             "ticks": ""
            },
            "colorscale": [
             [
              0,
              "#0d0887"
             ],
             [
              0.1111111111111111,
              "#46039f"
             ],
             [
              0.2222222222222222,
              "#7201a8"
             ],
             [
              0.3333333333333333,
              "#9c179e"
             ],
             [
              0.4444444444444444,
              "#bd3786"
             ],
             [
              0.5555555555555556,
              "#d8576b"
             ],
             [
              0.6666666666666666,
              "#ed7953"
             ],
             [
              0.7777777777777778,
              "#fb9f3a"
             ],
             [
              0.8888888888888888,
              "#fdca26"
             ],
             [
              1,
              "#f0f921"
             ]
            ],
            "type": "surface"
           }
          ],
          "table": [
           {
            "cells": {
             "fill": {
              "color": "#EBF0F8"
             },
             "line": {
              "color": "white"
             }
            },
            "header": {
             "fill": {
              "color": "#C8D4E3"
             },
             "line": {
              "color": "white"
             }
            },
            "type": "table"
           }
          ]
         },
         "layout": {
          "annotationdefaults": {
           "arrowcolor": "#2a3f5f",
           "arrowhead": 0,
           "arrowwidth": 1
          },
          "autotypenumbers": "strict",
          "coloraxis": {
           "colorbar": {
            "outlinewidth": 0,
            "ticks": ""
           }
          },
          "colorscale": {
           "diverging": [
            [
             0,
             "#8e0152"
            ],
            [
             0.1,
             "#c51b7d"
            ],
            [
             0.2,
             "#de77ae"
            ],
            [
             0.3,
             "#f1b6da"
            ],
            [
             0.4,
             "#fde0ef"
            ],
            [
             0.5,
             "#f7f7f7"
            ],
            [
             0.6,
             "#e6f5d0"
            ],
            [
             0.7,
             "#b8e186"
            ],
            [
             0.8,
             "#7fbc41"
            ],
            [
             0.9,
             "#4d9221"
            ],
            [
             1,
             "#276419"
            ]
           ],
           "sequential": [
            [
             0,
             "#0d0887"
            ],
            [
             0.1111111111111111,
             "#46039f"
            ],
            [
             0.2222222222222222,
             "#7201a8"
            ],
            [
             0.3333333333333333,
             "#9c179e"
            ],
            [
             0.4444444444444444,
             "#bd3786"
            ],
            [
             0.5555555555555556,
             "#d8576b"
            ],
            [
             0.6666666666666666,
             "#ed7953"
            ],
            [
             0.7777777777777778,
             "#fb9f3a"
            ],
            [
             0.8888888888888888,
             "#fdca26"
            ],
            [
             1,
             "#f0f921"
            ]
           ],
           "sequentialminus": [
            [
             0,
             "#0d0887"
            ],
            [
             0.1111111111111111,
             "#46039f"
            ],
            [
             0.2222222222222222,
             "#7201a8"
            ],
            [
             0.3333333333333333,
             "#9c179e"
            ],
            [
             0.4444444444444444,
             "#bd3786"
            ],
            [
             0.5555555555555556,
             "#d8576b"
            ],
            [
             0.6666666666666666,
             "#ed7953"
            ],
            [
             0.7777777777777778,
             "#fb9f3a"
            ],
            [
             0.8888888888888888,
             "#fdca26"
            ],
            [
             1,
             "#f0f921"
            ]
           ]
          },
          "colorway": [
           "#636efa",
           "#EF553B",
           "#00cc96",
           "#ab63fa",
           "#FFA15A",
           "#19d3f3",
           "#FF6692",
           "#B6E880",
           "#FF97FF",
           "#FECB52"
          ],
          "font": {
           "color": "#2a3f5f"
          },
          "geo": {
           "bgcolor": "white",
           "lakecolor": "white",
           "landcolor": "#E5ECF6",
           "showlakes": true,
           "showland": true,
           "subunitcolor": "white"
          },
          "hoverlabel": {
           "align": "left"
          },
          "hovermode": "closest",
          "mapbox": {
           "style": "light"
          },
          "paper_bgcolor": "white",
          "plot_bgcolor": "#E5ECF6",
          "polar": {
           "angularaxis": {
            "gridcolor": "white",
            "linecolor": "white",
            "ticks": ""
           },
           "bgcolor": "#E5ECF6",
           "radialaxis": {
            "gridcolor": "white",
            "linecolor": "white",
            "ticks": ""
           }
          },
          "scene": {
           "xaxis": {
            "backgroundcolor": "#E5ECF6",
            "gridcolor": "white",
            "gridwidth": 2,
            "linecolor": "white",
            "showbackground": true,
            "ticks": "",
            "zerolinecolor": "white"
           },
           "yaxis": {
            "backgroundcolor": "#E5ECF6",
            "gridcolor": "white",
            "gridwidth": 2,
            "linecolor": "white",
            "showbackground": true,
            "ticks": "",
            "zerolinecolor": "white"
           },
           "zaxis": {
            "backgroundcolor": "#E5ECF6",
            "gridcolor": "white",
            "gridwidth": 2,
            "linecolor": "white",
            "showbackground": true,
            "ticks": "",
            "zerolinecolor": "white"
           }
          },
          "shapedefaults": {
           "line": {
            "color": "#2a3f5f"
           }
          },
          "ternary": {
           "aaxis": {
            "gridcolor": "white",
            "linecolor": "white",
            "ticks": ""
           },
           "baxis": {
            "gridcolor": "white",
            "linecolor": "white",
            "ticks": ""
           },
           "bgcolor": "#E5ECF6",
           "caxis": {
            "gridcolor": "white",
            "linecolor": "white",
            "ticks": ""
           }
          },
          "title": {
           "x": 0.05
          },
          "xaxis": {
           "automargin": true,
           "gridcolor": "white",
           "linecolor": "white",
           "ticks": "",
           "title": {
            "standoff": 15
           },
           "zerolinecolor": "white",
           "zerolinewidth": 2
          },
          "yaxis": {
           "automargin": true,
           "gridcolor": "white",
           "linecolor": "white",
           "ticks": "",
           "title": {
            "standoff": 15
           },
           "zerolinecolor": "white",
           "zerolinewidth": 2
          }
         }
        },
        "xaxis": {
         "anchor": "y",
         "domain": [
          0,
          1
         ],
         "title": {
          "text": "mean perimeter"
         }
        },
        "yaxis": {
         "anchor": "x",
         "domain": [
          0,
          1
         ],
         "title": {
          "text": "mean compactness"
         }
        }
       }
      }
     },
     "metadata": {},
     "output_type": "display_data"
    }
   ],
   "source": [
    "fig = px.scatter(df_data, \"mean perimeter\", \"mean compactness\", color=df_data[\"target\"].astype(str),\n",
    "                 color_discrete_map={\"1\": \"blue\", \"0\": \"red\"})\n",
    "fig.show()"
   ]
  },
  {
   "cell_type": "markdown",
   "metadata": {},
   "source": [
    "### Fitting Logistic Regression\n",
    "\n",
    "We want to fit the follwing model\n",
    "\n",
    "$$ \\text{log}(\\frac{y_i}{1-y_i}) = \\theta_0 + \\theta_1 x_{1, i} + \\theta_{2, i}$$ \n",
    "\n",
    "$$ \\iff y_i = \\frac{1}{1 + \\text{exp}(-\\theta^T x)} $$"
   ]
  },
  {
   "cell_type": "code",
   "execution_count": 66,
   "metadata": {},
   "outputs": [
    {
     "name": "stdout",
     "output_type": "stream",
     "text": [
      "Intercept: [14.84077511]\n",
      "Coefficients: [[-0.15276437 -1.60152868]]\n"
     ]
    }
   ],
   "source": [
    "X_train, X_test, Y_train, Y_test = train_test_split(df_data[[\"mean perimeter\", \"mean compactness\"]], df_data[\"target\"])\n",
    "model = LogisticRegression().fit(X_train, Y_train)\n",
    "print(f\"Intercept: {model.intercept_}\")\n",
    "print(f\"Coefficients: {model.coef_}\")"
   ]
  },
  {
   "cell_type": "code",
   "execution_count": null,
   "metadata": {},
   "outputs": [
    {
     "data": {
      "application/vnd.plotly.v1+json": {
       "config": {
        "plotlyServerURL": "https://plot.ly"
       },
       "data": [
        {
         "marker": {
          "color": [
           "blue",
           "red",
           "blue",
           "blue",
           "red",
           "blue",
           "blue",
           "blue",
           "red",
           "blue",
           "blue",
           "red",
           "blue",
           "blue",
           "red",
           "blue",
           "red",
           "blue",
           "red",
           "blue",
           "red",
           "blue",
           "red",
           "blue",
           "red",
           "blue",
           "red",
           "blue",
           "blue",
           "blue",
           "red",
           "blue",
           "blue",
           "blue",
           "blue",
           "blue",
           "red",
           "blue",
           "blue",
           "red",
           "blue",
           "blue",
           "blue",
           "blue",
           "red",
           "blue",
           "blue",
           "blue",
           "blue",
           "red",
           "red",
           "red",
           "red",
           "blue",
           "blue",
           "blue",
           "red",
           "blue",
           "red",
           "blue",
           "red",
           "blue",
           "red",
           "red",
           "blue",
           "blue",
           "red",
           "blue",
           "red",
           "red",
           "red",
           "blue",
           "red",
           "blue",
           "blue",
           "blue",
           "red",
           "red",
           "red",
           "blue",
           "red",
           "blue",
           "red",
           "red",
           "blue",
           "red",
           "blue",
           "blue",
           "blue",
           "blue",
           "blue",
           "blue",
           "red",
           "red",
           "blue",
           "blue",
           "red",
           "blue",
           "blue",
           "red",
           "blue",
           "blue",
           "blue",
           "blue",
           "blue",
           "blue",
           "blue",
           "red",
           "blue",
           "blue",
           "red",
           "blue",
           "blue",
           "blue",
           "red",
           "red",
           "red",
           "red",
           "red",
           "blue",
           "blue",
           "blue",
           "red",
           "blue",
           "red",
           "blue",
           "blue",
           "red",
           "blue",
           "blue",
           "blue",
           "blue",
           "red",
           "red",
           "blue",
           "blue",
           "blue",
           "blue",
           "red",
           "blue",
           "red",
           "red",
           "blue",
           "blue",
           "red",
           "red",
           "blue",
           "blue",
           "blue",
           "red",
           "red",
           "red",
           "red",
           "blue",
           "blue",
           "red",
           "blue",
           "blue",
           "blue",
           "blue",
           "red",
           "blue",
           "blue",
           "red",
           "red",
           "blue",
           "red",
           "blue",
           "blue",
           "red",
           "blue",
           "blue",
           "blue",
           "red",
           "blue",
           "red",
           "blue",
           "blue",
           "blue",
           "blue",
           "red",
           "red",
           "blue",
           "blue",
           "blue",
           "red",
           "blue",
           "blue",
           "blue",
           "blue",
           "red",
           "red",
           "blue",
           "red",
           "blue",
           "red",
           "red",
           "red",
           "red",
           "blue",
           "blue",
           "blue",
           "blue",
           "red",
           "blue",
           "red",
           "blue",
           "red",
           "blue",
           "blue",
           "blue",
           "blue",
           "blue",
           "blue",
           "blue",
           "blue",
           "blue",
           "blue",
           "red",
           "red",
           "red",
           "red",
           "blue",
           "blue",
           "blue",
           "red",
           "red",
           "red",
           "blue",
           "blue",
           "blue",
           "red",
           "blue",
           "blue",
           "blue",
           "red",
           "red",
           "red",
           "red",
           "blue",
           "blue",
           "blue",
           "blue",
           "blue",
           "blue",
           "blue",
           "red",
           "blue",
           "red",
           "blue",
           "blue",
           "blue",
           "red",
           "blue",
           "red",
           "red",
           "red",
           "blue",
           "red",
           "red",
           "blue",
           "red",
           "blue",
           "blue",
           "red",
           "blue",
           "blue",
           "blue",
           "blue",
           "blue",
           "red",
           "blue",
           "blue",
           "blue",
           "red",
           "red",
           "blue",
           "blue",
           "red",
           "blue",
           "blue",
           "blue",
           "blue",
           "red",
           "blue",
           "red",
           "red",
           "blue",
           "blue",
           "blue",
           "blue",
           "blue",
           "blue",
           "red",
           "blue",
           "blue",
           "blue",
           "blue",
           "red",
           "red",
           "red",
           "red",
           "red",
           "blue",
           "blue",
           "blue",
           "blue",
           "blue",
           "blue",
           "blue",
           "blue",
           "blue",
           "blue",
           "red",
           "red",
           "red",
           "blue",
           "blue",
           "red",
           "blue",
           "blue",
           "blue",
           "red",
           "red",
           "blue",
           "blue",
           "blue",
           "blue",
           "blue",
           "red",
           "blue",
           "red",
           "blue",
           "red",
           "red",
           "red",
           "blue",
           "blue",
           "blue",
           "blue",
           "red",
           "blue",
           "blue",
           "blue",
           "red",
           "red",
           "red",
           "blue",
           "red",
           "red",
           "red",
           "red",
           "blue",
           "red",
           "blue",
           "blue",
           "blue",
           "blue",
           "red",
           "blue",
           "blue",
           "blue",
           "blue",
           "blue",
           "blue",
           "blue",
           "blue",
           "blue",
           "blue",
           "blue",
           "blue",
           "blue",
           "red",
           "blue",
           "red",
           "red",
           "blue",
           "red",
           "red",
           "blue",
           "blue",
           "blue",
           "blue",
           "blue",
           "blue",
           "red",
           "blue",
           "blue",
           "blue",
           "blue",
           "blue",
           "blue",
           "blue",
           "blue",
           "blue",
           "red",
           "blue",
           "blue",
           "red",
           "blue",
           "blue",
           "blue",
           "blue",
           "blue",
           "blue",
           "red",
           "blue",
           "blue",
           "blue",
           "blue",
           "blue",
           "blue",
           "blue",
           "blue",
           "red",
           "blue",
           "red",
           "blue",
           "blue",
           "blue",
           "red",
           "blue",
           "blue",
           "blue",
           "blue",
           "blue"
          ]
         },
         "mode": "markers",
         "name": "Data",
         "type": "scatter",
         "x": [
          92.55,
          138.9,
          54.09,
          73.87,
          107,
          87.16,
          66.82,
          88.73,
          85.26,
          73.99,
          76.53,
          96.71,
          67.41,
          69.14,
          107.1,
          63,
          101.7,
          80.62,
          93.6,
          94.57,
          90.43,
          78.6,
          144.4,
          73.72,
          102.1,
          90.31,
          101.2,
          76.1,
          68.01,
          63.95,
          103.7,
          86.87,
          60.34,
          87.88,
          62.5,
          84.1,
          112.8,
          76.84,
          68.26,
          122,
          76.83,
          82.29,
          85.98,
          68.89,
          92.87,
          76.85,
          55.27,
          92.51,
          104.7,
          117.4,
          85.42,
          123.7,
          102.6,
          65.12,
          83.74,
          73.53,
          108.8,
          96.22,
          100.3,
          88.73,
          111,
          87.84,
          105.7,
          94.49,
          70.21,
          92.41,
          140.1,
          70.87,
          125.5,
          91.12,
          97.4,
          79.08,
          129.1,
          81.35,
          63.76,
          87.38,
          129.5,
          94.48,
          90.63,
          86.49,
          137.8,
          81.92,
          143,
          103.8,
          65.31,
          141.3,
          84.18,
          78.29,
          81.78,
          106.6,
          71.24,
          77.22,
          108.1,
          174.2,
          75.71,
          76.39,
          105.8,
          73.38,
          56.74,
          98,
          61.5,
          79.78,
          64.6,
          58.79,
          84.28,
          75.27,
          70.79,
          88.64,
          97.45,
          88.59,
          77.93,
          79.19,
          84.06,
          89.59,
          122.8,
          110,
          88.4,
          143.7,
          166.2,
          62.11,
          78.27,
          70.47,
          90.2,
          53.27,
          100,
          93.97,
          98.22,
          132.9,
          84.95,
          95.88,
          82.61,
          48.34,
          123.4,
          158.9,
          60.07,
          94.89,
          74.2,
          88.37,
          111.6,
          91.22,
          131.2,
          111.8,
          87.19,
          82.38,
          85.84,
          134.7,
          104.3,
          73.66,
          59.6,
          155.1,
          188.5,
          120.8,
          123.6,
          78.54,
          85.31,
          102.5,
          71.94,
          65.75,
          64.73,
          80.43,
          109.3,
          91.38,
          88.12,
          96.73,
          128.1,
          73.02,
          75,
          82.67,
          82.69,
          133.7,
          59.75,
          73.06,
          84.07,
          134.7,
          79.19,
          140.9,
          78.83,
          74.34,
          81.35,
          76.77,
          120.3,
          119.6,
          69.28,
          60.21,
          75.26,
          97.26,
          54.42,
          81.89,
          89.78,
          77.42,
          142,
          97.26,
          73.34,
          108.3,
          68.64,
          127.9,
          110.1,
          81.72,
          81.15,
          94.7,
          71.49,
          102.8,
          87.02,
          103.4,
          56.36,
          95.54,
          72.17,
          93.77,
          74.68,
          73.59,
          95.5,
          81.87,
          77.61,
          59.96,
          60.73,
          78.07,
          68.51,
          66.52,
          152.8,
          109.3,
          131.1,
          114.2,
          47.92,
          96.12,
          78.01,
          107.5,
          103.2,
          87.32,
          59.2,
          70.41,
          84.74,
          120.9,
          87.76,
          96.45,
          61.68,
          135.9,
          134.4,
          133.8,
          82.57,
          77.87,
          106.3,
          82.51,
          78.04,
          66.62,
          78.18,
          73.16,
          105.1,
          93.86,
          152.1,
          75.17,
          79.83,
          73.34,
          102.9,
          71.38,
          126.5,
          116,
          83.97,
          59.82,
          130.4,
          77.58,
          85.24,
          128.3,
          43.79,
          108.4,
          106.2,
          78.11,
          59.01,
          90.03,
          60.11,
          97.03,
          114.5,
          69.5,
          88.52,
          82.53,
          121.1,
          90.96,
          78.61,
          66.85,
          124.4,
          82.02,
          76.09,
          61.64,
          74.52,
          122.1,
          74.24,
          130.7,
          165.5,
          80.45,
          78.78,
          75.89,
          72.76,
          58.74,
          77.25,
          111.2,
          94.29,
          62.92,
          74.72,
          79.01,
          123.7,
          171.5,
          130,
          71.9,
          87.76,
          76.31,
          84.08,
          114.6,
          78.75,
          70.31,
          71.49,
          81.25,
          65.05,
          94.66,
          55.84,
          110.2,
          98.92,
          112.4,
          71.79,
          71.3,
          117.4,
          88.37,
          73.81,
          72.49,
          82.69,
          87.21,
          75.54,
          70.67,
          77.88,
          74.23,
          82.82,
          132.4,
          71.8,
          88.05,
          89.46,
          93.63,
          100.2,
          120.2,
          87.21,
          77.83,
          94.25,
          64.55,
          186.9,
          84.45,
          68.79,
          92.25,
          132.4,
          130.5,
          135.1,
          64.12,
          98.78,
          147.3,
          137.2,
          91.43,
          82.89,
          115.2,
          67.49,
          82.71,
          84.13,
          86.1,
          73.3,
          85.89,
          66.2,
          79.42,
          89.77,
          81.25,
          66.86,
          85.79,
          85.48,
          86.24,
          82.5,
          97.83,
          81.09,
          81.37,
          104.1,
          98.73,
          118.7,
          102.4,
          68.69,
          115,
          102.7,
          80.88,
          72.23,
          66.72,
          75.21,
          94.28,
          68.77,
          134.7,
          78.85,
          54.66,
          75.03,
          77.23,
          74.72,
          88.06,
          77.32,
          83.05,
          73.73,
          130.7,
          94.15,
          85.63,
          95.55,
          80.98,
          89.79,
          82.61,
          47.98,
          76.37,
          84.52,
          102.4,
          87.32,
          75.51,
          70.39,
          73.88,
          97.53,
          87.44,
          88.68,
          87.76,
          106.9,
          78.41,
          128,
          75.46,
          88.1,
          78.94,
          109.7,
          96.39,
          74.87,
          82.85,
          94.21,
          76.95
         ],
         "y": [
          0.1039,
          0.1606,
          0.05847,
          0.07808,
          0.1559,
          0.08259,
          0.04462,
          0.05326,
          0.1799,
          0.08228,
          0.07849,
          0.04605,
          0.08578,
          0.04721,
          0.07112,
          0.08419,
          0.1223,
          0.0543,
          0.2293,
          0.08606,
          0.128,
          0.03454,
          0.2087,
          0.1181,
          0.2225,
          0.09755,
          0.08799,
          0.1141,
          0.07234,
          0.09697,
          0.1639,
          0.1223,
          0.06492,
          0.08711,
          0.08404,
          0.05205,
          0.1496,
          0.05241,
          0.05139,
          0.1206,
          0.1064,
          0.07948,
          0.1089,
          0.06602,
          0.1306,
          0.06,
          0.07428,
          0.07624,
          0.06712,
          0.1665,
          0.1047,
          0.1686,
          0.1204,
          0.08502,
          0.09509,
          0.08155,
          0.1802,
          0.07885,
          0.1553,
          0.107,
          0.0629,
          0.06374,
          0.1752,
          0.1206,
          0.05743,
          0.1108,
          0.277,
          0.05113,
          0.1267,
          0.1133,
          0.1479,
          0.09509,
          0.1558,
          0.04234,
          0.04695,
          0.0663,
          0.1642,
          0.1141,
          0.1267,
          0.1535,
          0.1739,
          0.1038,
          0.2236,
          0.187,
          0.04994,
          0.1515,
          0.07899,
          0.04571,
          0.08393,
          0.08468,
          0.06064,
          0.04038,
          0.2022,
          0.2363,
          0.04751,
          0.0812,
          0.1371,
          0.1114,
          0.07698,
          0.09769,
          0.04689,
          0.09445,
          0.1294,
          0.1531,
          0.05994,
          0.05562,
          0.09752,
          0.1469,
          0.1096,
          0.1192,
          0.1516,
          0.06829,
          0.05275,
          0.05581,
          0.2776,
          0.1457,
          0.1255,
          0.3454,
          0.2867,
          0.05301,
          0.06679,
          0.03834,
          0.1645,
          0.1305,
          0.05616,
          0.1021,
          0.1836,
          0.1088,
          0.1346,
          0.0889,
          0.05073,
          0.1199,
          0.08028,
          0.2084,
          0.1972,
          0.07074,
          0.07722,
          0.06718,
          0.08995,
          0.0522,
          0.1034,
          0.1056,
          0.06747,
          0.06219,
          0.06288,
          0.1313,
          0.08501,
          0.09486,
          0.06159,
          0.1283,
          0.1516,
          0.1248,
          0.1029,
          0.08087,
          0.08498,
          0.2135,
          0.06779,
          0.07542,
          0.07504,
          0.1014,
          0.1556,
          0.1126,
          0.06376,
          0.1595,
          0.1448,
          0.05886,
          0.05914,
          0.07883,
          0.1334,
          0.1669,
          0.06053,
          0.06889,
          0.05251,
          0.1348,
          0.03834,
          0.08562,
          0.04043,
          0.07525,
          0.07529,
          0.0645,
          0.1485,
          0.109,
          0.1147,
          0.04087,
          0.06232,
          0.07081,
          0.04276,
          0.03729,
          0.05895,
          0.03398,
          0.1159,
          0.08597,
          0.05473,
          0.1023,
          0.1303,
          0.1719,
          0.1336,
          0.05761,
          0.1353,
          0.07214,
          0.09097,
          0.1299,
          0.1483,
          0.2087,
          0.03116,
          0.05131,
          0.05008,
          0.1154,
          0.06141,
          0.07694,
          0.05352,
          0.07952,
          0.09218,
          0.1225,
          0.02344,
          0.09758,
          0.04227,
          0.1111,
          0.2768,
          0.09182,
          0.08564,
          0.183,
          0.04362,
          0.08345,
          0.06545,
          0.1283,
          0.2284,
          0.1436,
          0.08751,
          0.1069,
          0.05055,
          0.05884,
          0.07255,
          0.08549,
          0.04626,
          0.1875,
          0.1074,
          0.1131,
          0.17,
          0.1011,
          0.1438,
          0.1117,
          0.09092,
          0.07722,
          0.052,
          0.1111,
          0.1137,
          0.09242,
          0.1145,
          0.1017,
          0.04216,
          0.06685,
          0.1571,
          0.04458,
          0.1188,
          0.2276,
          0.2396,
          0.05956,
          0.1589,
          0.2839,
          0.06373,
          0.219,
          0.07568,
          0.07223,
          0.1284,
          0.1296,
          0.05605,
          0.05306,
          0.07773,
          0.09823,
          0.1146,
          0.1289,
          0.05492,
          0.05366,
          0.1053,
          0.1517,
          0.03393,
          0.06797,
          0.2576,
          0.06601,
          0.03892,
          0.09228,
          0.1021,
          0.1066,
          0.0434,
          0.1849,
          0.2106,
          0.0763,
          0.07823,
          0.09713,
          0.08499,
          0.1243,
          0.03212,
          0.111,
          0.08918,
          0.07232,
          0.06095,
          0.06815,
          0.1389,
          0.2665,
          0.1599,
          0.1218,
          0.07862,
          0.09661,
          0.0958,
          0.06217,
          0.1073,
          0.04768,
          0.08194,
          0.07664,
          0.05907,
          0.05016,
          0.08201,
          0.3114,
          0.1052,
          0.1109,
          0.03872,
          0.04413,
          0.08642,
          0.04831,
          0.09362,
          0.05313,
          0.1262,
          0.1765,
          0.05642,
          0.03558,
          0.04202,
          0.05688,
          0.08834,
          0.2458,
          0.04701,
          0.08511,
          0.1147,
          0.1098,
          0.1036,
          0.09709,
          0.06059,
          0.09009,
          0.078,
          0.08061,
          0.1988,
          0.1661,
          0.05743,
          0.05223,
          0.1313,
          0.131,
          0.1328,
          0.2204,
          0.09588,
          0.1961,
          0.1022,
          0.1279,
          0.08269,
          0.07027,
          0.04302,
          0.03735,
          0.04524,
          0.07325,
          0.2154,
          0.04726,
          0.09159,
          0.0265,
          0.1018,
          0.1085,
          0.06678,
          0.08575,
          0.05696,
          0.04052,
          0.05824,
          0.2233,
          0.1058,
          0.05234,
          0.08424,
          0.1364,
          0.1117,
          0.1562,
          0.03718,
          0.1157,
          0.06669,
          0.05794,
          0.07608,
          0.05971,
          0.09453,
          0.1099,
          0.05736,
          0.1838,
          0.06981,
          0.08963,
          0.07281,
          0.1206,
          0.04966,
          0.06221,
          0.1154,
          0.08895,
          0.05969,
          0.1666,
          0.1139,
          0.127,
          0.1365,
          0.04522,
          0.06945,
          0.03766,
          0.04878,
          0.1552,
          0.1125,
          0.1697,
          0.1155,
          0.069,
          0.0746,
          0.05855,
          0.1025,
          0.1138,
          0.0633,
          0.07957,
          0.1319,
          0.06526,
          0.113,
          0.1168,
          0.1147,
          0.06307,
          0.07304,
          0.133,
          0.08574,
          0.1511,
          0.06698,
          0.07165
         ]
        },
        {
         "line": {
          "color": "black",
          "dash": "dash",
          "width": 1
         },
         "mode": "lines",
         "name": "Separation Boundary",
         "type": "scatter",
         "x": [
          92.02666666666667,
          93.48838383838384,
          94.95010101010101,
          96.41181818181818,
          97.87353535353535
         ],
         "y": [
          0.4077716885400513,
          0.29358439956905696,
          0.17939711059806177,
          0.06520982162706743,
          -0.048977467343926925
         ]
        }
       ],
       "layout": {
        "template": {
         "data": {
          "bar": [
           {
            "error_x": {
             "color": "#2a3f5f"
            },
            "error_y": {
             "color": "#2a3f5f"
            },
            "marker": {
             "line": {
              "color": "#E5ECF6",
              "width": 0.5
             },
             "pattern": {
              "fillmode": "overlay",
              "size": 10,
              "solidity": 0.2
             }
            },
            "type": "bar"
           }
          ],
          "barpolar": [
           {
            "marker": {
             "line": {
              "color": "#E5ECF6",
              "width": 0.5
             },
             "pattern": {
              "fillmode": "overlay",
              "size": 10,
              "solidity": 0.2
             }
            },
            "type": "barpolar"
           }
          ],
          "carpet": [
           {
            "aaxis": {
             "endlinecolor": "#2a3f5f",
             "gridcolor": "white",
             "linecolor": "white",
             "minorgridcolor": "white",
             "startlinecolor": "#2a3f5f"
            },
            "baxis": {
             "endlinecolor": "#2a3f5f",
             "gridcolor": "white",
             "linecolor": "white",
             "minorgridcolor": "white",
             "startlinecolor": "#2a3f5f"
            },
            "type": "carpet"
           }
          ],
          "choropleth": [
           {
            "colorbar": {
             "outlinewidth": 0,
             "ticks": ""
            },
            "type": "choropleth"
           }
          ],
          "contour": [
           {
            "colorbar": {
             "outlinewidth": 0,
             "ticks": ""
            },
            "colorscale": [
             [
              0,
              "#0d0887"
             ],
             [
              0.1111111111111111,
              "#46039f"
             ],
             [
              0.2222222222222222,
              "#7201a8"
             ],
             [
              0.3333333333333333,
              "#9c179e"
             ],
             [
              0.4444444444444444,
              "#bd3786"
             ],
             [
              0.5555555555555556,
              "#d8576b"
             ],
             [
              0.6666666666666666,
              "#ed7953"
             ],
             [
              0.7777777777777778,
              "#fb9f3a"
             ],
             [
              0.8888888888888888,
              "#fdca26"
             ],
             [
              1,
              "#f0f921"
             ]
            ],
            "type": "contour"
           }
          ],
          "contourcarpet": [
           {
            "colorbar": {
             "outlinewidth": 0,
             "ticks": ""
            },
            "type": "contourcarpet"
           }
          ],
          "heatmap": [
           {
            "colorbar": {
             "outlinewidth": 0,
             "ticks": ""
            },
            "colorscale": [
             [
              0,
              "#0d0887"
             ],
             [
              0.1111111111111111,
              "#46039f"
             ],
             [
              0.2222222222222222,
              "#7201a8"
             ],
             [
              0.3333333333333333,
              "#9c179e"
             ],
             [
              0.4444444444444444,
              "#bd3786"
             ],
             [
              0.5555555555555556,
              "#d8576b"
             ],
             [
              0.6666666666666666,
              "#ed7953"
             ],
             [
              0.7777777777777778,
              "#fb9f3a"
             ],
             [
              0.8888888888888888,
              "#fdca26"
             ],
             [
              1,
              "#f0f921"
             ]
            ],
            "type": "heatmap"
           }
          ],
          "heatmapgl": [
           {
            "colorbar": {
             "outlinewidth": 0,
             "ticks": ""
            },
            "colorscale": [
             [
              0,
              "#0d0887"
             ],
             [
              0.1111111111111111,
              "#46039f"
             ],
             [
              0.2222222222222222,
              "#7201a8"
             ],
             [
              0.3333333333333333,
              "#9c179e"
             ],
             [
              0.4444444444444444,
              "#bd3786"
             ],
             [
              0.5555555555555556,
              "#d8576b"
             ],
             [
              0.6666666666666666,
              "#ed7953"
             ],
             [
              0.7777777777777778,
              "#fb9f3a"
             ],
             [
              0.8888888888888888,
              "#fdca26"
             ],
             [
              1,
              "#f0f921"
             ]
            ],
            "type": "heatmapgl"
           }
          ],
          "histogram": [
           {
            "marker": {
             "pattern": {
              "fillmode": "overlay",
              "size": 10,
              "solidity": 0.2
             }
            },
            "type": "histogram"
           }
          ],
          "histogram2d": [
           {
            "colorbar": {
             "outlinewidth": 0,
             "ticks": ""
            },
            "colorscale": [
             [
              0,
              "#0d0887"
             ],
             [
              0.1111111111111111,
              "#46039f"
             ],
             [
              0.2222222222222222,
              "#7201a8"
             ],
             [
              0.3333333333333333,
              "#9c179e"
             ],
             [
              0.4444444444444444,
              "#bd3786"
             ],
             [
              0.5555555555555556,
              "#d8576b"
             ],
             [
              0.6666666666666666,
              "#ed7953"
             ],
             [
              0.7777777777777778,
              "#fb9f3a"
             ],
             [
              0.8888888888888888,
              "#fdca26"
             ],
             [
              1,
              "#f0f921"
             ]
            ],
            "type": "histogram2d"
           }
          ],
          "histogram2dcontour": [
           {
            "colorbar": {
             "outlinewidth": 0,
             "ticks": ""
            },
            "colorscale": [
             [
              0,
              "#0d0887"
             ],
             [
              0.1111111111111111,
              "#46039f"
             ],
             [
              0.2222222222222222,
              "#7201a8"
             ],
             [
              0.3333333333333333,
              "#9c179e"
             ],
             [
              0.4444444444444444,
              "#bd3786"
             ],
             [
              0.5555555555555556,
              "#d8576b"
             ],
             [
              0.6666666666666666,
              "#ed7953"
             ],
             [
              0.7777777777777778,
              "#fb9f3a"
             ],
             [
              0.8888888888888888,
              "#fdca26"
             ],
             [
              1,
              "#f0f921"
             ]
            ],
            "type": "histogram2dcontour"
           }
          ],
          "mesh3d": [
           {
            "colorbar": {
             "outlinewidth": 0,
             "ticks": ""
            },
            "type": "mesh3d"
           }
          ],
          "parcoords": [
           {
            "line": {
             "colorbar": {
              "outlinewidth": 0,
              "ticks": ""
             }
            },
            "type": "parcoords"
           }
          ],
          "pie": [
           {
            "automargin": true,
            "type": "pie"
           }
          ],
          "scatter": [
           {
            "fillpattern": {
             "fillmode": "overlay",
             "size": 10,
             "solidity": 0.2
            },
            "type": "scatter"
           }
          ],
          "scatter3d": [
           {
            "line": {
             "colorbar": {
              "outlinewidth": 0,
              "ticks": ""
             }
            },
            "marker": {
             "colorbar": {
              "outlinewidth": 0,
              "ticks": ""
             }
            },
            "type": "scatter3d"
           }
          ],
          "scattercarpet": [
           {
            "marker": {
             "colorbar": {
              "outlinewidth": 0,
              "ticks": ""
             }
            },
            "type": "scattercarpet"
           }
          ],
          "scattergeo": [
           {
            "marker": {
             "colorbar": {
              "outlinewidth": 0,
              "ticks": ""
             }
            },
            "type": "scattergeo"
           }
          ],
          "scattergl": [
           {
            "marker": {
             "colorbar": {
              "outlinewidth": 0,
              "ticks": ""
             }
            },
            "type": "scattergl"
           }
          ],
          "scattermapbox": [
           {
            "marker": {
             "colorbar": {
              "outlinewidth": 0,
              "ticks": ""
             }
            },
            "type": "scattermapbox"
           }
          ],
          "scatterpolar": [
           {
            "marker": {
             "colorbar": {
              "outlinewidth": 0,
              "ticks": ""
             }
            },
            "type": "scatterpolar"
           }
          ],
          "scatterpolargl": [
           {
            "marker": {
             "colorbar": {
              "outlinewidth": 0,
              "ticks": ""
             }
            },
            "type": "scatterpolargl"
           }
          ],
          "scatterternary": [
           {
            "marker": {
             "colorbar": {
              "outlinewidth": 0,
              "ticks": ""
             }
            },
            "type": "scatterternary"
           }
          ],
          "surface": [
           {
            "colorbar": {
             "outlinewidth": 0,
             "ticks": ""
            },
            "colorscale": [
             [
              0,
              "#0d0887"
             ],
             [
              0.1111111111111111,
              "#46039f"
             ],
             [
              0.2222222222222222,
              "#7201a8"
             ],
             [
              0.3333333333333333,
              "#9c179e"
             ],
             [
              0.4444444444444444,
              "#bd3786"
             ],
             [
              0.5555555555555556,
              "#d8576b"
             ],
             [
              0.6666666666666666,
              "#ed7953"
             ],
             [
              0.7777777777777778,
              "#fb9f3a"
             ],
             [
              0.8888888888888888,
              "#fdca26"
             ],
             [
              1,
              "#f0f921"
             ]
            ],
            "type": "surface"
           }
          ],
          "table": [
           {
            "cells": {
             "fill": {
              "color": "#EBF0F8"
             },
             "line": {
              "color": "white"
             }
            },
            "header": {
             "fill": {
              "color": "#C8D4E3"
             },
             "line": {
              "color": "white"
             }
            },
            "type": "table"
           }
          ]
         },
         "layout": {
          "annotationdefaults": {
           "arrowcolor": "#2a3f5f",
           "arrowhead": 0,
           "arrowwidth": 1
          },
          "autotypenumbers": "strict",
          "coloraxis": {
           "colorbar": {
            "outlinewidth": 0,
            "ticks": ""
           }
          },
          "colorscale": {
           "diverging": [
            [
             0,
             "#8e0152"
            ],
            [
             0.1,
             "#c51b7d"
            ],
            [
             0.2,
             "#de77ae"
            ],
            [
             0.3,
             "#f1b6da"
            ],
            [
             0.4,
             "#fde0ef"
            ],
            [
             0.5,
             "#f7f7f7"
            ],
            [
             0.6,
             "#e6f5d0"
            ],
            [
             0.7,
             "#b8e186"
            ],
            [
             0.8,
             "#7fbc41"
            ],
            [
             0.9,
             "#4d9221"
            ],
            [
             1,
             "#276419"
            ]
           ],
           "sequential": [
            [
             0,
             "#0d0887"
            ],
            [
             0.1111111111111111,
             "#46039f"
            ],
            [
             0.2222222222222222,
             "#7201a8"
            ],
            [
             0.3333333333333333,
             "#9c179e"
            ],
            [
             0.4444444444444444,
             "#bd3786"
            ],
            [
             0.5555555555555556,
             "#d8576b"
            ],
            [
             0.6666666666666666,
             "#ed7953"
            ],
            [
             0.7777777777777778,
             "#fb9f3a"
            ],
            [
             0.8888888888888888,
             "#fdca26"
            ],
            [
             1,
             "#f0f921"
            ]
           ],
           "sequentialminus": [
            [
             0,
             "#0d0887"
            ],
            [
             0.1111111111111111,
             "#46039f"
            ],
            [
             0.2222222222222222,
             "#7201a8"
            ],
            [
             0.3333333333333333,
             "#9c179e"
            ],
            [
             0.4444444444444444,
             "#bd3786"
            ],
            [
             0.5555555555555556,
             "#d8576b"
            ],
            [
             0.6666666666666666,
             "#ed7953"
            ],
            [
             0.7777777777777778,
             "#fb9f3a"
            ],
            [
             0.8888888888888888,
             "#fdca26"
            ],
            [
             1,
             "#f0f921"
            ]
           ]
          },
          "colorway": [
           "#636efa",
           "#EF553B",
           "#00cc96",
           "#ab63fa",
           "#FFA15A",
           "#19d3f3",
           "#FF6692",
           "#B6E880",
           "#FF97FF",
           "#FECB52"
          ],
          "font": {
           "color": "#2a3f5f"
          },
          "geo": {
           "bgcolor": "white",
           "lakecolor": "white",
           "landcolor": "#E5ECF6",
           "showlakes": true,
           "showland": true,
           "subunitcolor": "white"
          },
          "hoverlabel": {
           "align": "left"
          },
          "hovermode": "closest",
          "mapbox": {
           "style": "light"
          },
          "paper_bgcolor": "white",
          "plot_bgcolor": "#E5ECF6",
          "polar": {
           "angularaxis": {
            "gridcolor": "white",
            "linecolor": "white",
            "ticks": ""
           },
           "bgcolor": "#E5ECF6",
           "radialaxis": {
            "gridcolor": "white",
            "linecolor": "white",
            "ticks": ""
           }
          },
          "scene": {
           "xaxis": {
            "backgroundcolor": "#E5ECF6",
            "gridcolor": "white",
            "gridwidth": 2,
            "linecolor": "white",
            "showbackground": true,
            "ticks": "",
            "zerolinecolor": "white"
           },
           "yaxis": {
            "backgroundcolor": "#E5ECF6",
            "gridcolor": "white",
            "gridwidth": 2,
            "linecolor": "white",
            "showbackground": true,
            "ticks": "",
            "zerolinecolor": "white"
           },
           "zaxis": {
            "backgroundcolor": "#E5ECF6",
            "gridcolor": "white",
            "gridwidth": 2,
            "linecolor": "white",
            "showbackground": true,
            "ticks": "",
            "zerolinecolor": "white"
           }
          },
          "shapedefaults": {
           "line": {
            "color": "#2a3f5f"
           }
          },
          "ternary": {
           "aaxis": {
            "gridcolor": "white",
            "linecolor": "white",
            "ticks": ""
           },
           "baxis": {
            "gridcolor": "white",
            "linecolor": "white",
            "ticks": ""
           },
           "bgcolor": "#E5ECF6",
           "caxis": {
            "gridcolor": "white",
            "linecolor": "white",
            "ticks": ""
           }
          },
          "title": {
           "x": 0.05
          },
          "xaxis": {
           "automargin": true,
           "gridcolor": "white",
           "linecolor": "white",
           "ticks": "",
           "title": {
            "standoff": 15
           },
           "zerolinecolor": "white",
           "zerolinewidth": 2
          },
          "yaxis": {
           "automargin": true,
           "gridcolor": "white",
           "linecolor": "white",
           "ticks": "",
           "title": {
            "standoff": 15
           },
           "zerolinecolor": "white",
           "zerolinewidth": 2
          }
         }
        },
        "title": {
         "text": "hello"
        }
       }
      }
     },
     "metadata": {},
     "output_type": "display_data"
    }
   ],
   "source": [
    "# Visualisation of the results\n",
    "fig = go.Figure()\n",
    "colors = Y_train.map({0: \"red\", 1: \"blue\"})\n",
    "fig.add_trace(\n",
    "    go.Scatter(\n",
    "        x=X_train[\"mean perimeter\"],\n",
    "        y=X_train[\"mean compactness\"],\n",
    "        mode=\"markers\",\n",
    "        marker=dict(color=colors),\n",
    "        name=\"Data\"\n",
    "    )\n",
    ")\n",
    "\n",
    "# Adding the separation boundary\n",
    "theta0 = model.intercept_\n",
    "theta1, theta2 = model.coef_[0]\n",
    "x1_values = np.linspace(X_train[\"mean perimeter\"].min(), X_train[\"mean perimeter\"].max(), 100)\n",
    "func = lambda x: (-theta0 - theta1 * x) / theta2\n",
    "x2_values = func(x1_values)\n",
    "arr_plot = np.array(list(zip(x1_values, x2_values)))\n",
    "arr_plot = arr_plot[(arr_plot[:, 1] >= X_train[\"mean compactness\"].min() - 0.1) & (arr_plot[:, 1] <= X_train[\"mean compactness\"].max() + 0.1)]\n",
    "fig.add_trace(\n",
    "    go.Scatter(\n",
    "        x=arr_plot[:, 0],\n",
    "        y=arr_plot[:, 1],\n",
    "        mode='lines',\n",
    "        name=\"Separation Boundary\",\n",
    "        line=dict(color=\"black\", width=1, dash=\"dash\")\n",
    "    )\n",
    ")\n",
    "fig.update_layout(\n",
    "    title_text=\"Separation Boundary on Training Set\"\n",
    ")"
   ]
  },
  {
   "cell_type": "code",
   "execution_count": 125,
   "metadata": {},
   "outputs": [],
   "source": [
    "# Adding the separation boundary\n",
    "theta0 = model.intercept_\n",
    "theta1, theta2 = model.coef_[0]\n",
    "x1_values = np.linspace(X_train[\"mean perimeter\"].min(), X_train[\"mean perimeter\"].max(), 100)\n",
    "func = lambda x: (-theta0 - theta1 * x) / theta2\n",
    "x2_values = func(x1_values)\n",
    "arr_plot = np.array(list(zip(x1_values, x2_values)))\n",
    "arr_plot = arr_plot[(arr_plot[:, 1] >= X_train[\"mean compactness\"].min() - 0.1) & (arr_plot[:, 1] <= X_train[\"mean compactness\"].max() + 0.1)]"
   ]
  },
  {
   "cell_type": "code",
   "execution_count": 121,
   "metadata": {},
   "outputs": [
    {
     "data": {
      "text/plain": [
       "array([45.25171717,  4.06176494])"
      ]
     },
     "execution_count": 121,
     "metadata": {},
     "output_type": "execute_result"
    }
   ],
   "source": [
    "arr_plot[1, :]"
   ]
  },
  {
   "cell_type": "code",
   "execution_count": 111,
   "metadata": {},
   "outputs": [
    {
     "data": {
      "text/plain": [
       "array([[ 4.37900000e+01,  4.52517172e+01,  4.67134343e+01,\n",
       "         4.81751515e+01,  4.96368687e+01,  5.10985859e+01,\n",
       "         5.25603030e+01,  5.40220202e+01,  5.54837374e+01,\n",
       "         5.69454545e+01,  5.84071717e+01,  5.98688889e+01,\n",
       "         6.13306061e+01,  6.27923232e+01,  6.42540404e+01,\n",
       "         6.57157576e+01,  6.71774747e+01,  6.86391919e+01,\n",
       "         7.01009091e+01,  7.15626263e+01,  7.30243434e+01,\n",
       "         7.44860606e+01,  7.59477778e+01,  7.74094949e+01,\n",
       "         7.88712121e+01,  8.03329293e+01,  8.17946465e+01,\n",
       "         8.32563636e+01,  8.47180808e+01,  8.61797980e+01,\n",
       "         8.76415152e+01,  8.91032323e+01,  9.05649495e+01,\n",
       "         9.20266667e+01,  9.34883838e+01,  9.49501010e+01,\n",
       "         9.64118182e+01,  9.78735354e+01,  9.93352525e+01,\n",
       "         1.00796970e+02,  1.02258687e+02,  1.03720404e+02,\n",
       "         1.05182121e+02,  1.06643838e+02,  1.08105556e+02,\n",
       "         1.09567273e+02,  1.11028990e+02,  1.12490707e+02,\n",
       "         1.13952424e+02,  1.15414141e+02,  1.16875859e+02,\n",
       "         1.18337576e+02,  1.19799293e+02,  1.21261010e+02,\n",
       "         1.22722727e+02,  1.24184444e+02,  1.25646162e+02,\n",
       "         1.27107879e+02,  1.28569596e+02,  1.30031313e+02,\n",
       "         1.31493030e+02,  1.32954747e+02,  1.34416465e+02,\n",
       "         1.35878182e+02,  1.37339899e+02,  1.38801616e+02,\n",
       "         1.40263333e+02,  1.41725051e+02,  1.43186768e+02,\n",
       "         1.44648485e+02,  1.46110202e+02,  1.47571919e+02,\n",
       "         1.49033636e+02,  1.50495354e+02,  1.51957071e+02,\n",
       "         1.53418788e+02,  1.54880505e+02,  1.56342222e+02,\n",
       "         1.57803939e+02,  1.59265657e+02,  1.60727374e+02,\n",
       "         1.62189091e+02,  1.63650808e+02,  1.65112525e+02,\n",
       "         1.66574242e+02,  1.68035960e+02,  1.69497677e+02,\n",
       "         1.70959394e+02,  1.72421111e+02,  1.73882828e+02,\n",
       "         1.75344545e+02,  1.76806263e+02,  1.78267980e+02,\n",
       "         1.79729697e+02,  1.81191414e+02,  1.82653131e+02,\n",
       "         1.84114848e+02,  1.85576566e+02,  1.87038283e+02,\n",
       "         1.88500000e+02],\n",
       "       [ 4.17595222e+00,  4.06176494e+00,  3.94757765e+00,\n",
       "         3.83339036e+00,  3.71920307e+00,  3.60501578e+00,\n",
       "         3.49082849e+00,  3.37664120e+00,  3.26245391e+00,\n",
       "         3.14826662e+00,  3.03407933e+00,  2.91989205e+00,\n",
       "         2.80570476e+00,  2.69151747e+00,  2.57733018e+00,\n",
       "         2.46314289e+00,  2.34895560e+00,  2.23476831e+00,\n",
       "         2.12058102e+00,  2.00639373e+00,  1.89220645e+00,\n",
       "         1.77801916e+00,  1.66383187e+00,  1.54964458e+00,\n",
       "         1.43545729e+00,  1.32127000e+00,  1.20708271e+00,\n",
       "         1.09289542e+00,  9.78708133e-01,  8.64520844e-01,\n",
       "         7.50333555e-01,  6.36146266e-01,  5.21958978e-01,\n",
       "         4.07771689e-01,  2.93584400e-01,  1.79397111e-01,\n",
       "         6.52098216e-02, -4.89774673e-02, -1.63164756e-01,\n",
       "        -2.77352045e-01, -3.91539334e-01, -5.05726623e-01,\n",
       "        -6.19913912e-01, -7.34101201e-01, -8.48288490e-01,\n",
       "        -9.62475779e-01, -1.07666307e+00, -1.19085036e+00,\n",
       "        -1.30503765e+00, -1.41922493e+00, -1.53341222e+00,\n",
       "        -1.64759951e+00, -1.76178680e+00, -1.87597409e+00,\n",
       "        -1.99016138e+00, -2.10434867e+00, -2.21853596e+00,\n",
       "        -2.33272325e+00, -2.44691054e+00, -2.56109782e+00,\n",
       "        -2.67528511e+00, -2.78947240e+00, -2.90365969e+00,\n",
       "        -3.01784698e+00, -3.13203427e+00, -3.24622156e+00,\n",
       "        -3.36040885e+00, -3.47459614e+00, -3.58878343e+00,\n",
       "        -3.70297071e+00, -3.81715800e+00, -3.93134529e+00,\n",
       "        -4.04553258e+00, -4.15971987e+00, -4.27390716e+00,\n",
       "        -4.38809445e+00, -4.50228174e+00, -4.61646903e+00,\n",
       "        -4.73065632e+00, -4.84484360e+00, -4.95903089e+00,\n",
       "        -5.07321818e+00, -5.18740547e+00, -5.30159276e+00,\n",
       "        -5.41578005e+00, -5.52996734e+00, -5.64415463e+00,\n",
       "        -5.75834192e+00, -5.87252920e+00, -5.98671649e+00,\n",
       "        -6.10090378e+00, -6.21509107e+00, -6.32927836e+00,\n",
       "        -6.44346565e+00, -6.55765294e+00, -6.67184023e+00,\n",
       "        -6.78602752e+00, -6.90021481e+00, -7.01440209e+00,\n",
       "        -7.12858938e+00]])"
      ]
     },
     "execution_count": 111,
     "metadata": {},
     "output_type": "execute_result"
    }
   ],
   "source": [
    "test"
   ]
  },
  {
   "cell_type": "code",
   "execution_count": 76,
   "metadata": {},
   "outputs": [
    {
     "data": {
      "application/vnd.plotly.v1+json": {
       "config": {
        "plotlyServerURL": "https://plot.ly"
       },
       "data": [
        {
         "marker": {
          "color": [
           "red",
           "red",
           "red",
           "red",
           "red",
           "red",
           "red",
           "red",
           "red",
           "red",
           "red",
           "red",
           "red",
           "red",
           "red",
           "red",
           "red",
           "red",
           "red",
           "blue",
           "blue",
           "blue",
           "red",
           "red",
           "red",
           "red",
           "red",
           "red",
           "red",
           "red",
           "red",
           "red",
           "red",
           "red",
           "red",
           "red",
           "red",
           "blue",
           "red",
           "red",
           "red",
           "red",
           "red",
           "red",
           "red",
           "red",
           "blue",
           "red",
           "blue",
           "blue",
           "blue",
           "blue",
           "blue",
           "red",
           "red",
           "blue",
           "red",
           "red",
           "blue",
           "blue",
           "blue",
           "blue",
           "red",
           "blue",
           "red",
           "red",
           "blue",
           "blue",
           "blue",
           "blue",
           "red",
           "blue",
           "red",
           "red",
           "blue",
           "red",
           "blue",
           "red",
           "red",
           "blue",
           "blue",
           "blue",
           "red",
           "red",
           "blue",
           "red",
           "red",
           "red",
           "blue",
           "blue",
           "blue",
           "red",
           "blue",
           "blue",
           "red",
           "red",
           "blue",
           "blue",
           "blue",
           "red",
           "red",
           "blue",
           "blue",
           "blue",
           "blue",
           "red",
           "blue",
           "blue",
           "red",
           "blue",
           "blue",
           "blue",
           "blue",
           "blue",
           "blue",
           "blue",
           "blue",
           "red",
           "red",
           "red",
           "blue",
           "red",
           "red",
           "blue",
           "blue",
           "blue",
           "red",
           "red",
           "blue",
           "red",
           "blue",
           "red",
           "red",
           "blue",
           "red",
           "red",
           "blue",
           "blue",
           "red",
           "blue",
           "blue",
           "red",
           "blue",
           "blue",
           "blue",
           "blue",
           "red",
           "blue",
           "blue",
           "blue",
           "blue",
           "blue",
           "blue",
           "blue",
           "blue",
           "blue",
           "red",
           "blue",
           "blue",
           "blue",
           "blue",
           "red",
           "red",
           "blue",
           "red",
           "blue",
           "blue",
           "red",
           "red",
           "blue",
           "blue",
           "red",
           "red",
           "blue",
           "blue",
           "blue",
           "blue",
           "red",
           "blue",
           "blue",
           "red",
           "red",
           "red",
           "blue",
           "red",
           "blue",
           "red",
           "blue",
           "blue",
           "blue",
           "red",
           "blue",
           "blue",
           "red",
           "red",
           "blue",
           "red",
           "red",
           "red",
           "red",
           "blue",
           "red",
           "red",
           "red",
           "blue",
           "red",
           "blue",
           "red",
           "blue",
           "blue",
           "red",
           "blue",
           "red",
           "red",
           "red",
           "red",
           "blue",
           "blue",
           "red",
           "red",
           "blue",
           "blue",
           "blue",
           "red",
           "blue",
           "blue",
           "blue",
           "blue",
           "blue",
           "red",
           "red",
           "blue",
           "blue",
           "red",
           "blue",
           "blue",
           "red",
           "red",
           "blue",
           "red",
           "blue",
           "blue",
           "blue",
           "blue",
           "red",
           "blue",
           "blue",
           "blue",
           "blue",
           "blue",
           "red",
           "blue",
           "red",
           "red",
           "red",
           "red",
           "red",
           "red",
           "red",
           "red",
           "red",
           "red",
           "red",
           "red",
           "red",
           "red",
           "blue",
           "blue",
           "blue",
           "blue",
           "blue",
           "blue",
           "red",
           "blue",
           "red",
           "blue",
           "blue",
           "red",
           "blue",
           "blue",
           "red",
           "blue",
           "red",
           "red",
           "blue",
           "blue",
           "blue",
           "blue",
           "blue",
           "blue",
           "blue",
           "blue",
           "blue",
           "blue",
           "blue",
           "blue",
           "blue",
           "red",
           "blue",
           "blue",
           "red",
           "blue",
           "red",
           "blue",
           "blue",
           "blue",
           "blue",
           "blue",
           "blue",
           "blue",
           "blue",
           "blue",
           "blue",
           "blue",
           "blue",
           "blue",
           "blue",
           "red",
           "blue",
           "blue",
           "blue",
           "red",
           "blue",
           "red",
           "blue",
           "blue",
           "blue",
           "blue",
           "red",
           "red",
           "red",
           "blue",
           "blue",
           "blue",
           "blue",
           "red",
           "blue",
           "red",
           "blue",
           "red",
           "blue",
           "blue",
           "blue",
           "red",
           "blue",
           "blue",
           "blue",
           "blue",
           "blue",
           "blue",
           "blue",
           "red",
           "red",
           "red",
           "blue",
           "blue",
           "blue",
           "blue",
           "blue",
           "blue",
           "blue",
           "blue",
           "blue",
           "blue",
           "blue",
           "red",
           "red",
           "blue",
           "red",
           "red",
           "red",
           "blue",
           "red",
           "red",
           "blue",
           "blue",
           "blue",
           "blue",
           "blue",
           "red",
           "blue",
           "blue",
           "blue",
           "blue",
           "blue",
           "red",
           "blue",
           "blue",
           "blue",
           "red",
           "blue",
           "blue",
           "red",
           "red",
           "blue",
           "blue",
           "blue",
           "blue",
           "blue",
           "blue",
           "red",
           "blue",
           "blue",
           "blue",
           "blue",
           "blue",
           "blue",
           "blue",
           "red",
           "blue",
           "blue",
           "blue",
           "blue",
           "blue",
           "red",
           "blue",
           "blue",
           "red",
           "blue",
           "blue",
           "blue",
           "blue",
           "blue",
           "blue",
           "blue",
           "blue",
           "blue",
           "blue",
           "blue",
           "blue",
           "red",
           "blue",
           "red",
           "red",
           "blue",
           "red",
           "blue",
           "blue",
           "blue",
           "blue",
           "blue",
           "red",
           "blue",
           "blue",
           "red",
           "blue",
           "red",
           "blue",
           "blue",
           "red",
           "blue",
           "red",
           "blue",
           "blue",
           "blue",
           "blue",
           "blue",
           "blue",
           "blue",
           "blue",
           "red",
           "red",
           "blue",
           "blue",
           "blue",
           "blue",
           "blue",
           "blue",
           "red",
           "blue",
           "blue",
           "blue",
           "blue",
           "blue",
           "blue",
           "blue",
           "blue",
           "blue",
           "blue",
           "red",
           "blue",
           "blue",
           "blue",
           "blue",
           "blue",
           "blue",
           "blue",
           "red",
           "blue",
           "red",
           "blue",
           "blue",
           "red",
           "blue",
           "blue",
           "blue",
           "blue",
           "blue",
           "red",
           "red",
           "blue",
           "red",
           "blue",
           "red",
           "blue",
           "blue",
           "blue",
           "blue",
           "blue",
           "red",
           "blue",
           "blue",
           "red",
           "blue",
           "red",
           "blue",
           "red",
           "red",
           "blue",
           "blue",
           "blue",
           "red",
           "blue",
           "blue",
           "blue",
           "blue",
           "blue",
           "blue",
           "blue",
           "blue",
           "blue",
           "blue",
           "blue",
           "red",
           "blue",
           "red",
           "red",
           "blue",
           "blue",
           "blue",
           "blue",
           "blue",
           "blue",
           "blue",
           "blue",
           "blue",
           "blue",
           "blue",
           "blue",
           "blue",
           "blue",
           "blue",
           "blue",
           "blue",
           "blue",
           "blue",
           "blue",
           "blue",
           "blue",
           "blue",
           "blue",
           "blue",
           "red",
           "red",
           "red",
           "red",
           "red",
           "red",
           "blue"
          ]
         },
         "mode": "markers",
         "name": "Data",
         "type": "scatter",
         "x": [
          122.8,
          132.9,
          130,
          77.58,
          135.1,
          82.57,
          119.6,
          90.2,
          87.5,
          83.97,
          102.7,
          103.6,
          132.4,
          103.7,
          93.6,
          96.73,
          94.74,
          108.1,
          130,
          87.46,
          85.63,
          60.34,
          102.5,
          137.2,
          110,
          116,
          97.41,
          122.1,
          102.4,
          115,
          124.8,
          77.93,
          112.8,
          127.9,
          107,
          110.1,
          93.63,
          82.61,
          95.54,
          88.4,
          86.18,
          71.9,
          128.3,
          87.32,
          85.42,
          123.7,
          51.71,
          85.98,
          78.04,
          86.91,
          74.72,
          87.21,
          75.71,
          120.3,
          97.26,
          73.34,
          125.5,
          95.55,
          82.61,
          54.34,
          64.55,
          54.66,
          96.42,
          59.2,
          82.69,
          97.4,
          60.11,
          71.8,
          58.79,
          81.37,
          123.6,
          58.79,
          114.2,
          90.43,
          79.19,
          104.1,
          87.91,
          120.2,
          143.7,
          83.19,
          73.81,
          86.49,
          171.5,
          129.1,
          76.95,
          121.1,
          94.25,
          122,
          79.78,
          95.77,
          94.57,
          100.2,
          84.74,
          86.6,
          100.3,
          132.4,
          77.79,
          62.11,
          74.34,
          94.48,
          88.05,
          43.79,
          77.22,
          63.95,
          67.41,
          87.21,
          75.17,
          79.01,
          152.8,
          72.48,
          62.5,
          82.15,
          97.83,
          68.64,
          55.84,
          76.53,
          58.74,
          98.64,
          105.7,
          114.2,
          73.34,
          121.4,
          166.2,
          94.28,
          86.1,
          88.44,
          87.76,
          123.4,
          99.58,
          130.4,
          79.08,
          101.7,
          106.2,
          102,
          120.2,
          81.72,
          74.72,
          73.06,
          96.85,
          73,
          61.24,
          105.1,
          73.66,
          83.74,
          68.26,
          78.11,
          78.99,
          97.84,
          93.97,
          88.12,
          83.51,
          53.27,
          63.78,
          70.87,
          85.31,
          78.27,
          117.4,
          108.4,
          76.84,
          68.69,
          76.1,
          126.3,
          130.7,
          79.85,
          152.1,
          95.5,
          68.77,
          109.3,
          116.1,
          96.22,
          78.85,
          85.84,
          102.5,
          70.21,
          67.49,
          54.42,
          64.6,
          109.3,
          82.01,
          81.29,
          182.1,
          142.7,
          101.2,
          73.53,
          98.92,
          63.76,
          118.6,
          74.68,
          75.27,
          78.83,
          94.37,
          82.02,
          60.73,
          81.15,
          100.4,
          82.53,
          90.63,
          117.4,
          127.5,
          94.49,
          78.54,
          115.1,
          158.9,
          91.56,
          81.09,
          98.78,
          62.92,
          109.7,
          87.02,
          98.17,
          134.7,
          75.51,
          188.5,
          114.5,
          92.87,
          90.96,
          77.32,
          65.05,
          129.7,
          128,
          87.88,
          88.59,
          65.12,
          102.6,
          84.55,
          92.51,
          66.62,
          97.45,
          81.35,
          85.26,
          113.4,
          71.76,
          70.79,
          134.4,
          60.21,
          89.79,
          153.5,
          132.5,
          92.55,
          113.4,
          87.38,
          78.61,
          73.93,
          88.54,
          129.1,
          66.72,
          84.13,
          84.95,
          68.01,
          73.87,
          138.9,
          73.28,
          130.7,
          113,
          126.5,
          91.43,
          133.6,
          103.2,
          110.2,
          103.7,
          132.9,
          111,
          114.4,
          100,
          111.6,
          135.7,
          69.28,
          87.16,
          82.38,
          69.5,
          90.3,
          72.23,
          147.3,
          61.5,
          115.2,
          76.2,
          71.79,
          120.9,
          86.24,
          88.99,
          126.2,
          74.24,
          127.2,
          108.8,
          84.08,
          79.83,
          77.87,
          81.89,
          73.72,
          72.17,
          96.03,
          97.03,
          83.14,
          75.54,
          81.78,
          88.06,
          69.14,
          75,
          91.22,
          66.85,
          129.5,
          80.43,
          134.7,
          66.86,
          73.59,
          74.23,
          84.07,
          56.36,
          85.69,
          82.71,
          74.33,
          92.68,
          82.29,
          73.73,
          54.09,
          79.19,
          77.25,
          118.7,
          60.07,
          78.6,
          66.52,
          131.1,
          82.82,
          135.9,
          78.01,
          81.25,
          90.03,
          76.09,
          106.9,
          107.5,
          105.8,
          84.52,
          71.94,
          71.38,
          77.88,
          111.8,
          84.08,
          122.9,
          64.41,
          155.1,
          94.15,
          61.64,
          71.49,
          129.9,
          75.03,
          66.2,
          76.66,
          94.87,
          73.02,
          77.23,
          73.7,
          107.1,
          174.2,
          98,
          71.24,
          81.92,
          85.09,
          88.52,
          56.74,
          59.82,
          79.42,
          85.24,
          81.87,
          106.6,
          85.48,
          133.8,
          133.7,
          78.31,
          140.9,
          147.2,
          109,
          97.65,
          141.3,
          134.8,
          87.84,
          106.3,
          70.15,
          85.89,
          88.27,
          73.3,
          73.16,
          70.67,
          78.75,
          80.64,
          85.79,
          93.97,
          78.78,
          88.37,
          73.38,
          128.9,
          65.75,
          55.27,
          102.4,
          144.4,
          78.07,
          89.75,
          88.1,
          83.05,
          70.31,
          75.26,
          124.4,
          76.14,
          84.18,
          83.18,
          78.29,
          70.39,
          104.3,
          82.63,
          117.8,
          78.41,
          72.49,
          70.92,
          59.75,
          97.53,
          96.71,
          76.39,
          59.6,
          102.9,
          80.88,
          70.95,
          74.2,
          98.22,
          75.46,
          89.46,
          61.93,
          63.19,
          67.49,
          68.79,
          70.47,
          80.98,
          102.1,
          81.47,
          133.8,
          123.7,
          94.89,
          91.12,
          82.67,
          89.78,
          88.68,
          89.59,
          71.73,
          112.4,
          88.37,
          66.82,
          117.5,
          77.61,
          117.3,
          95.88,
          94.25,
          138.1,
          76.83,
          127.7,
          76.77,
          93.86,
          80.62,
          86.34,
          74.87,
          84.1,
          82.61,
          61.68,
          111.2,
          186.9,
          92.25,
          73.88,
          84.28,
          86.87,
          85.98,
          61.06,
          119,
          76.38,
          61.49,
          76.85,
          96.45,
          77.42,
          70.41,
          82.89,
          92.41,
          88.97,
          73.99,
          109.8,
          78.29,
          88.73,
          87.32,
          87.76,
          102.8,
          82.85,
          94.21,
          128.1,
          75.49,
          107.1,
          78.18,
          114.6,
          118.4,
          78.83,
          84.06,
          96.12,
          82.69,
          80.45,
          121.3,
          137.8,
          98.73,
          92.33,
          81.25,
          152.1,
          61.49,
          64.12,
          79.47,
          71.25,
          104.7,
          103.8,
          76.31,
          94.66,
          88.64,
          94.29,
          97.26,
          72.76,
          120.8,
          130.5,
          84.45,
          82.51,
          59.96,
          165.5,
          71.3,
          88.73,
          63,
          54.53,
          87.44,
          78.94,
          90.31,
          77.83,
          75.89,
          75.21,
          87.76,
          134.7,
          70.79,
          137.8,
          93.77,
          76.37,
          47.98,
          48.34,
          74.65,
          95.81,
          94.7,
          84.88,
          89.77,
          87.19,
          65.31,
          65.85,
          61.05,
          68.89,
          68.51,
          71.49,
          81.35,
          59.01,
          82.5,
          65.67,
          64.73,
          59.26,
          96.39,
          74.52,
          91.38,
          70.67,
          103.4,
          143,
          142,
          131.2,
          108.3,
          140.1,
          47.92
         ],
         "y": [
          0.2776,
          0.07864,
          0.1599,
          0.2839,
          0.1328,
          0.17,
          0.109,
          0.1645,
          0.1932,
          0.2396,
          0.06669,
          0.1292,
          0.2458,
          0.1002,
          0.2293,
          0.1595,
          0.072,
          0.2022,
          0.1027,
          0.08129,
          0.127,
          0.06492,
          0.2135,
          0.1022,
          0.1457,
          0.2276,
          0.1868,
          0.1066,
          0.1697,
          0.1157,
          0.1887,
          0.1516,
          0.1496,
          0.1719,
          0.1559,
          0.1336,
          0.1098,
          0.03766,
          0.05131,
          0.1255,
          0.06031,
          0.1218,
          0.219,
          0.1436,
          0.1047,
          0.1686,
          0.05943,
          0.1231,
          0.09092,
          0.07698,
          0.04966,
          0.06059,
          0.04751,
          0.1485,
          0.07081,
          0.05473,
          0.1267,
          0.1365,
          0.03789,
          0.05272,
          0.08061,
          0.08963,
          0.2008,
          0.08751,
          0.1262,
          0.1479,
          0.07773,
          0.04701,
          0.1413,
          0.05234,
          0.1029,
          0.1531,
          0.183,
          0.128,
          0.06829,
          0.08424,
          0.1047,
          0.2146,
          0.3454,
          0.09546,
          0.09362,
          0.1535,
          0.2665,
          0.1791,
          0.07165,
          0.1053,
          0.09947,
          0.1206,
          0.09445,
          0.1339,
          0.08606,
          0.1036,
          0.05055,
          0.08165,
          0.1553,
          0.1313,
          0.07057,
          0.05301,
          0.07525,
          0.1141,
          0.08511,
          0.07568,
          0.04038,
          0.09697,
          0.08578,
          0.1765,
          0.1017,
          0.06815,
          0.2768,
          0.06575,
          0.08404,
          0.1209,
          0.2233,
          0.1303,
          0.08201,
          0.07849,
          0.1243,
          0.1649,
          0.1752,
          0.06722,
          0.06685,
          0.11,
          0.2867,
          0.1099,
          0.07325,
          0.06136,
          0.07862,
          0.08028,
          0.1807,
          0.1589,
          0.09509,
          0.1223,
          0.1284,
          0.09462,
          0.09709,
          0.05761,
          0.06095,
          0.06889,
          0.1305,
          0.1136,
          0.04102,
          0.1137,
          0.09486,
          0.09509,
          0.05139,
          0.1296,
          0.17,
          0.1167,
          0.1021,
          0.06376,
          0.07589,
          0.1305,
          0.1599,
          0.05113,
          0.08498,
          0.06679,
          0.1665,
          0.07223,
          0.05241,
          0.03718,
          0.1141,
          0.1185,
          0.1666,
          0.1015,
          0.1145,
          0.05352,
          0.05736,
          0.09182,
          0.1603,
          0.07885,
          0.06981,
          0.06288,
          0.1555,
          0.05743,
          0.04302,
          0.04276,
          0.1294,
          0.1556,
          0.01938,
          0.03774,
          0.1914,
          0.2832,
          0.08799,
          0.08155,
          0.1052,
          0.04695,
          0.08468,
          0.06141,
          0.05562,
          0.07253,
          0.2413,
          0.06601,
          0.02344,
          0.1353,
          0.198,
          0.05366,
          0.1267,
          0.08642,
          0.1428,
          0.1206,
          0.08087,
          0.1198,
          0.2084,
          0.1768,
          0.1058,
          0.09588,
          0.07232,
          0.07304,
          0.1483,
          0.0623,
          0.1348,
          0.069,
          0.1516,
          0.1146,
          0.1306,
          0.1517,
          0.1154,
          0.05907,
          0.1306,
          0.113,
          0.08711,
          0.1192,
          0.08502,
          0.1204,
          0.04994,
          0.07624,
          0.07722,
          0.1096,
          0.07529,
          0.1799,
          0.1572,
          0.03813,
          0.03574,
          0.1074,
          0.04087,
          0.06945,
          0.1682,
          0.08348,
          0.1039,
          0.1298,
          0.0663,
          0.03393,
          0.1325,
          0.06807,
          0.1558,
          0.05971,
          0.04524,
          0.1346,
          0.07234,
          0.07808,
          0.1606,
          0.05991,
          0.1849,
          0.1041,
          0.1188,
          0.1279,
          0.2063,
          0.2284,
          0.3114,
          0.1639,
          0.1088,
          0.0629,
          0.1273,
          0.05616,
          0.08995,
          0.1143,
          0.1147,
          0.08259,
          0.06219,
          0.1289,
          0.02675,
          0.07608,
          0.1961,
          0.04689,
          0.07027,
          0.0721,
          0.03872,
          0.05884,
          0.04052,
          0.07688,
          0.1453,
          0.0434,
          0.1442,
          0.1802,
          0.0958,
          0.04216,
          0.1011,
          0.03729,
          0.1181,
          0.05008,
          0.1676,
          0.09823,
          0.07943,
          0.05642,
          0.08393,
          0.06221,
          0.04721,
          0.05914,
          0.0522,
          0.06797,
          0.1642,
          0.1014,
          0.1838,
          0.06678,
          0.07694,
          0.05688,
          0.05251,
          0.03116,
          0.03614,
          0.03735,
          0.05253,
          0.03515,
          0.07948,
          0.05969,
          0.05847,
          0.03834,
          0.03212,
          0.1117,
          0.1972,
          0.03454,
          0.1111,
          0.08564,
          0.08834,
          0.1875,
          0.06545,
          0.07664,
          0.05306,
          0.03892,
          0.1319,
          0.1283,
          0.1371,
          0.1125,
          0.06779,
          0.04458,
          0.04202,
          0.1056,
          0.09965,
          0.1402,
          0.07326,
          0.1283,
          0.1139,
          0.09228,
          0.09097,
          0.1339,
          0.07281,
          0.09159,
          0.05794,
          0.0778,
          0.05886,
          0.1206,
          0.0363,
          0.2364,
          0.2363,
          0.09769,
          0.06064,
          0.1038,
          0.1304,
          0.05492,
          0.07698,
          0.05956,
          0.0265,
          0.06373,
          0.07952,
          0.08468,
          0.05696,
          0.1131,
          0.1669,
          0.07175,
          0.08562,
          0.1954,
          0.1497,
          0.06934,
          0.1515,
          0.1076,
          0.06374,
          0.1438,
          0.166,
          0.04726,
          0.07548,
          0.2154,
          0.1111,
          0.07079,
          0.1073,
          0.1297,
          0.08575,
          0.06636,
          0.07823,
          0.04831,
          0.1114,
          0.1318,
          0.07542,
          0.07428,
          0.1562,
          0.2087,
          0.09758,
          0.05361,
          0.1147,
          0.08895,
          0.04768,
          0.06232,
          0.2576,
          0.05242,
          0.07899,
          0.08836,
          0.04571,
          0.0746,
          0.08501,
          0.08316,
          0.1304,
          0.06526,
          0.05313,
          0.07804,
          0.06053,
          0.1025,
          0.04605,
          0.0812,
          0.06159,
          0.1571,
          0.05794,
          0.05978,
          0.07722,
          0.1836,
          0.1168,
          0.1147,
          0.08333,
          0.03912,
          0.1013,
          0.05743,
          0.03834,
          0.04522,
          0.2225,
          0.1316,
          0.1489,
          0.1389,
          0.07074,
          0.1133,
          0.07883,
          0.05895,
          0.0633,
          0.05581,
          0.1113,
          0.1109,
          0.06718,
          0.04462,
          0.1232,
          0.09218,
          0.1314,
          0.0889,
          0.078,
          0.1175,
          0.1064,
          0.09871,
          0.0645,
          0.09242,
          0.0543,
          0.07426,
          0.08574,
          0.05205,
          0.05073,
          0.04626,
          0.111,
          0.1988,
          0.05223,
          0.05855,
          0.05994,
          0.1223,
          0.1089,
          0.05428,
          0.2004,
          0.1483,
          0.06258,
          0.06,
          0.08549,
          0.03398,
          0.1069,
          0.08269,
          0.1108,
          0.05319,
          0.08228,
          0.1893,
          0.07838,
          0.05326,
          0.1155,
          0.07957,
          0.1299,
          0.1511,
          0.06698,
          0.1448,
          0.09263,
          0.07112,
          0.052,
          0.06217,
          0.1289,
          0.04043,
          0.05275,
          0.08345,
          0.1334,
          0.0763,
          0.1317,
          0.1644,
          0.1364,
          0.1681,
          0.1085,
          0.1275,
          0.2239,
          0.2204,
          0.1152,
          0.1071,
          0.06712,
          0.187,
          0.09661,
          0.05016,
          0.1469,
          0.08918,
          0.08597,
          0.08499,
          0.1248,
          0.131,
          0.1661,
          0.1117,
          0.1225,
          0.2106,
          0.04413,
          0.107,
          0.08419,
          0.07632,
          0.1138,
          0.06307,
          0.09755,
          0.09009,
          0.09713,
          0.09453,
          0.07255,
          0.1313,
          0.09752,
          0.1739,
          0.1154,
          0.1552,
          0.04878,
          0.1199,
          0.112,
          0.123,
          0.07214,
          0.06877,
          0.1018,
          0.06747,
          0.04994,
          0.08066,
          0.0503,
          0.06602,
          0.04227,
          0.08194,
          0.04234,
          0.05605,
          0.05824,
          0.07658,
          0.07504,
          0.04971,
          0.133,
          0.1021,
          0.1126,
          0.03558,
          0.2087,
          0.2236,
          0.1159,
          0.1034,
          0.1023,
          0.277,
          0.04362
         ]
        },
        {
         "line": {
          "color": "black",
          "dash": "dash",
          "width": 2
         },
         "mode": "lines",
         "name": "Decision Boundary",
         "type": "scatter",
         "x": [
          43.79,
          45.25171717171717,
          46.71343434343434,
          48.17515151515151,
          49.63686868686869,
          51.09858585858586,
          52.56030303030303,
          54.0220202020202,
          55.48373737373737,
          56.945454545454545,
          58.40717171717172,
          59.86888888888889,
          61.33060606060606,
          62.79232323232323,
          64.25404040404041,
          65.71575757575758,
          67.17747474747475,
          68.63919191919192,
          70.10090909090908,
          71.56262626262627,
          73.02434343434344,
          74.4860606060606,
          75.94777777777779,
          77.40949494949496,
          78.87121212121212,
          80.3329292929293,
          81.79464646464646,
          83.25636363636363,
          84.7180808080808,
          86.17979797979798,
          87.64151515151515,
          89.10323232323233,
          90.5649494949495,
          92.02666666666667,
          93.48838383838384,
          94.95010101010101,
          96.41181818181818,
          97.87353535353535,
          99.33525252525253,
          100.7969696969697,
          102.25868686868688,
          103.72040404040405,
          105.18212121212122,
          106.64383838383839,
          108.10555555555555,
          109.56727272727272,
          111.02898989898989,
          112.49070707070706,
          113.95242424242423,
          115.41414141414143,
          116.8758585858586,
          118.33757575757576,
          119.79929292929293,
          121.2610101010101,
          122.72272727272727,
          124.18444444444444,
          125.6461616161616,
          127.10787878787878,
          128.56959595959597,
          130.03131313131314,
          131.4930303030303,
          132.95474747474748,
          134.41646464646465,
          135.87818181818182,
          137.33989898989898,
          138.80161616161615,
          140.26333333333332,
          141.72505050505052,
          143.1867676767677,
          144.64848484848486,
          146.11020202020202,
          147.5719191919192,
          149.03363636363636,
          150.49535353535353,
          151.9570707070707,
          153.41878787878787,
          154.88050505050506,
          156.34222222222223,
          157.8039393939394,
          159.26565656565657,
          160.72737373737374,
          162.1890909090909,
          163.65080808080808,
          165.11252525252524,
          166.5742424242424,
          168.0359595959596,
          169.49767676767678,
          170.95939393939395,
          172.42111111111112,
          173.88282828282829,
          175.34454545454545,
          176.80626262626262,
          178.2679797979798,
          179.72969696969696,
          181.19141414141413,
          182.6531313131313,
          184.11484848484847,
          185.57656565656566,
          187.03828282828283,
          188.5
         ],
         "y": [
          4.175952224582879,
          4.061764935611884,
          3.947577646640889,
          3.833390357669894,
          3.7192030686988997,
          3.605015779727905,
          3.49082849075691,
          3.3766412017859158,
          3.2624539128149204,
          3.148266623843926,
          3.034079334872931,
          2.9198920459019355,
          2.8057047569309415,
          2.691517467959947,
          2.5773301789889516,
          2.4631428900179566,
          2.348955601046962,
          2.2347683120759676,
          2.1205810231049735,
          2.0063937341339773,
          1.892206445162983,
          1.7780191561919887,
          1.6638318672209926,
          1.5496445782499984,
          1.4354572892790038,
          1.3212700003080096,
          1.2070827113370153,
          1.09289542236602,
          0.9787081333950257,
          0.8645208444240304,
          0.7503335554530361,
          0.63614626648204,
          0.5219589775110457,
          0.4077716885400513,
          0.29358439956905696,
          0.17939711059806177,
          0.06520982162706743,
          -0.048977467343926925,
          -0.163164756314923,
          -0.2773520452859165,
          -0.39153933425691256,
          -0.505726623227907,
          -0.6199139121989012,
          -0.7341012011698956,
          -0.8482884901408917,
          -0.962475779111886,
          -1.0766630680828804,
          -1.1908503570538747,
          -1.3050376460248692,
          -1.4192249349958652,
          -1.5334122239668595,
          -1.6475995129378538,
          -1.7617868019088498,
          -1.8759740908798443,
          -1.9901613798508386,
          -2.104348668821833,
          -2.2185359577928274,
          -2.3327232467638215,
          -2.4469105357348178,
          -2.5610978247058136,
          -2.675285113676808,
          -2.7894724026478026,
          -2.9036596916187967,
          -3.017846980589791,
          -3.1320342695607857,
          -3.2462215585317797,
          -3.3604088475027742,
          -3.474596136473772,
          -3.5887834254447664,
          -3.702970714415761,
          -3.817158003386755,
          -3.9313452923577494,
          -4.045532581328744,
          -4.159719870299738,
          -4.273907159270732,
          -4.388094448241727,
          -4.502281737212725,
          -4.616469026183719,
          -4.730656315154714,
          -4.844843604125708,
          -4.959030893096702,
          -5.073218182067697,
          -5.187405471038691,
          -5.301592760009687,
          -5.4157800489806815,
          -5.529967337951677,
          -5.6441546269226714,
          -5.7583419158936655,
          -5.8725292048646605,
          -5.9867164938356545,
          -6.100903782806649,
          -6.215091071777645,
          -6.329278360748639,
          -6.443465649719633,
          -6.557652938690628,
          -6.671840227661622,
          -6.7860275166326165,
          -6.900214805603613,
          -7.014402094574609,
          -7.128589383545603
         ]
        }
       ],
       "layout": {
        "showlegend": true,
        "template": {
         "data": {
          "bar": [
           {
            "error_x": {
             "color": "#2a3f5f"
            },
            "error_y": {
             "color": "#2a3f5f"
            },
            "marker": {
             "line": {
              "color": "#E5ECF6",
              "width": 0.5
             },
             "pattern": {
              "fillmode": "overlay",
              "size": 10,
              "solidity": 0.2
             }
            },
            "type": "bar"
           }
          ],
          "barpolar": [
           {
            "marker": {
             "line": {
              "color": "#E5ECF6",
              "width": 0.5
             },
             "pattern": {
              "fillmode": "overlay",
              "size": 10,
              "solidity": 0.2
             }
            },
            "type": "barpolar"
           }
          ],
          "carpet": [
           {
            "aaxis": {
             "endlinecolor": "#2a3f5f",
             "gridcolor": "white",
             "linecolor": "white",
             "minorgridcolor": "white",
             "startlinecolor": "#2a3f5f"
            },
            "baxis": {
             "endlinecolor": "#2a3f5f",
             "gridcolor": "white",
             "linecolor": "white",
             "minorgridcolor": "white",
             "startlinecolor": "#2a3f5f"
            },
            "type": "carpet"
           }
          ],
          "choropleth": [
           {
            "colorbar": {
             "outlinewidth": 0,
             "ticks": ""
            },
            "type": "choropleth"
           }
          ],
          "contour": [
           {
            "colorbar": {
             "outlinewidth": 0,
             "ticks": ""
            },
            "colorscale": [
             [
              0,
              "#0d0887"
             ],
             [
              0.1111111111111111,
              "#46039f"
             ],
             [
              0.2222222222222222,
              "#7201a8"
             ],
             [
              0.3333333333333333,
              "#9c179e"
             ],
             [
              0.4444444444444444,
              "#bd3786"
             ],
             [
              0.5555555555555556,
              "#d8576b"
             ],
             [
              0.6666666666666666,
              "#ed7953"
             ],
             [
              0.7777777777777778,
              "#fb9f3a"
             ],
             [
              0.8888888888888888,
              "#fdca26"
             ],
             [
              1,
              "#f0f921"
             ]
            ],
            "type": "contour"
           }
          ],
          "contourcarpet": [
           {
            "colorbar": {
             "outlinewidth": 0,
             "ticks": ""
            },
            "type": "contourcarpet"
           }
          ],
          "heatmap": [
           {
            "colorbar": {
             "outlinewidth": 0,
             "ticks": ""
            },
            "colorscale": [
             [
              0,
              "#0d0887"
             ],
             [
              0.1111111111111111,
              "#46039f"
             ],
             [
              0.2222222222222222,
              "#7201a8"
             ],
             [
              0.3333333333333333,
              "#9c179e"
             ],
             [
              0.4444444444444444,
              "#bd3786"
             ],
             [
              0.5555555555555556,
              "#d8576b"
             ],
             [
              0.6666666666666666,
              "#ed7953"
             ],
             [
              0.7777777777777778,
              "#fb9f3a"
             ],
             [
              0.8888888888888888,
              "#fdca26"
             ],
             [
              1,
              "#f0f921"
             ]
            ],
            "type": "heatmap"
           }
          ],
          "heatmapgl": [
           {
            "colorbar": {
             "outlinewidth": 0,
             "ticks": ""
            },
            "colorscale": [
             [
              0,
              "#0d0887"
             ],
             [
              0.1111111111111111,
              "#46039f"
             ],
             [
              0.2222222222222222,
              "#7201a8"
             ],
             [
              0.3333333333333333,
              "#9c179e"
             ],
             [
              0.4444444444444444,
              "#bd3786"
             ],
             [
              0.5555555555555556,
              "#d8576b"
             ],
             [
              0.6666666666666666,
              "#ed7953"
             ],
             [
              0.7777777777777778,
              "#fb9f3a"
             ],
             [
              0.8888888888888888,
              "#fdca26"
             ],
             [
              1,
              "#f0f921"
             ]
            ],
            "type": "heatmapgl"
           }
          ],
          "histogram": [
           {
            "marker": {
             "pattern": {
              "fillmode": "overlay",
              "size": 10,
              "solidity": 0.2
             }
            },
            "type": "histogram"
           }
          ],
          "histogram2d": [
           {
            "colorbar": {
             "outlinewidth": 0,
             "ticks": ""
            },
            "colorscale": [
             [
              0,
              "#0d0887"
             ],
             [
              0.1111111111111111,
              "#46039f"
             ],
             [
              0.2222222222222222,
              "#7201a8"
             ],
             [
              0.3333333333333333,
              "#9c179e"
             ],
             [
              0.4444444444444444,
              "#bd3786"
             ],
             [
              0.5555555555555556,
              "#d8576b"
             ],
             [
              0.6666666666666666,
              "#ed7953"
             ],
             [
              0.7777777777777778,
              "#fb9f3a"
             ],
             [
              0.8888888888888888,
              "#fdca26"
             ],
             [
              1,
              "#f0f921"
             ]
            ],
            "type": "histogram2d"
           }
          ],
          "histogram2dcontour": [
           {
            "colorbar": {
             "outlinewidth": 0,
             "ticks": ""
            },
            "colorscale": [
             [
              0,
              "#0d0887"
             ],
             [
              0.1111111111111111,
              "#46039f"
             ],
             [
              0.2222222222222222,
              "#7201a8"
             ],
             [
              0.3333333333333333,
              "#9c179e"
             ],
             [
              0.4444444444444444,
              "#bd3786"
             ],
             [
              0.5555555555555556,
              "#d8576b"
             ],
             [
              0.6666666666666666,
              "#ed7953"
             ],
             [
              0.7777777777777778,
              "#fb9f3a"
             ],
             [
              0.8888888888888888,
              "#fdca26"
             ],
             [
              1,
              "#f0f921"
             ]
            ],
            "type": "histogram2dcontour"
           }
          ],
          "mesh3d": [
           {
            "colorbar": {
             "outlinewidth": 0,
             "ticks": ""
            },
            "type": "mesh3d"
           }
          ],
          "parcoords": [
           {
            "line": {
             "colorbar": {
              "outlinewidth": 0,
              "ticks": ""
             }
            },
            "type": "parcoords"
           }
          ],
          "pie": [
           {
            "automargin": true,
            "type": "pie"
           }
          ],
          "scatter": [
           {
            "fillpattern": {
             "fillmode": "overlay",
             "size": 10,
             "solidity": 0.2
            },
            "type": "scatter"
           }
          ],
          "scatter3d": [
           {
            "line": {
             "colorbar": {
              "outlinewidth": 0,
              "ticks": ""
             }
            },
            "marker": {
             "colorbar": {
              "outlinewidth": 0,
              "ticks": ""
             }
            },
            "type": "scatter3d"
           }
          ],
          "scattercarpet": [
           {
            "marker": {
             "colorbar": {
              "outlinewidth": 0,
              "ticks": ""
             }
            },
            "type": "scattercarpet"
           }
          ],
          "scattergeo": [
           {
            "marker": {
             "colorbar": {
              "outlinewidth": 0,
              "ticks": ""
             }
            },
            "type": "scattergeo"
           }
          ],
          "scattergl": [
           {
            "marker": {
             "colorbar": {
              "outlinewidth": 0,
              "ticks": ""
             }
            },
            "type": "scattergl"
           }
          ],
          "scattermapbox": [
           {
            "marker": {
             "colorbar": {
              "outlinewidth": 0,
              "ticks": ""
             }
            },
            "type": "scattermapbox"
           }
          ],
          "scatterpolar": [
           {
            "marker": {
             "colorbar": {
              "outlinewidth": 0,
              "ticks": ""
             }
            },
            "type": "scatterpolar"
           }
          ],
          "scatterpolargl": [
           {
            "marker": {
             "colorbar": {
              "outlinewidth": 0,
              "ticks": ""
             }
            },
            "type": "scatterpolargl"
           }
          ],
          "scatterternary": [
           {
            "marker": {
             "colorbar": {
              "outlinewidth": 0,
              "ticks": ""
             }
            },
            "type": "scatterternary"
           }
          ],
          "surface": [
           {
            "colorbar": {
             "outlinewidth": 0,
             "ticks": ""
            },
            "colorscale": [
             [
              0,
              "#0d0887"
             ],
             [
              0.1111111111111111,
              "#46039f"
             ],
             [
              0.2222222222222222,
              "#7201a8"
             ],
             [
              0.3333333333333333,
              "#9c179e"
             ],
             [
              0.4444444444444444,
              "#bd3786"
             ],
             [
              0.5555555555555556,
              "#d8576b"
             ],
             [
              0.6666666666666666,
              "#ed7953"
             ],
             [
              0.7777777777777778,
              "#fb9f3a"
             ],
             [
              0.8888888888888888,
              "#fdca26"
             ],
             [
              1,
              "#f0f921"
             ]
            ],
            "type": "surface"
           }
          ],
          "table": [
           {
            "cells": {
             "fill": {
              "color": "#EBF0F8"
             },
             "line": {
              "color": "white"
             }
            },
            "header": {
             "fill": {
              "color": "#C8D4E3"
             },
             "line": {
              "color": "white"
             }
            },
            "type": "table"
           }
          ]
         },
         "layout": {
          "annotationdefaults": {
           "arrowcolor": "#2a3f5f",
           "arrowhead": 0,
           "arrowwidth": 1
          },
          "autotypenumbers": "strict",
          "coloraxis": {
           "colorbar": {
            "outlinewidth": 0,
            "ticks": ""
           }
          },
          "colorscale": {
           "diverging": [
            [
             0,
             "#8e0152"
            ],
            [
             0.1,
             "#c51b7d"
            ],
            [
             0.2,
             "#de77ae"
            ],
            [
             0.3,
             "#f1b6da"
            ],
            [
             0.4,
             "#fde0ef"
            ],
            [
             0.5,
             "#f7f7f7"
            ],
            [
             0.6,
             "#e6f5d0"
            ],
            [
             0.7,
             "#b8e186"
            ],
            [
             0.8,
             "#7fbc41"
            ],
            [
             0.9,
             "#4d9221"
            ],
            [
             1,
             "#276419"
            ]
           ],
           "sequential": [
            [
             0,
             "#0d0887"
            ],
            [
             0.1111111111111111,
             "#46039f"
            ],
            [
             0.2222222222222222,
             "#7201a8"
            ],
            [
             0.3333333333333333,
             "#9c179e"
            ],
            [
             0.4444444444444444,
             "#bd3786"
            ],
            [
             0.5555555555555556,
             "#d8576b"
            ],
            [
             0.6666666666666666,
             "#ed7953"
            ],
            [
             0.7777777777777778,
             "#fb9f3a"
            ],
            [
             0.8888888888888888,
             "#fdca26"
            ],
            [
             1,
             "#f0f921"
            ]
           ],
           "sequentialminus": [
            [
             0,
             "#0d0887"
            ],
            [
             0.1111111111111111,
             "#46039f"
            ],
            [
             0.2222222222222222,
             "#7201a8"
            ],
            [
             0.3333333333333333,
             "#9c179e"
            ],
            [
             0.4444444444444444,
             "#bd3786"
            ],
            [
             0.5555555555555556,
             "#d8576b"
            ],
            [
             0.6666666666666666,
             "#ed7953"
            ],
            [
             0.7777777777777778,
             "#fb9f3a"
            ],
            [
             0.8888888888888888,
             "#fdca26"
            ],
            [
             1,
             "#f0f921"
            ]
           ]
          },
          "colorway": [
           "#636efa",
           "#EF553B",
           "#00cc96",
           "#ab63fa",
           "#FFA15A",
           "#19d3f3",
           "#FF6692",
           "#B6E880",
           "#FF97FF",
           "#FECB52"
          ],
          "font": {
           "color": "#2a3f5f"
          },
          "geo": {
           "bgcolor": "white",
           "lakecolor": "white",
           "landcolor": "#E5ECF6",
           "showlakes": true,
           "showland": true,
           "subunitcolor": "white"
          },
          "hoverlabel": {
           "align": "left"
          },
          "hovermode": "closest",
          "mapbox": {
           "style": "light"
          },
          "paper_bgcolor": "white",
          "plot_bgcolor": "#E5ECF6",
          "polar": {
           "angularaxis": {
            "gridcolor": "white",
            "linecolor": "white",
            "ticks": ""
           },
           "bgcolor": "#E5ECF6",
           "radialaxis": {
            "gridcolor": "white",
            "linecolor": "white",
            "ticks": ""
           }
          },
          "scene": {
           "xaxis": {
            "backgroundcolor": "#E5ECF6",
            "gridcolor": "white",
            "gridwidth": 2,
            "linecolor": "white",
            "showbackground": true,
            "ticks": "",
            "zerolinecolor": "white"
           },
           "yaxis": {
            "backgroundcolor": "#E5ECF6",
            "gridcolor": "white",
            "gridwidth": 2,
            "linecolor": "white",
            "showbackground": true,
            "ticks": "",
            "zerolinecolor": "white"
           },
           "zaxis": {
            "backgroundcolor": "#E5ECF6",
            "gridcolor": "white",
            "gridwidth": 2,
            "linecolor": "white",
            "showbackground": true,
            "ticks": "",
            "zerolinecolor": "white"
           }
          },
          "shapedefaults": {
           "line": {
            "color": "#2a3f5f"
           }
          },
          "ternary": {
           "aaxis": {
            "gridcolor": "white",
            "linecolor": "white",
            "ticks": ""
           },
           "baxis": {
            "gridcolor": "white",
            "linecolor": "white",
            "ticks": ""
           },
           "bgcolor": "#E5ECF6",
           "caxis": {
            "gridcolor": "white",
            "linecolor": "white",
            "ticks": ""
           }
          },
          "title": {
           "x": 0.05
          },
          "xaxis": {
           "automargin": true,
           "gridcolor": "white",
           "linecolor": "white",
           "ticks": "",
           "title": {
            "standoff": 15
           },
           "zerolinecolor": "white",
           "zerolinewidth": 2
          },
          "yaxis": {
           "automargin": true,
           "gridcolor": "white",
           "linecolor": "white",
           "ticks": "",
           "title": {
            "standoff": 15
           },
           "zerolinecolor": "white",
           "zerolinewidth": 2
          }
         }
        },
        "title": {
         "text": "Logistic Regression Decision Boundary"
        },
        "xaxis": {
         "title": {
          "text": "Mean Perimeter"
         }
        },
        "yaxis": {
         "title": {
          "text": "Mean Compactness"
         }
        }
       }
      }
     },
     "metadata": {},
     "output_type": "display_data"
    }
   ],
   "source": [
    "# Assuming df_data is your DataFrame with \"mean perimeter\", \"mean compactness\", and \"target\"\n",
    "X = df_data[[\"mean perimeter\", \"mean compactness\"]]\n",
    "y = df_data[\"target\"]\n",
    "\n",
    "# Train the logistic regression model\n",
    "model = LogisticRegression()\n",
    "model.fit(X, y)\n",
    "\n",
    "# Get the coefficients and intercept from the model\n",
    "w1, w2 = model.coef_[0]  # coefficients for \"mean perimeter\" and \"mean compactness\"\n",
    "b = model.intercept_[0]  # intercept\n",
    "\n",
    "# Create a function to calculate the decision boundary\n",
    "def decision_boundary(x1):\n",
    "    return - (w1 * x1 + b) / w2\n",
    "\n",
    "# Generate x1 values for the decision boundary\n",
    "x1_values = np.linspace(X[\"mean perimeter\"].min(), X[\"mean perimeter\"].max(), 100)\n",
    "\n",
    "# Calculate the corresponding x2 values for the decision boundary\n",
    "x2_values = decision_boundary(x1_values)\n",
    "\n",
    "# Assign colors manually: Red for target 0 and Blue for target 1\n",
    "colors = df_data[\"target\"].map({0: \"red\", 1: \"blue\"})\n",
    "\n",
    "# Create the scatter plot\n",
    "fig = go.Figure()\n",
    "\n",
    "# Add scatter points (data points)\n",
    "fig.add_trace(go.Scatter(x=df_data[\"mean perimeter\"], y=df_data[\"mean compactness\"],\n",
    "                         mode=\"markers\", \n",
    "                         marker=dict(color=colors),\n",
    "                         name=\"Data\"))\n",
    "\n",
    "# Add decision boundary line (as a line plot)\n",
    "fig.add_trace(go.Scatter(x=x1_values, y=x2_values,\n",
    "                         mode=\"lines\", line=dict(color=\"black\", width=2, dash=\"dash\"),\n",
    "                         name=\"Decision Boundary\"))\n",
    "\n",
    "# Update layout\n",
    "fig.update_layout(title=\"Logistic Regression Decision Boundary\",\n",
    "                  xaxis_title=\"Mean Perimeter\",\n",
    "                  yaxis_title=\"Mean Compactness\",\n",
    "                  showlegend=True)\n",
    "\n",
    "# Show the plot\n",
    "fig.show()"
   ]
  },
  {
   "cell_type": "code",
   "execution_count": null,
   "metadata": {},
   "outputs": [],
   "source": []
  }
 ],
 "metadata": {
  "kernelspec": {
   "display_name": "datascience",
   "language": "python",
   "name": "python3"
  },
  "language_info": {
   "codemirror_mode": {
    "name": "ipython",
    "version": 3
   },
   "file_extension": ".py",
   "mimetype": "text/x-python",
   "name": "python",
   "nbconvert_exporter": "python",
   "pygments_lexer": "ipython3",
   "version": "3.11.7"
  }
 },
 "nbformat": 4,
 "nbformat_minor": 2
}
